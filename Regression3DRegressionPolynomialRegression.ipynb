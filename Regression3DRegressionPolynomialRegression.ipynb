{
 "cells": [
  {
   "cell_type": "code",
   "metadata": {
    "ExecuteTime": {
     "end_time": "2024-07-23T16:30:31.342466Z",
     "start_time": "2024-07-23T16:30:31.339940Z"
    }
   },
   "source": [
    "import pandas as pd \n",
    "import matplotlib.pyplot as plt\n",
    "import pandas.api.types as api\n",
    "import seaborn as sns\n",
    "import numpy as np\n",
    "import scipy.stats as stats\n",
    "from sklearn.preprocessing import PolynomialFeatures\n",
    "from sklearn.preprocessing import MinMaxScaler\n",
    "from sklearn.linear_model import LinearRegression\n",
    "import plotly.graph_objects as go\n",
    "import  warnings\n",
    "warnings.simplefilter(action='ignore', category=[FutureWarning,UserWarning])\n",
    "\n",
    "np.random.seed(0)"
   ],
   "outputs": [],
   "execution_count": 105
  },
  {
   "cell_type": "markdown",
   "metadata": {},
   "source": [
    "3D"
   ]
  },
  {
   "cell_type": "code",
   "metadata": {
    "ExecuteTime": {
     "end_time": "2024-07-23T16:30:31.545761Z",
     "start_time": "2024-07-23T16:30:31.516851Z"
    }
   },
   "source": [
    "data=pd.read_csv(\"/home/batuhan-saylam/Desktop/cbddotasks/cbddotask3/Car details v3(1).csv\",na_values=[pd.NA,np.nan,'',' '])\n",
    "data.drop_duplicates()\n",
    "data[\"mileage\"]=data[\"mileage\"].str.replace(\" kmpl\",\"\")\n",
    "data[\"mileage\"]=data[\"mileage\"].str.replace(\" km/kg\",\"\").apply(float)\n",
    "data[\"engine\"]=data[\"engine\"].str.replace(\" CC\",\"\").apply(float)\n",
    "data[\"engine\"]=data[\"engine\"].replace(\" CC\",\"\").apply(str)\n",
    "data[\"max_power\"]=data[\"max_power\"].str.replace(\" bhp\",\"\")\n",
    "data[\"max_power\"]=data[\"max_power\"].replace('',\"0\").apply(float)\n",
    "data=data.drop(\"torque\",axis=1)"
   ],
   "outputs": [],
   "execution_count": 106
  },
  {
   "cell_type": "code",
   "metadata": {
    "ExecuteTime": {
     "end_time": "2024-07-23T16:30:31.558431Z",
     "start_time": "2024-07-23T16:30:31.550596Z"
    }
   },
   "source": [
    "data"
   ],
   "outputs": [
    {
     "data": {
      "text/plain": [
       "                              name  year  selling_price  km_driven    fuel  \\\n",
       "0           Maruti Swift Dzire VDI  2014         450000     145500  Diesel   \n",
       "1     Skoda Rapid 1.5 TDI Ambition  2014         370000     120000  Diesel   \n",
       "2         Honda City 2017-2020 EXi  2006         158000     140000  Petrol   \n",
       "3        Hyundai i20 Sportz Diesel  2010         225000     127000  Diesel   \n",
       "4           Maruti Swift VXI BSIII  2007         130000     120000  Petrol   \n",
       "...                            ...   ...            ...        ...     ...   \n",
       "8123             Hyundai i20 Magna  2013         320000     110000  Petrol   \n",
       "8124         Hyundai Verna CRDi SX  2007         135000     119000  Diesel   \n",
       "8125        Maruti Swift Dzire ZDi  2009         382000     120000  Diesel   \n",
       "8126               Tata Indigo CR4  2013         290000      25000  Diesel   \n",
       "8127               Tata Indigo CR4  2013         290000      25000  Diesel   \n",
       "\n",
       "     seller_type transmission                 owner  mileage  engine  \\\n",
       "0     Individual       Manual           First Owner    23.40  1248.0   \n",
       "1     Individual       Manual          Second Owner    21.14  1498.0   \n",
       "2     Individual       Manual           Third Owner    17.70  1497.0   \n",
       "3     Individual       Manual           First Owner    23.00  1396.0   \n",
       "4     Individual       Manual           First Owner    16.10  1298.0   \n",
       "...          ...          ...                   ...      ...     ...   \n",
       "8123  Individual       Manual           First Owner    18.50  1197.0   \n",
       "8124  Individual       Manual  Fourth & Above Owner    16.80  1493.0   \n",
       "8125  Individual       Manual           First Owner    19.30  1248.0   \n",
       "8126  Individual       Manual           First Owner    23.57  1396.0   \n",
       "8127  Individual       Manual           First Owner    23.57  1396.0   \n",
       "\n",
       "      max_power  seats  \n",
       "0         74.00    5.0  \n",
       "1        103.52    5.0  \n",
       "2         78.00    5.0  \n",
       "3         90.00    5.0  \n",
       "4         88.20    5.0  \n",
       "...         ...    ...  \n",
       "8123      82.85    5.0  \n",
       "8124     110.00    5.0  \n",
       "8125      73.90    5.0  \n",
       "8126      70.00    5.0  \n",
       "8127      70.00    5.0  \n",
       "\n",
       "[8128 rows x 12 columns]"
      ],
      "text/html": [
       "<div>\n",
       "<style scoped>\n",
       "    .dataframe tbody tr th:only-of-type {\n",
       "        vertical-align: middle;\n",
       "    }\n",
       "\n",
       "    .dataframe tbody tr th {\n",
       "        vertical-align: top;\n",
       "    }\n",
       "\n",
       "    .dataframe thead th {\n",
       "        text-align: right;\n",
       "    }\n",
       "</style>\n",
       "<table border=\"1\" class=\"dataframe\">\n",
       "  <thead>\n",
       "    <tr style=\"text-align: right;\">\n",
       "      <th></th>\n",
       "      <th>name</th>\n",
       "      <th>year</th>\n",
       "      <th>selling_price</th>\n",
       "      <th>km_driven</th>\n",
       "      <th>fuel</th>\n",
       "      <th>seller_type</th>\n",
       "      <th>transmission</th>\n",
       "      <th>owner</th>\n",
       "      <th>mileage</th>\n",
       "      <th>engine</th>\n",
       "      <th>max_power</th>\n",
       "      <th>seats</th>\n",
       "    </tr>\n",
       "  </thead>\n",
       "  <tbody>\n",
       "    <tr>\n",
       "      <th>0</th>\n",
       "      <td>Maruti Swift Dzire VDI</td>\n",
       "      <td>2014</td>\n",
       "      <td>450000</td>\n",
       "      <td>145500</td>\n",
       "      <td>Diesel</td>\n",
       "      <td>Individual</td>\n",
       "      <td>Manual</td>\n",
       "      <td>First Owner</td>\n",
       "      <td>23.40</td>\n",
       "      <td>1248.0</td>\n",
       "      <td>74.00</td>\n",
       "      <td>5.0</td>\n",
       "    </tr>\n",
       "    <tr>\n",
       "      <th>1</th>\n",
       "      <td>Skoda Rapid 1.5 TDI Ambition</td>\n",
       "      <td>2014</td>\n",
       "      <td>370000</td>\n",
       "      <td>120000</td>\n",
       "      <td>Diesel</td>\n",
       "      <td>Individual</td>\n",
       "      <td>Manual</td>\n",
       "      <td>Second Owner</td>\n",
       "      <td>21.14</td>\n",
       "      <td>1498.0</td>\n",
       "      <td>103.52</td>\n",
       "      <td>5.0</td>\n",
       "    </tr>\n",
       "    <tr>\n",
       "      <th>2</th>\n",
       "      <td>Honda City 2017-2020 EXi</td>\n",
       "      <td>2006</td>\n",
       "      <td>158000</td>\n",
       "      <td>140000</td>\n",
       "      <td>Petrol</td>\n",
       "      <td>Individual</td>\n",
       "      <td>Manual</td>\n",
       "      <td>Third Owner</td>\n",
       "      <td>17.70</td>\n",
       "      <td>1497.0</td>\n",
       "      <td>78.00</td>\n",
       "      <td>5.0</td>\n",
       "    </tr>\n",
       "    <tr>\n",
       "      <th>3</th>\n",
       "      <td>Hyundai i20 Sportz Diesel</td>\n",
       "      <td>2010</td>\n",
       "      <td>225000</td>\n",
       "      <td>127000</td>\n",
       "      <td>Diesel</td>\n",
       "      <td>Individual</td>\n",
       "      <td>Manual</td>\n",
       "      <td>First Owner</td>\n",
       "      <td>23.00</td>\n",
       "      <td>1396.0</td>\n",
       "      <td>90.00</td>\n",
       "      <td>5.0</td>\n",
       "    </tr>\n",
       "    <tr>\n",
       "      <th>4</th>\n",
       "      <td>Maruti Swift VXI BSIII</td>\n",
       "      <td>2007</td>\n",
       "      <td>130000</td>\n",
       "      <td>120000</td>\n",
       "      <td>Petrol</td>\n",
       "      <td>Individual</td>\n",
       "      <td>Manual</td>\n",
       "      <td>First Owner</td>\n",
       "      <td>16.10</td>\n",
       "      <td>1298.0</td>\n",
       "      <td>88.20</td>\n",
       "      <td>5.0</td>\n",
       "    </tr>\n",
       "    <tr>\n",
       "      <th>...</th>\n",
       "      <td>...</td>\n",
       "      <td>...</td>\n",
       "      <td>...</td>\n",
       "      <td>...</td>\n",
       "      <td>...</td>\n",
       "      <td>...</td>\n",
       "      <td>...</td>\n",
       "      <td>...</td>\n",
       "      <td>...</td>\n",
       "      <td>...</td>\n",
       "      <td>...</td>\n",
       "      <td>...</td>\n",
       "    </tr>\n",
       "    <tr>\n",
       "      <th>8123</th>\n",
       "      <td>Hyundai i20 Magna</td>\n",
       "      <td>2013</td>\n",
       "      <td>320000</td>\n",
       "      <td>110000</td>\n",
       "      <td>Petrol</td>\n",
       "      <td>Individual</td>\n",
       "      <td>Manual</td>\n",
       "      <td>First Owner</td>\n",
       "      <td>18.50</td>\n",
       "      <td>1197.0</td>\n",
       "      <td>82.85</td>\n",
       "      <td>5.0</td>\n",
       "    </tr>\n",
       "    <tr>\n",
       "      <th>8124</th>\n",
       "      <td>Hyundai Verna CRDi SX</td>\n",
       "      <td>2007</td>\n",
       "      <td>135000</td>\n",
       "      <td>119000</td>\n",
       "      <td>Diesel</td>\n",
       "      <td>Individual</td>\n",
       "      <td>Manual</td>\n",
       "      <td>Fourth &amp; Above Owner</td>\n",
       "      <td>16.80</td>\n",
       "      <td>1493.0</td>\n",
       "      <td>110.00</td>\n",
       "      <td>5.0</td>\n",
       "    </tr>\n",
       "    <tr>\n",
       "      <th>8125</th>\n",
       "      <td>Maruti Swift Dzire ZDi</td>\n",
       "      <td>2009</td>\n",
       "      <td>382000</td>\n",
       "      <td>120000</td>\n",
       "      <td>Diesel</td>\n",
       "      <td>Individual</td>\n",
       "      <td>Manual</td>\n",
       "      <td>First Owner</td>\n",
       "      <td>19.30</td>\n",
       "      <td>1248.0</td>\n",
       "      <td>73.90</td>\n",
       "      <td>5.0</td>\n",
       "    </tr>\n",
       "    <tr>\n",
       "      <th>8126</th>\n",
       "      <td>Tata Indigo CR4</td>\n",
       "      <td>2013</td>\n",
       "      <td>290000</td>\n",
       "      <td>25000</td>\n",
       "      <td>Diesel</td>\n",
       "      <td>Individual</td>\n",
       "      <td>Manual</td>\n",
       "      <td>First Owner</td>\n",
       "      <td>23.57</td>\n",
       "      <td>1396.0</td>\n",
       "      <td>70.00</td>\n",
       "      <td>5.0</td>\n",
       "    </tr>\n",
       "    <tr>\n",
       "      <th>8127</th>\n",
       "      <td>Tata Indigo CR4</td>\n",
       "      <td>2013</td>\n",
       "      <td>290000</td>\n",
       "      <td>25000</td>\n",
       "      <td>Diesel</td>\n",
       "      <td>Individual</td>\n",
       "      <td>Manual</td>\n",
       "      <td>First Owner</td>\n",
       "      <td>23.57</td>\n",
       "      <td>1396.0</td>\n",
       "      <td>70.00</td>\n",
       "      <td>5.0</td>\n",
       "    </tr>\n",
       "  </tbody>\n",
       "</table>\n",
       "<p>8128 rows × 12 columns</p>\n",
       "</div>"
      ]
     },
     "execution_count": 107,
     "metadata": {},
     "output_type": "execute_result"
    }
   ],
   "execution_count": 107
  },
  {
   "cell_type": "code",
   "metadata": {
    "ExecuteTime": {
     "end_time": "2024-07-23T16:30:31.569098Z",
     "start_time": "2024-07-23T16:30:31.564812Z"
    }
   },
   "source": [
    "chosen_idx = np.random.choice(data.index, replace=False, size=100)\n",
    "data=data.loc[chosen_idx,:]\n",
    "data.shape"
   ],
   "outputs": [
    {
     "data": {
      "text/plain": [
       "(100, 12)"
      ]
     },
     "execution_count": 108,
     "metadata": {},
     "output_type": "execute_result"
    }
   ],
   "execution_count": 108
  },
  {
   "cell_type": "code",
   "metadata": {
    "ExecuteTime": {
     "end_time": "2024-07-23T16:30:31.584836Z",
     "start_time": "2024-07-23T16:30:31.582044Z"
    }
   },
   "source": [
    "data=data[[\"selling_price\",\"km_driven\",\"max_power\",\"transmission\"]]"
   ],
   "outputs": [],
   "execution_count": 109
  },
  {
   "cell_type": "code",
   "metadata": {
    "ExecuteTime": {
     "end_time": "2024-07-23T16:30:31.602445Z",
     "start_time": "2024-07-23T16:30:31.596841Z"
    }
   },
   "source": [
    "new_data=data[[\"max_power\",'transmission']].groupby(by=\"transmission\").apply(lambda x: x.fillna(x.mean()))\n",
    "new_data=pd.DataFrame(new_data[\"max_power\"].to_numpy(),columns=[\"max_power\"],index=data.index)\n",
    "data[\"max_power\"]=new_data[\"max_power\"]"
   ],
   "outputs": [],
   "execution_count": 110
  },
  {
   "cell_type": "code",
   "metadata": {
    "ExecuteTime": {
     "end_time": "2024-07-23T16:30:31.936181Z",
     "start_time": "2024-07-23T16:30:31.628772Z"
    }
   },
   "source": [
    "data.hist()"
   ],
   "outputs": [
    {
     "data": {
      "text/plain": [
       "array([[<Axes: title={'center': 'selling_price'}>,\n",
       "        <Axes: title={'center': 'km_driven'}>],\n",
       "       [<Axes: title={'center': 'max_power'}>, <Axes: >]], dtype=object)"
      ]
     },
     "execution_count": 111,
     "metadata": {},
     "output_type": "execute_result"
    },
    {
     "data": {
      "text/plain": [
       "<Figure size 640x480 with 4 Axes>"
      ],
      "image/png": "[encoded data removed]"
     },
     "metadata": {},
     "output_type": "display_data"
    }
   ],
   "execution_count": 111
  },
  {
   "cell_type": "code",
   "metadata": {
    "ExecuteTime": {
     "end_time": "2024-07-23T16:30:32.272911Z",
     "start_time": "2024-07-23T16:30:31.937470Z"
    }
   },
   "source": [
    "data.boxplot()"
   ],
   "outputs": [
    {
     "data": {
      "text/plain": [
       "<Axes: >"
      ]
     },
     "execution_count": 112,
     "metadata": {},
     "output_type": "execute_result"
    },
    {
     "data": {
      "text/plain": [
       "<Figure size 640x480 with 1 Axes>"
      ],
      "image/png": "[encoded data removed]"
     },
     "metadata": {},
     "output_type": "display_data"
    }
   ],
   "execution_count": 112
  },
  {
   "cell_type": "code",
   "metadata": {
    "ExecuteTime": {
     "end_time": "2024-07-23T16:30:32.282609Z",
     "start_time": "2024-07-23T16:30:32.273957Z"
    }
   },
   "source": [
    "\n",
    "for i in [\"selling_price\",\"max_power\",\"km_driven\"]:\n",
    "    Q1 = data[i].quantile(0.25)\n",
    "    Q3 = data[i].quantile(0.75)\n",
    "    IQR = Q3 - Q1\n",
    "    threshold = 1.5\n",
    "    outliers = data[(data[i] < Q1 - threshold * IQR) | (data[i] > Q3 + threshold * IQR)].index\n",
    "    data.loc[outliers,i] = data[i].median()"
   ],
   "outputs": [],
   "execution_count": 113
  },
  {
   "cell_type": "code",
   "metadata": {
    "ExecuteTime": {
     "end_time": "2024-07-23T16:30:32.356015Z",
     "start_time": "2024-07-23T16:30:32.283952Z"
    }
   },
   "source": [
    "data.boxplot()"
   ],
   "outputs": [
    {
     "data": {
      "text/plain": [
       "<Axes: >"
      ]
     },
     "execution_count": 114,
     "metadata": {},
     "output_type": "execute_result"
    },
    {
     "data": {
      "text/plain": [
       "<Figure size 640x480 with 1 Axes>"
      ],
      "image/png": "[encoded data removed]"
     },
     "metadata": {},
     "output_type": "display_data"
    }
   ],
   "execution_count": 114
  },
  {
   "cell_type": "code",
   "metadata": {
    "ExecuteTime": {
     "end_time": "2024-07-23T16:30:32.366090Z",
     "start_time": "2024-07-23T16:30:32.356775Z"
    }
   },
   "source": [
    "data=data.drop(\"transmission\",axis=1)\n",
    "for i in data.columns:\n",
    "    fitted_box_dataA, fitted_box_lambdaA = stats.yeojohnson(data[[i]])\n",
    "    data[i]=fitted_box_dataA"
   ],
   "outputs": [],
   "execution_count": 115
  },
  {
   "cell_type": "code",
   "metadata": {
    "ExecuteTime": {
     "end_time": "2024-07-23T16:30:32.625186Z",
     "start_time": "2024-07-23T16:30:32.367004Z"
    }
   },
   "source": [
    "data.hist()"
   ],
   "outputs": [
    {
     "data": {
      "text/plain": [
       "array([[<Axes: title={'center': 'selling_price'}>,\n",
       "        <Axes: title={'center': 'km_driven'}>],\n",
       "       [<Axes: title={'center': 'max_power'}>, <Axes: >]], dtype=object)"
      ]
     },
     "execution_count": 116,
     "metadata": {},
     "output_type": "execute_result"
    },
    {
     "data": {
      "text/plain": [
       "<Figure size 640x480 with 4 Axes>"
      ],
      "image/png": "[encoded data removed]"
     },
     "metadata": {},
     "output_type": "display_data"
    }
   ],
   "execution_count": 116
  },
  {
   "cell_type": "code",
   "metadata": {
    "ExecuteTime": {
     "end_time": "2024-07-23T16:30:32.630276Z",
     "start_time": "2024-07-23T16:30:32.626173Z"
    }
   },
   "source": [
    "transf = MinMaxScaler((0,1))\n",
    "transformedData = transf.fit_transform(data)\n",
    "transformedData=pd.DataFrame(transformedData,columns=data.columns)"
   ],
   "outputs": [],
   "execution_count": 117
  },
  {
   "cell_type": "code",
   "metadata": {
    "ExecuteTime": {
     "end_time": "2024-07-23T16:30:32.873075Z",
     "start_time": "2024-07-23T16:30:32.631243Z"
    }
   },
   "source": [
    "transformedData.hist()"
   ],
   "outputs": [
    {
     "data": {
      "text/plain": [
       "array([[<Axes: title={'center': 'selling_price'}>,\n",
       "        <Axes: title={'center': 'km_driven'}>],\n",
       "       [<Axes: title={'center': 'max_power'}>, <Axes: >]], dtype=object)"
      ]
     },
     "execution_count": 118,
     "metadata": {},
     "output_type": "execute_result"
    },
    {
     "data": {
      "text/plain": [
       "<Figure size 640x480 with 4 Axes>"
      ],
      "image/png": "[encoded data removed]"
     },
     "metadata": {},
     "output_type": "display_data"
    }
   ],
   "execution_count": 118
  },
  {
   "cell_type": "code",
   "metadata": {
    "ExecuteTime": {
     "end_time": "2024-07-23T16:30:32.980496Z",
     "start_time": "2024-07-23T16:30:32.873938Z"
    }
   },
   "source": [
    "sns.heatmap(transformedData.select_dtypes(include=np.number).corr(method=\"spearman\"),annot=True)"
   ],
   "outputs": [
    {
     "data": {
      "text/plain": [
       "<Axes: >"
      ]
     },
     "execution_count": 119,
     "metadata": {},
     "output_type": "execute_result"
    },
    {
     "data": {
      "text/plain": [
       "<Figure size 640x480 with 2 Axes>"
      ],
      "image/png": "[encoded data removed]"
     },
     "metadata": {},
     "output_type": "display_data"
    }
   ],
   "execution_count": 119
  },
  {
   "cell_type": "code",
   "metadata": {
    "ExecuteTime": {
     "end_time": "2024-07-23T16:30:33.101595Z",
     "start_time": "2024-07-23T16:30:32.982485Z"
    }
   },
   "source": [
    "sns.heatmap(transformedData.select_dtypes(include=np.number).corr(method=\"pearson\"),annot=True)"
   ],
   "outputs": [
    {
     "data": {
      "text/plain": [
       "<Axes: >"
      ]
     },
     "execution_count": 120,
     "metadata": {},
     "output_type": "execute_result"
    },
    {
     "data": {
      "text/plain": [
       "<Figure size 640x480 with 2 Axes>"
      ],
      "image/png": "[encoded data removed]"
     },
     "metadata": {},
     "output_type": "display_data"
    }
   ],
   "execution_count": 120
  },
  {
   "cell_type": "code",
   "metadata": {
    "ExecuteTime": {
     "end_time": "2024-07-23T16:30:33.105435Z",
     "start_time": "2024-07-23T16:30:33.102439Z"
    }
   },
   "source": [
    "X=transformedData[[\"km_driven\",\"max_power\"]]\n",
    "y=data[\"selling_price\"]"
   ],
   "outputs": [],
   "execution_count": 121
  },
  {
   "cell_type": "code",
   "metadata": {
    "ExecuteTime": {
     "end_time": "2024-07-23T16:30:33.113559Z",
     "start_time": "2024-07-23T16:30:33.106299Z"
    }
   },
   "source": [
    "model = LinearRegression().fit(X, y)\n",
    "pred = model.predict(X)\n",
    "temp = []\n",
    "for x in range(len(transformedData[\"km_driven\"])):\n",
    "    temp.append([transformedData[\"km_driven\"][x],transformedData[\"max_power\"][x],pred[x]])\n",
    "temp.sort(key=lambda x: x[0])\n",
    "\n",
    "x1 = []\n",
    "x2=[]\n",
    "y_pred = []\n",
    "for a in temp:\n",
    "    x1.append(a[0])\n",
    "    x2.append(a[1])\n",
    "    y_pred.append(a[2])\n"
   ],
   "outputs": [],
   "execution_count": 122
  },
  {
   "cell_type": "code",
   "metadata": {
    "ExecuteTime": {
     "end_time": "2024-07-23T16:30:33.117890Z",
     "start_time": "2024-07-23T16:30:33.114223Z"
    }
   },
   "source": [
    "mesh_size = .02\n",
    "margin = 0\n",
    "\n",
    "x1i = np.arange(transformedData[\"km_driven\"].min()-margin, transformedData[\"km_driven\"].max()+margin, mesh_size)\n",
    "x2i = np.arange(transformedData[\"max_power\"].min()-margin, transformedData[\"max_power\"].max()+margin, mesh_size)\n",
    "X1,X2= np.meshgrid(x1i,x2i)\n",
    "input_data=np.c_[X1.ravel(),X2.ravel()]\n",
    "input_data=pd.DataFrame(input_data,columns=[\"km_driven\",\"max_power\"])\n",
    "pred = model.predict(input_data)\n",
    "pred = pred.reshape(X1.shape)\n"
   ],
   "outputs": [],
   "execution_count": 123
  },
  {
   "cell_type": "code",
   "metadata": {
    "ExecuteTime": {
     "end_time": "2024-07-23T16:30:33.131428Z",
     "start_time": "2024-07-23T16:30:33.118468Z"
    }
   },
   "source": [
    "mycolorscale = [[0, '#aa9ce2'],\n",
    "                [1, '#aa9ce2']]\n",
    "\n",
    "\n",
    "fig = go.Figure(data=[go.Scatter3d(x=x1, y=x2, z=y,mode='markers')])\n",
    "\n",
    "fig.add_trace(go.Surface(x=x1i ,y=x2i, z=pred, colorscale=mycolorscale, showscale=False))\n",
    "\n",
    "fig.update_layout(\n",
    "                width=1000,\n",
    "                height=1000,\n",
    "                scene_camera_eye_z=1,scene_camera_eye_y=2)\n",
    "fig.show()"
   ],
   "outputs": [
    {
     "data": {
      "application/vnd.plotly.v1+json": {
       "data": [
        {
         "mode": "markers",
         "x": [
          0.0,
          0.014462415088110553,
          0.048754868948410274,
          0.048754868948410274,
          0.09921175323558473,
          0.142061943334867,
          0.15200273484109597,
          0.15200273484109597,
          0.20712243067192584,
          0.20712243067192584,
          0.20712243067192584,
          0.2486691586432239,
          0.2486691586432239,
          0.2486691586432239,
          0.2486691586432239,
          0.26444804145617906,
          0.2706433074228397,
          0.287364693436684,
          0.287364693436684,
          0.287364693436684,
          0.32383956752821885,
          0.3309076755019078,
          0.35851530306772517,
          0.35851530306772517,
          0.35851530306772517,
          0.35851530306772517,
          0.35851530306772517,
          0.35851530306772517,
          0.35851530306772517,
          0.3741004192458597,
          0.3785852088535798,
          0.3895104386041933,
          0.410971391909977,
          0.410971391909977,
          0.4235890702719304,
          0.4235890702719304,
          0.4235890702719304,
          0.4235890702719304,
          0.4235890702719304,
          0.4235890702719304,
          0.43602995149934365,
          0.46216084750514264,
          0.463385591535439,
          0.46641672528742384,
          0.4744161632629783,
          0.4841969859323624,
          0.4841969859323624,
          0.4841969859323624,
          0.4841969859323624,
          0.5413266755148816,
          0.5413266755148816,
          0.5413266755148816,
          0.5413266755148816,
          0.5413266755148816,
          0.5413266755148816,
          0.5413266755148816,
          0.5413266755148816,
          0.5413266755148816,
          0.5413266755148816,
          0.5413266755148816,
          0.5413266755148816,
          0.5413266755148816,
          0.5578918427894118,
          0.5903195437011428,
          0.5956383794928384,
          0.5956383794928384,
          0.5956383794928384,
          0.5956383794928384,
          0.5956383794928384,
          0.5998765839487468,
          0.6062062522015733,
          0.6062062522015733,
          0.6373781986057344,
          0.6412416405228594,
          0.6476007869256523,
          0.6476007869256523,
          0.6476007869256523,
          0.6476007869256523,
          0.6975616523739158,
          0.6975616523739158,
          0.6975616523739158,
          0.7457879221595202,
          0.7457879221595202,
          0.7457879221595202,
          0.7457879221595202,
          0.7457879221595202,
          0.7924901147835742,
          0.7924901147835742,
          0.7924901147835742,
          0.7924901147835742,
          0.7924901147835742,
          0.7924901147835742,
          0.7924901147835742,
          0.7924901147835742,
          0.8032995515934787,
          0.8062298173454568,
          0.8819706856008416,
          0.8819706856008416,
          0.9794650789441687,
          0.9999999999999999
         ],
         "y": [
          0.3450900598680071,
          0.7630395323306253,
          0.8381852441632668,
          0.35505681489639607,
          0.4115445555321515,
          0.3650843049048086,
          0.6441947486753999,
          0.3649852122753089,
          0.5012506760136434,
          0.5542004248309788,
          0.5097321702137775,
          0.5536438675463241,
          0.5266238962842641,
          0.45272210985485084,
          0.3649852122753089,
          0.8849521409057975,
          0.30482477997837243,
          0.688118860396216,
          0.4131022255887723,
          0.7332576576885982,
          0.41407531979332624,
          0.29567389962915747,
          0.3450900598680071,
          0.5545714080318348,
          0.6747320709109393,
          0.29567389962915747,
          0.5545714080318348,
          0.7455501310568214,
          0.6621908645081226,
          0.6441947486753999,
          0.4431102210322557,
          0.5539221585652293,
          0.8321931747609607,
          0.9837663970706599,
          0.5298306035438921,
          0.34608848167366935,
          0.48952538094464526,
          0.9835187136506555,
          0.34558931956446437,
          0.023483689694509424,
          0.5097321702137775,
          0.5298306035438921,
          0.533033956044343,
          0.34548947543505837,
          0.37487594448955786,
          0.34608848167366935,
          0.7323780305673536,
          0.5536438675463241,
          0.843314008394784,
          0.5298306035438921,
          0.433465489752876,
          0.34608848167366935,
          0.41378342779721977,
          0.023483689694509424,
          0.6441947486753999,
          0.41407531979332624,
          0.5536438675463241,
          0.5266238962842641,
          0.5542004248309788,
          0.533033956044343,
          0.139665468677038,
          0.34548947543505837,
          0.7014546221366288,
          0.6747320709109393,
          0.5517879607316315,
          0.5542004248309788,
          0.5539221585652293,
          0.4237873750489375,
          0.5078494669300674,
          0.34548947543505837,
          0.433465489752876,
          0.6747320709109393,
          0.8859664382618552,
          0.661921623131778,
          0.5536438675463241,
          0.5266238962842641,
          0.0,
          0.41407531979332624,
          0.6441947486753999,
          0.49085153073235255,
          0.41378342779721977,
          0.6478016061768123,
          0.46134516410992055,
          0.6568020078462994,
          0.12869742412460095,
          0.5266238962842641,
          0.5536438675463241,
          0.5298306035438921,
          1.0,
          0.6024336766801922,
          0.7754070205077518,
          0.41378342779721977,
          0.5298306035438921,
          0.5542004248309788,
          0.30482477997837243,
          0.39846399578423486,
          0.34548947543505837,
          0.6441947486753999,
          0.5359678714016912,
          0.29567389962915747
         ],
         "z": [
          2504.340094885712,
          4325.490627749099,
          3005.060875343073,
          1371.4553946275435,
          2858.099106944524,
          3040.9549548340606,
          3561.675137578029,
          2968.8364806439035,
          2913.8650100519185,
          783.6407270395327,
          3778.725317933154,
          2036.3050578127259,
          3778.725317933154,
          3433.0476551739293,
          1509.6540776362924,
          3465.54200122119,
          3748.301263307771,
          2084.2535313392573,
          4044.6811367505693,
          2312.553741681085,
          1987.483816525951,
          2433.231352587007,
          923.4930827892188,
          1008.4131493374831,
          4849.525115055794,
          2420.5195760156867,
          966.6566852288162,
          2858.099106944524,
          3671.4116823736763,
          2724.6608484945746,
          2740.158501989414,
          2724.6608484945746,
          1808.9526770663006,
          3481.703171694347,
          1987.483816525951,
          1728.245819198764,
          1305.050989143008,
          3655.887586118113,
          2312.553741681085,
          3300.6729582782837,
          4460.8399944556295,
          3266.9496328449904,
          2724.6608484945746,
          3023.0499335774452,
          1782.3572667786045,
          2312.553741681085,
          3058.7878442885713,
          2441.6780868662067,
          4044.6811367505693,
          3023.0499335774452,
          3400.3193912217594,
          2895.366529433846,
          3868.908774948755,
          2858.099106944524,
          2782.440039792855,
          2820.4611227359283,
          3181.466776034581,
          2705.194675682849,
          2913.8650100519185,
          4242.722256073363,
          3164.161604688757,
          1755.4589083510662,
          4130.434777187448,
          5096.041336150017,
          3748.301263307771,
          4141.767076792064,
          2524.965669208165,
          3655.887586118113,
          2724.6608484945746,
          3748.301263307771,
          3655.887586118113,
          3596.4359719703743,
          2724.6608484945746,
          3517.059968938457,
          1755.4589083510662,
          3094.213227945625,
          1305.050989143008,
          2483.5854717634497,
          1962.7383375962488,
          2420.5195760156867,
          2177.7394029782295,
          3593.286395440848,
          2420.5195760156867,
          2858.099106944524,
          1008.4131493374831,
          2858.099106944524,
          2084.2535313392573,
          2084.2535313392573,
          4067.6821546784095,
          2524.965669208165,
          2084.2535313392573,
          2356.187966815977,
          3898.618767183138,
          1861.2730167767122,
          2685.6221682594064,
          1410.1562928179237,
          2858.099106944524,
          2312.553741681085,
          3164.161604688757,
          2763.277876606988
         ],
         "type": "scatter3d"
        },
        {
         "colorscale": [
          [
           0,
           "#aa9ce2"
          ],
          [
           1,
           "#aa9ce2"
          ]
         ],
         "showscale": false,
         "x": [
          0.0,
          0.02,
          0.04,
          0.06,
          0.08,
          0.1,
          0.12,
          0.14,
          0.16,
          0.18,
          0.2,
          0.22,
          0.24,
          0.26,
          0.28,
          0.3,
          0.32,
          0.34,
          0.36,
          0.38,
          0.4,
          0.42,
          0.44,
          0.46,
          0.48,
          0.5,
          0.52,
          0.54,
          0.56,
          0.58,
          0.6,
          0.62,
          0.64,
          0.66,
          0.68,
          0.7000000000000001,
          0.72,
          0.74,
          0.76,
          0.78,
          0.8,
          0.8200000000000001,
          0.84,
          0.86,
          0.88,
          0.9,
          0.92,
          0.9400000000000001,
          0.96,
          0.98
         ],
         "y": [
          0.0,
          0.02,
          0.04,
          0.06,
          0.08,
          0.1,
          0.12,
          0.14,
          0.16,
          0.18,
          0.2,
          0.22,
          0.24,
          0.26,
          0.28,
          0.3,
          0.32,
          0.34,
          0.36,
          0.38,
          0.4,
          0.42,
          0.44,
          0.46,
          0.48,
          0.5,
          0.52,
          0.54,
          0.56,
          0.58,
          0.6,
          0.62,
          0.64,
          0.66,
          0.68,
          0.7000000000000001,
          0.72,
          0.74,
          0.76,
          0.78,
          0.8,
          0.8200000000000001,
          0.84,
          0.86,
          0.88,
          0.9,
          0.92,
          0.9400000000000001,
          0.96,
          0.98
         ],
         "z": [
          [
           3047.0467479635736,
           3017.913877748624,
           2988.781007533675,
           2959.6481373187257,
           2930.5152671037763,
           2901.3823968888273,
           2872.249526673878,
           2843.1166564589284,
           2813.9837862439795,
           2784.85091602903,
           2755.7180458140806,
           2726.5851755991316,
           2697.452305384182,
           2668.3194351692327,
           2639.1865649542833,
           2610.0536947393343,
           2580.920824524385,
           2551.787954309436,
           2522.6550840944865,
           2493.522213879537,
           2464.3893436645876,
           2435.2564734496386,
           2406.123603234689,
           2376.99073301974,
           2347.857862804791,
           2318.7249925898413,
           2289.592122374892,
           2260.459252159943,
           2231.3263819449935,
           2202.1935117300445,
           2173.060641515095,
           2143.9277713001457,
           2114.794901085196,
           2085.6620308702472,
           2056.529160655298,
           2027.3962904403484,
           1998.2634202253994,
           1969.13055001045,
           1939.9976797955007,
           1910.8648095805515,
           1881.731939365602,
           1852.599069150653,
           1823.4661989357037,
           1794.3333287207543,
           1765.200458505805,
           1736.0675882908558,
           1706.9347180759064,
           1677.8018478609572,
           1648.668977646008,
           1619.5361074310586
          ],
          [
           3065.9199309182804,
           3036.787060703331,
           3007.6541904883816,
           2978.5213202734326,
           2949.388450058483,
           2920.2555798435337,
           2891.1227096285847,
           2861.9898394136353,
           2832.856969198686,
           2803.724098983737,
           2774.5912287687875,
           2745.458358553838,
           2716.325488338889,
           2687.1926181239396,
           2658.05974790899,
           2628.926877694041,
           2599.7940074790918,
           2570.6611372641423,
           2541.5282670491933,
           2512.395396834244,
           2483.2625266192945,
           2454.1296564043455,
           2424.996786189396,
           2395.8639159744466,
           2366.7310457594976,
           2337.598175544548,
           2308.465305329599,
           2279.3324351146493,
           2250.1995648997004,
           2221.0666946847514,
           2191.933824469802,
           2162.8009542548525,
           2133.668084039903,
           2104.5352138249536,
           2075.4023436100047,
           2046.2694733950552,
           2017.136603180106,
           1988.0037329651568,
           1958.8708627502074,
           1929.7379925352582,
           1900.6051223203087,
           1871.4722521053595,
           1842.3393818904103,
           1813.2065116754611,
           1784.0736414605117,
           1754.9407712455625,
           1725.807901030613,
           1696.6750308156638,
           1667.5421606007146,
           1638.4092903857654
          ],
          [
           3084.793113872987,
           3055.660243658038,
           3026.5273734430884,
           2997.394503228139,
           2968.26163301319,
           2939.1287627982406,
           2909.995892583291,
           2880.863022368342,
           2851.7301521533927,
           2822.5972819384433,
           2793.4644117234943,
           2764.331541508545,
           2735.1986712935955,
           2706.0658010786465,
           2676.932930863697,
           2647.8000606487476,
           2618.6671904337986,
           2589.534320218849,
           2560.4014500038998,
           2531.268579788951,
           2502.1357095740013,
           2473.002839359052,
           2443.8699691441025,
           2414.7370989291535,
           2385.604228714204,
           2356.471358499255,
           2327.3384882843056,
           2298.205618069356,
           2269.0727478544068,
           2239.939877639458,
           2210.8070074245084,
           2181.6741372095594,
           2152.54126699461,
           2123.4083967796605,
           2094.275526564711,
           2065.142656349762,
           2036.0097861348127,
           2006.8769159198634,
           1977.7440457049142,
           1948.6111754899648,
           1919.4783052750156,
           1890.3454350600662,
           1861.2125648451172,
           1832.0796946301678,
           1802.9468244152185,
           1773.813954200269,
           1744.68108398532,
           1715.5482137703705,
           1686.4153435554215,
           1657.282473340472
          ],
          [
           3103.6662968276937,
           3074.5334266127443,
           3045.4005563977953,
           3016.267686182846,
           2987.1348159678964,
           2958.0019457529474,
           2928.869075537998,
           2899.7362053230486,
           2870.6033351080996,
           2841.47046489315,
           2812.3375946782007,
           2783.2047244632518,
           2754.0718542483023,
           2724.938984033353,
           2695.806113818404,
           2666.6732436034545,
           2637.540373388505,
           2608.407503173556,
           2579.2746329586066,
           2550.141762743657,
           2521.008892528708,
           2491.8760223137588,
           2462.7431520988093,
           2433.61028188386,
           2404.477411668911,
           2375.3445414539615,
           2346.2116712390125,
           2317.078801024063,
           2287.9459308091136,
           2258.8130605941647,
           2229.680190379215,
           2200.547320164266,
           2171.414449949317,
           2142.2815797343674,
           2113.148709519418,
           2084.0158393044685,
           2054.8829690895195,
           2025.75009887457,
           1996.6172286596209,
           1967.4843584446717,
           1938.3514882297222,
           1909.218618014773,
           1880.0857477998238,
           1850.9528775848746,
           1821.8200073699252,
           1792.687137154976,
           1763.5542669400265,
           1734.4213967250773,
           1705.2885265101281,
           1676.155656295179
          ],
          [
           3122.5394797824006,
           3093.406609567451,
           3064.2737393525017,
           3035.1408691375527,
           3006.0079989226033,
           2976.875128707654,
           2947.742258492705,
           2918.6093882777554,
           2889.476518062806,
           2860.343647847857,
           2831.2107776329076,
           2802.077907417958,
           2772.945037203009,
           2743.8121669880597,
           2714.6792967731103,
           2685.5464265581613,
           2656.413556343212,
           2627.2806861282625,
           2598.1478159133135,
           2569.014945698364,
           2539.8820754834146,
           2510.7492052684656,
           2481.616335053516,
           2452.4834648385668,
           2423.350594623618,
           2394.2177244086683,
           2365.084854193719,
           2335.95198397877,
           2306.8191137638205,
           2277.686243548871,
           2248.553373333922,
           2219.4205031189726,
           2190.287632904023,
           2161.1547626890742,
           2132.021892474125,
           2102.8890222591754,
           2073.7561520442264,
           2044.623281829277,
           2015.4904116143275,
           1986.3575413993783,
           1957.224671184429,
           1928.0918009694797,
           1898.9589307545305,
           1869.8260605395812,
           1840.6931903246318,
           1811.5603201096826,
           1782.4274498947334,
           1753.294579679784,
           1724.1617094648348,
           1695.0288392498856
          ],
          [
           3141.412662737107,
           3112.279792522158,
           3083.1469223072086,
           3054.014052092259,
           3024.88118187731,
           2995.7483116623607,
           2966.6154414474113,
           2937.4825712324623,
           2908.349701017513,
           2879.2168308025634,
           2850.0839605876145,
           2820.951090372665,
           2791.8182201577156,
           2762.6853499427666,
           2733.552479727817,
           2704.4196095128677,
           2675.2867392979188,
           2646.1538690829693,
           2617.02099886802,
           2587.888128653071,
           2558.7552584381215,
           2529.6223882231725,
           2500.489518008223,
           2471.3566477932736,
           2442.223777578324,
           2413.090907363375,
           2383.958037148426,
           2354.8251669334763,
           2325.6922967185274,
           2296.559426503578,
           2267.4265562886285,
           2238.2936860736795,
           2209.16081585873,
           2180.0279456437806,
           2150.8950754288317,
           2121.762205213882,
           2092.629334998933,
           2063.496464783984,
           2034.3635945690344,
           2005.230724354085,
           1976.0978541391357,
           1946.9649839241863,
           1917.8321137092373,
           1888.6992434942879,
           1859.5663732793387,
           1830.4335030643892,
           1801.30063284944,
           1772.1677626344906,
           1743.0348924195416,
           1713.9020222045922
          ],
          [
           3160.285845691814,
           3131.1529754768644,
           3102.0201052619154,
           3072.887235046966,
           3043.7543648320166,
           3014.6214946170676,
           2985.488624402118,
           2956.3557541871687,
           2927.2228839722197,
           2898.0900137572703,
           2868.957143542321,
           2839.824273327372,
           2810.6914031124224,
           2781.558532897473,
           2752.425662682524,
           2723.2927924675746,
           2694.159922252625,
           2665.027052037676,
           2635.8941818227268,
           2606.7613116077773,
           2577.6284413928283,
           2548.495571177879,
           2519.3627009629295,
           2490.2298307479805,
           2461.096960533031,
           2431.9640903180816,
           2402.831220103132,
           2373.698349888183,
           2344.5654796732338,
           2315.432609458285,
           2286.2997392433354,
           2257.166869028386,
           2228.0339988134365,
           2198.9011285984875,
           2169.768258383538,
           2140.635388168589,
           2111.5025179536397,
           2082.36964773869,
           2053.236777523741,
           2024.1039073087918,
           1994.9710370938424,
           1965.8381668788932,
           1936.705296663944,
           1907.5724264489947,
           1878.4395562340453,
           1849.306686019096,
           1820.1738158041467,
           1791.0409455891975,
           1761.9080753742483,
           1732.775205159299
          ],
          [
           3179.1590286465207,
           3150.0261584315713,
           3120.893288216622,
           3091.760418001673,
           3062.6275477867234,
           3033.494677571774,
           3004.361807356825,
           2975.2289371418756,
           2946.096066926926,
           2916.963196711977,
           2887.8303264970277,
           2858.6974562820783,
           2829.5645860671293,
           2800.43171585218,
           2771.2988456372304,
           2742.1659754222815,
           2713.033105207332,
           2683.9002349923826,
           2654.7673647774336,
           2625.634494562484,
           2596.5016243475347,
           2567.3687541325858,
           2538.2358839176363,
           2509.103013702687,
           2479.970143487738,
           2450.8372732727885,
           2421.704403057839,
           2392.5715328428896,
           2363.4386626279406,
           2334.3057924129917,
           2305.172922198042,
           2276.040051983093,
           2246.9071817681433,
           2217.774311553194,
           2188.641441338245,
           2159.5085711232955,
           2130.3757009083465,
           2101.242830693397,
           2072.1099604784476,
           2042.9770902634984,
           2013.8442200485492,
           1984.7113498335998,
           1955.5784796186508,
           1926.4456094037014,
           1897.3127391887522,
           1868.1798689738027,
           1839.0469987588535,
           1809.914128543904,
           1780.7812583289551,
           1751.6483881140057
          ],
          [
           3198.032211601227,
           3168.899341386278,
           3139.7664711713287,
           3110.6336009563793,
           3081.5007307414303,
           3052.367860526481,
           3023.2349903115314,
           2994.1021200965824,
           2964.969249881633,
           2935.8363796666836,
           2906.7035094517346,
           2877.570639236785,
           2848.4377690218357,
           2819.3048988068867,
           2790.1720285919373,
           2761.039158376988,
           2731.906288162039,
           2702.7734179470895,
           2673.64054773214,
           2644.507677517191,
           2615.3748073022416,
           2586.241937087292,
           2557.109066872343,
           2527.9761966573938,
           2498.843326442445,
           2469.7104562274953,
           2440.577586012546,
           2411.4447157975965,
           2382.311845582647,
           2353.178975367698,
           2324.046105152749,
           2294.9132349377996,
           2265.78036472285,
           2236.647494507901,
           2207.5146242929513,
           2178.3817540780024,
           2149.2488838630534,
           2120.116013648104,
           2090.9831434331545,
           2061.850273218205,
           2032.7174030032559,
           2003.5845327883067,
           1974.4516625733575,
           1945.318792358408,
           1916.1859221434588,
           1887.0530519285094,
           1857.9201817135602,
           1828.787311498611,
           1799.6544412836618,
           1770.5215710687123
          ],
          [
           3216.905394555934,
           3187.7725243409845,
           3158.6396541260356,
           3129.506783911086,
           3100.3739136961367,
           3071.2410434811877,
           3042.1081732662383,
           3012.975303051289,
           2983.84243283634,
           2954.7095626213904,
           2925.576692406441,
           2896.443822191492,
           2867.3109519765426,
           2838.178081761593,
           2809.045211546644,
           2779.9123413316947,
           2750.7794711167453,
           2721.6466009017963,
           2692.513730686847,
           2663.3808604718974,
           2634.2479902569485,
           2605.115120041999,
           2575.9822498270496,
           2546.8493796121006,
           2517.716509397151,
           2488.583639182202,
           2459.4507689672528,
           2430.3178987523033,
           2401.185028537354,
           2372.052158322405,
           2342.9192881074555,
           2313.786417892506,
           2284.653547677557,
           2255.5206774626076,
           2226.387807247658,
           2197.2549370327088,
           2168.12206681776,
           2138.9891966028104,
           2109.8563263878614,
           2080.723456172912,
           2051.5905859579625,
           2022.4577157430133,
           1993.324845528064,
           1964.1919753131149,
           1935.0591050981654,
           1905.9262348832162,
           1876.7933646682668,
           1847.6604944533176,
           1818.5276242383684,
           1789.3947540234192
          ],
          [
           3235.778577510641,
           3206.6457072956914,
           3177.5128370807424,
           3148.379966865793,
           3119.2470966508436,
           3090.114226435894,
           3060.981356220945,
           3031.8484860059957,
           3002.7156157910463,
           2973.5827455760973,
           2944.449875361148,
           2915.3170051461984,
           2886.1841349312494,
           2857.0512647163,
           2827.9183945013506,
           2798.7855242864016,
           2769.652654071452,
           2740.5197838565027,
           2711.3869136415537,
           2682.2540434266043,
           2653.121173211655,
           2623.988302996706,
           2594.8554327817565,
           2565.722562566807,
           2536.589692351858,
           2507.4568221369086,
           2478.323951921959,
           2449.19108170701,
           2420.0582114920608,
           2390.9253412771113,
           2361.7924710621623,
           2332.659600847213,
           2303.5267306322635,
           2274.3938604173145,
           2245.260990202365,
           2216.1281199874156,
           2186.9952497724667,
           2157.862379557517,
           2128.729509342568,
           2099.596639127619,
           2070.4637689126694,
           2041.33089869772,
           2012.198028482771,
           1983.0651582678215,
           1953.9322880528723,
           1924.7994178379229,
           1895.6665476229737,
           1866.5336774080242,
           1837.4008071930753,
           1808.2679369781258
          ],
          [
           3254.6517604653473,
           3225.5188902503983,
           3196.386020035449,
           3167.2531498205,
           3138.1202796055504,
           3108.987409390601,
           3079.8545391756516,
           3050.7216689607026,
           3021.588798745753,
           2992.4559285308037,
           2963.3230583158547,
           2934.1901881009053,
           2905.057317885956,
           2875.924447671007,
           2846.7915774560574,
           2817.6587072411085,
           2788.525837026159,
           2759.3929668112096,
           2730.26009659626,
           2701.127226381311,
           2671.9943561663617,
           2642.8614859514128,
           2613.7286157364633,
           2584.595745521514,
           2555.4628753065645,
           2526.3300050916155,
           2497.197134876666,
           2468.0642646617166,
           2438.9313944467676,
           2409.798524231818,
           2380.6656540168688,
           2351.53278380192,
           2322.3999135869703,
           2293.267043372021,
           2264.134173157072,
           2235.0013029421225,
           2205.868432727173,
           2176.735562512224,
           2147.6026922972746,
           2118.469822082325,
           2089.3369518673762,
           2060.204081652427,
           2031.0712114374776,
           2001.9383412225282,
           1972.805471007579,
           1943.6726007926297,
           1914.5397305776803,
           1885.406860362731,
           1856.273990147782,
           1827.1411199328325
          ],
          [
           3273.524943420054,
           3244.3920732051047,
           3215.2592029901557,
           3186.1263327752063,
           3156.993462560257,
           3127.860592345308,
           3098.7277221303584,
           3069.594851915409,
           3040.46198170046,
           3011.3291114855106,
           2982.196241270561,
           2953.063371055612,
           2923.9305008406627,
           2894.7976306257133,
           2865.6647604107643,
           2836.531890195815,
           2807.3990199808654,
           2778.2661497659165,
           2749.133279550967,
           2720.0004093360176,
           2690.8675391210686,
           2661.734668906119,
           2632.6017986911697,
           2603.4689284762208,
           2574.3360582612713,
           2545.203188046322,
           2516.070317831373,
           2486.9374476164235,
           2457.804577401474,
           2428.671707186525,
           2399.5388369715756,
           2370.405966756626,
           2341.273096541677,
           2312.1402263267278,
           2283.0073561117783,
           2253.8744858968294,
           2224.74161568188,
           2195.6087454669305,
           2166.4758752519815,
           2137.343005037032,
           2108.2101348220826,
           2079.0772646071337,
           2049.944394392184,
           2020.811524177235,
           1991.6786539622856,
           1962.5457837473364,
           1933.412913532387,
           1904.2800433174377,
           1875.1471731024885,
           1846.0143028875393
          ],
          [
           3292.398126374761,
           3263.2652561598115,
           3234.1323859448626,
           3204.999515729913,
           3175.8666455149637,
           3146.7337753000147,
           3117.6009050850653,
           3088.468034870116,
           3059.335164655167,
           3030.2022944402174,
           3001.069424225268,
           2971.936554010319,
           2942.8036837953696,
           2913.67081358042,
           2884.5379433654707,
           2855.4050731505217,
           2826.2722029355723,
           2797.139332720623,
           2768.006462505674,
           2738.8735922907244,
           2709.740722075775,
           2680.607851860826,
           2651.4749816458766,
           2622.342111430927,
           2593.209241215978,
           2564.0763710010287,
           2534.9435007860793,
           2505.8106305711303,
           2476.677760356181,
           2447.544890141232,
           2418.4120199262825,
           2389.279149711333,
           2360.1462794963836,
           2331.0134092814346,
           2301.880539066485,
           2272.7476688515358,
           2243.614798636587,
           2214.4819284216373,
           2185.349058206688,
           2156.216187991739,
           2127.0833177767895,
           2097.95044756184,
           2068.817577346891,
           2039.6847071319417,
           2010.5518369169924,
           1981.418966702043,
           1952.2860964870938,
           1923.1532262721444,
           1894.0203560571954,
           1864.887485842246
          ],
          [
           3311.271309329468,
           3282.1384391145184,
           3253.005568899569,
           3223.87269868462,
           3194.7398284696706,
           3165.606958254721,
           3136.474088039772,
           3107.3412178248227,
           3078.2083476098733,
           3049.0754773949243,
           3019.942607179975,
           2990.8097369650254,
           2961.6768667500764,
           2932.543996535127,
           2903.4111263201776,
           2874.2782561052286,
           2845.145385890279,
           2816.0125156753297,
           2786.8796454603807,
           2757.7467752454313,
           2728.613905030482,
           2699.481034815533,
           2670.3481646005835,
           2641.215294385634,
           2612.082424170685,
           2582.9495539557356,
           2553.816683740786,
           2524.6838135258367,
           2495.5509433108878,
           2466.4180730959383,
           2437.2852028809893,
           2408.15233266604,
           2379.0194624510905,
           2349.886592236141,
           2320.753722021192,
           2291.6208518062426,
           2262.4879815912936,
           2233.355111376344,
           2204.222241161395,
           2175.0893709464453,
           2145.9565007314964,
           2116.823630516547,
           2087.690760301598,
           2058.5578900866485,
           2029.425019871699,
           2000.2921496567499,
           1971.1592794418004,
           1942.0264092268512,
           1912.893539011902,
           1883.7606687969528
          ],
          [
           3330.1444922841742,
           3301.011622069225,
           3271.878751854276,
           3242.7458816393264,
           3213.613011424377,
           3184.480141209428,
           3155.3472709944785,
           3126.214400779529,
           3097.08153056458,
           3067.9486603496307,
           3038.8157901346813,
           3009.6829199197323,
           2980.550049704783,
           2951.4171794898334,
           2922.2843092748844,
           2893.151439059935,
           2864.0185688449856,
           2834.8856986300366,
           2805.752828415087,
           2776.6199582001377,
           2747.4870879851887,
           2718.3542177702393,
           2689.22134755529,
           2660.088477340341,
           2630.9556071253915,
           2601.822736910442,
           2572.689866695493,
           2543.5569964805436,
           2514.424126265594,
           2485.291256050645,
           2456.1583858356958,
           2427.0255156207463,
           2397.8926454057973,
           2368.759775190848,
           2339.6269049758985,
           2310.494034760949,
           2281.361164546,
           2252.2282943310506,
           2223.0954241161016,
           2193.962553901152,
           2164.8296836862028,
           2135.6968134712533,
           2106.5639432563044,
           2077.431073041355,
           2048.298202826406,
           2019.1653326114565,
           1990.032462396507,
           1960.8995921815579,
           1931.7667219666087,
           1902.6338517516594
          ],
          [
           3349.017675238881,
           3319.8848050239317,
           3290.7519348089827,
           3261.6190645940333,
           3232.486194379084,
           3203.3533241641344,
           3174.2204539491854,
           3145.087583734236,
           3115.954713519287,
           3086.8218433043376,
           3057.688973089388,
           3028.5561028744387,
           2999.4232326594897,
           2970.2903624445403,
           2941.157492229591,
           2912.024622014642,
           2882.8917517996924,
           2853.758881584743,
           2824.626011369794,
           2795.4931411548446,
           2766.360270939895,
           2737.227400724946,
           2708.0945305099967,
           2678.9616602950473,
           2649.8287900800983,
           2620.695919865149,
           2591.5630496501994,
           2562.4301794352505,
           2533.297309220301,
           2504.1644390053516,
           2475.0315687904026,
           2445.898698575453,
           2416.765828360504,
           2387.6329581455548,
           2358.5000879306053,
           2329.367217715656,
           2300.234347500707,
           2271.1014772857575,
           2241.9686070708085,
           2212.835736855859,
           2183.7028666409096,
           2154.56999642596,
           2125.437126211011,
           2096.304255996062,
           2067.171385781113,
           2038.0385155661634,
           2008.905645351214,
           1979.7727751362645,
           1950.6399049213155,
           1921.507034706366
          ],
          [
           3367.890858193588,
           3338.7579879786385,
           3309.625117763689,
           3280.49224754874,
           3251.3593773337907,
           3222.2265071188413,
           3193.0936369038923,
           3163.960766688943,
           3134.8278964739934,
           3105.6950262590444,
           3076.562156044095,
           3047.4292858291456,
           3018.2964156141966,
           2989.163545399247,
           2960.0306751842977,
           2930.8978049693487,
           2901.7649347543993,
           2872.63206453945,
           2843.499194324501,
           2814.3663241095514,
           2785.233453894602,
           2756.100583679653,
           2726.9677134647036,
           2697.834843249754,
           2668.701973034805,
           2639.5691028198557,
           2610.4362326049063,
           2581.303362389957,
           2552.170492175008,
           2523.0376219600585,
           2493.904751745109,
           2464.77188153016,
           2435.6390113152106,
           2406.5061411002616,
           2377.373270885312,
           2348.2404006703628,
           2319.1075304554133,
           2289.9746602404643,
           2260.841790025515,
           2231.708919810566,
           2202.5760495956165,
           2173.443179380667,
           2144.3103091657176,
           2115.1774389507686,
           2086.044568735819,
           2056.9116985208702,
           2027.7788283059208,
           1998.6459580909714,
           1969.5130878760222,
           1940.380217661073
          ],
          [
           3386.7640411482944,
           3357.6311709333454,
           3328.498300718396,
           3299.3654305034465,
           3270.2325602884976,
           3241.099690073548,
           3211.9668198585987,
           3182.8339496436492,
           3153.7010794287003,
           3124.568209213751,
           3095.435338998802,
           3066.3024687838524,
           3037.169598568903,
           3008.036728353954,
           2978.9038581390046,
           2949.770987924055,
           2920.638117709106,
           2891.5052474941567,
           2862.3723772792073,
           2833.239507064258,
           2804.106636849309,
           2774.9737666343594,
           2745.8408964194105,
           2716.708026204461,
           2687.5751559895116,
           2658.442285774562,
           2629.309415559613,
           2600.1765453446637,
           2571.0436751297143,
           2541.9108049147653,
           2512.777934699816,
           2483.6450644848665,
           2454.5121942699175,
           2425.379324054968,
           2396.2464538400186,
           2367.1135836250696,
           2337.98071341012,
           2308.8478431951708,
           2279.714972980222,
           2250.5821027652723,
           2221.449232550323,
           2192.316362335374,
           2163.1834921204245,
           2134.050621905475,
           2104.917751690526,
           2075.7848814755766,
           2046.6520112606272,
           2017.519141045678,
           1988.3862708307288,
           1959.2534006157796
          ],
          [
           3405.6372241030012,
           3376.504353888052,
           3347.3714836731024,
           3318.2386134581534,
           3289.105743243204,
           3259.972873028255,
           3230.8400028133055,
           3201.707132598356,
           3172.5742623834067,
           3143.4413921684577,
           3114.3085219535083,
           3085.1756517385593,
           3056.04278152361,
           3026.9099113086604,
           2997.777041093711,
           2968.644170878762,
           2939.5113006638126,
           2910.378430448863,
           2881.245560233914,
           2852.1126900189647,
           2822.9798198040153,
           2793.8469495890663,
           2764.714079374117,
           2735.5812091591674,
           2706.4483389442184,
           2677.315468729269,
           2648.1825985143196,
           2619.0497282993706,
           2589.916858084421,
           2560.783987869472,
           2531.6511176545227,
           2502.5182474395733,
           2473.385377224624,
           2444.252507009675,
           2415.1196367947255,
           2385.986766579776,
           2356.853896364827,
           2327.7210261498776,
           2298.588155934928,
           2269.455285719979,
           2240.3224155050298,
           2211.1895452900803,
           2182.0566750751314,
           2152.923804860182,
           2123.7909346452325,
           2094.6580644302835,
           2065.525194215334,
           2036.3923240003846,
           2007.2594537854357,
           1978.1265835704862
          ],
          [
           3424.510407057708,
           3395.3775368427587,
           3366.2446666278092,
           3337.1117964128603,
           3307.978926197911,
           3278.8460559829614,
           3249.7131857680124,
           3220.580315553063,
           3191.4474453381135,
           3162.3145751231646,
           3133.181704908215,
           3104.0488346932657,
           3074.9159644783167,
           3045.7830942633673,
           3016.650224048418,
           2987.517353833469,
           2958.3844836185194,
           2929.25161340357,
           2900.118743188621,
           2870.9858729736716,
           2841.853002758722,
           2812.720132543773,
           2783.5872623288237,
           2754.4543921138743,
           2725.3215218989253,
           2696.188651683976,
           2667.0557814690264,
           2637.922911254077,
           2608.790041039128,
           2579.6571708241786,
           2550.5243006092296,
           2521.39143039428,
           2492.2585601793307,
           2463.1256899643813,
           2433.9928197494323,
           2404.859949534483,
           2375.727079319534,
           2346.5942091045845,
           2317.461338889635,
           2288.3284686746856,
           2259.1955984597366,
           2230.062728244787,
           2200.929858029838,
           2171.796987814889,
           2142.6641175999393,
           2113.53124738499,
           2084.398377170041,
           2055.2655069550915,
           2026.1326367401423,
           1996.999766525193
          ],
          [
           3443.3835900124145,
           3414.2507197974655,
           3385.117849582516,
           3355.9849793675667,
           3326.8521091526177,
           3297.7192389376683,
           3268.586368722719,
           3239.45349850777,
           3210.3206282928204,
           3181.187758077871,
           3152.0548878629215,
           3122.9220176479726,
           3093.789147433023,
           3064.656277218074,
           3035.5234070031247,
           3006.3905367881753,
           2977.257666573226,
           2948.124796358277,
           2918.9919261433274,
           2889.8590559283784,
           2860.726185713429,
           2831.5933154984796,
           2802.46044528353,
           2773.327575068581,
           2744.1947048536317,
           2715.0618346386827,
           2685.9289644237333,
           2656.796094208784,
           2627.6632239938344,
           2598.5303537788855,
           2569.397483563936,
           2540.264613348987,
           2511.1317431340376,
           2481.998872919088,
           2452.8660027041387,
           2423.7331324891893,
           2394.6002622742403,
           2365.4673920592913,
           2336.334521844342,
           2307.2016516293925,
           2278.068781414443,
           2248.9359111994936,
           2219.8030409845446,
           2190.6701707695956,
           2161.537300554646,
           2132.404430339697,
           2103.2715601247473,
           2074.138689909798,
           2045.005819694849,
           2015.8729494798997
          ],
          [
           3462.2567729671214,
           3433.123902752172,
           3403.991032537223,
           3374.8581623222735,
           3345.725292107324,
           3316.592421892375,
           3287.4595516774257,
           3258.3266814624762,
           3229.1938112475273,
           3200.060941032578,
           3170.9280708176284,
           3141.7952006026794,
           3112.66233038773,
           3083.5294601727805,
           3054.3965899578316,
           3025.263719742882,
           2996.1308495279327,
           2966.9979793129837,
           2937.8651090980343,
           2908.732238883085,
           2879.599368668136,
           2850.4664984531864,
           2821.333628238237,
           2792.2007580232876,
           2763.0678878083386,
           2733.935017593389,
           2704.80214737844,
           2675.6692771634907,
           2646.5364069485413,
           2617.4035367335923,
           2588.270666518643,
           2559.1377963036934,
           2530.0049260887445,
           2500.872055873795,
           2471.7391856588456,
           2442.606315443896,
           2413.473445228947,
           2384.3405750139977,
           2355.2077047990488,
           2326.0748345840993,
           2296.94196436915,
           2267.8090941542005,
           2238.6762239392515,
           2209.543353724302,
           2180.410483509353,
           2151.2776132944036,
           2122.144743079454,
           2093.0118728645048,
           2063.879002649556,
           2034.7461324346064
          ],
          [
           3481.1299559218282,
           3451.997085706879,
           3422.8642154919294,
           3393.7313452769804,
           3364.598475062031,
           3335.4656048470815,
           3306.3327346321325,
           3277.199864417183,
           3248.0669942022337,
           3218.9341239872847,
           3189.8012537723353,
           3160.668383557386,
           3131.535513342437,
           3102.4026431274874,
           3073.269772912538,
           3044.136902697589,
           3015.0040324826396,
           2985.87116226769,
           2956.738292052741,
           2927.6054218377917,
           2898.4725516228423,
           2869.3396814078933,
           2840.206811192944,
           2811.0739409779944,
           2781.9410707630454,
           2752.808200548096,
           2723.6753303331466,
           2694.542460118197,
           2665.409589903248,
           2636.2767196882987,
           2607.1438494733497,
           2578.0109792584003,
           2548.878109043451,
           2519.745238828502,
           2490.6123686135525,
           2461.479498398603,
           2432.3466281836536,
           2403.2137579687046,
           2374.080887753755,
           2344.948017538806,
           2315.8151473238568,
           2286.6822771089073,
           2257.549406893958,
           2228.416536679009,
           2199.2836664640595,
           2170.1507962491105,
           2141.017926034161,
           2111.8850558192116,
           2082.752185604262,
           2053.619315389313
          ],
          [
           3500.0031388765346,
           3470.8702686615857,
           3441.7373984466362,
           3412.604528231687,
           3383.471658016738,
           3354.3387878017884,
           3325.205917586839,
           3296.0730473718895,
           3266.9401771569405,
           3237.807306941991,
           3208.674436727042,
           3179.5415665120927,
           3150.4086962971433,
           3121.275826082194,
           3092.142955867245,
           3063.0100856522954,
           3033.8772154373464,
           3004.744345222397,
           2975.6114750074476,
           2946.478604792498,
           2917.345734577549,
           2888.2128643625997,
           2859.0799941476507,
           2829.9471239327013,
           2800.814253717752,
           2771.6813835028024,
           2742.5485132878534,
           2713.415643072904,
           2684.2827728579546,
           2655.1499026430056,
           2626.017032428056,
           2596.8841622131067,
           2567.7512919981577,
           2538.6184217832083,
           2509.485551568259,
           2480.35268135331,
           2451.2198111383605,
           2422.086940923411,
           2392.954070708462,
           2363.8212004935126,
           2334.688330278563,
           2305.555460063614,
           2276.4225898486648,
           2247.2897196337153,
           2218.1568494187663,
           2189.023979203817,
           2159.8911089888675,
           2130.7582387739185,
           2101.625368558969,
           2072.4924983440196
          ],
          [
           3518.8763218312415,
           3489.743451616292,
           3460.610581401343,
           3431.4777111863937,
           3402.3448409714442,
           3373.2119707564952,
           3344.079100541546,
           3314.9462303265964,
           3285.8133601116474,
           3256.680489896698,
           3227.5476196817485,
           3198.4147494667995,
           3169.28187925185,
           3140.1490090369007,
           3111.0161388219517,
           3081.8832686070023,
           3052.750398392053,
           3023.617528177104,
           2994.4846579621544,
           2965.351787747205,
           2936.218917532256,
           2907.0860473173066,
           2877.953177102357,
           2848.820306887408,
           2819.6874366724587,
           2790.5545664575093,
           2761.42169624256,
           2732.288826027611,
           2703.1559558126614,
           2674.0230855977125,
           2644.890215382763,
           2615.7573451678136,
           2586.624474952864,
           2557.491604737915,
           2528.3587345229657,
           2499.2258643080163,
           2470.0929940930673,
           2440.960123878118,
           2411.8272536631684,
           2382.6943834482195,
           2353.56151323327,
           2324.4286430183206,
           2295.2957728033716,
           2266.162902588422,
           2237.0300323734727,
           2207.8971621585238,
           2178.7642919435743,
           2149.631421728625,
           2120.498551513676,
           2091.3656812987265
          ],
          [
           3537.7495047859484,
           3508.616634570999,
           3479.4837643560495,
           3450.3508941411005,
           3421.218023926151,
           3392.0851537112017,
           3362.9522834962527,
           3333.8194132813032,
           3304.686543066354,
           3275.553672851405,
           3246.4208026364554,
           3217.287932421506,
           3188.155062206557,
           3159.0221919916075,
           3129.889321776658,
           3100.756451561709,
           3071.6235813467597,
           3042.4907111318103,
           3013.3578409168613,
           2984.224970701912,
           2955.0921004869624,
           2925.9592302720134,
           2896.826360057064,
           2867.6934898421146,
           2838.5606196271656,
           2809.427749412216,
           2780.2948791972667,
           2751.1620089823173,
           2722.0291387673683,
           2692.8962685524193,
           2663.76339833747,
           2634.6305281225204,
           2605.497657907571,
           2576.3647876926216,
           2547.2319174776726,
           2518.099047262723,
           2488.966177047774,
           2459.8333068328247,
           2430.7004366178753,
           2401.567566402926,
           2372.434696187977,
           2343.3018259730275,
           2314.1689557580785,
           2285.036085543129,
           2255.9032153281796,
           2226.77034511323,
           2197.637474898281,
           2168.5046046833318,
           2139.371734468383,
           2110.2388642534333
          ],
          [
           3556.622687740655,
           3527.489817525706,
           3498.3569473107564,
           3469.224077095807,
           3440.091206880858,
           3410.9583366659085,
           3381.825466450959,
           3352.69259623601,
           3323.5597260210607,
           3294.4268558061112,
           3265.2939855911623,
           3236.161115376213,
           3207.0282451612634,
           3177.8953749463144,
           3148.762504731365,
           3119.6296345164155,
           3090.4967643014666,
           3061.363894086517,
           3032.2310238715677,
           3003.0981536566187,
           2973.9652834416693,
           2944.83241322672,
           2915.699543011771,
           2886.5666727968214,
           2857.433802581872,
           2828.300932366923,
           2799.1680621519736,
           2770.035191937024,
           2740.9023217220747,
           2711.7694515071257,
           2682.6365812921763,
           2653.5037110772273,
           2624.370840862278,
           2595.2379706473284,
           2566.105100432379,
           2536.97223021743,
           2507.8393600024806,
           2478.7064897875316,
           2449.573619572582,
           2420.4407493576327,
           2391.3078791426833,
           2362.1750089277343,
           2333.042138712785,
           2303.909268497836,
           2274.7763982828865,
           2245.643528067937,
           2216.5106578529876,
           2187.3777876380386,
           2158.244917423089,
           2129.11204720814
          ],
          [
           3575.4958706953616,
           3546.3630004804127,
           3517.2301302654632,
           3488.097260050514,
           3458.964389835565,
           3429.8315196206154,
           3400.698649405666,
           3371.565779190717,
           3342.4329089757675,
           3313.300038760818,
           3284.1671685458687,
           3255.0342983309197,
           3225.9014281159702,
           3196.7685579010213,
           3167.635687686072,
           3138.5028174711224,
           3109.3699472561734,
           3080.237077041224,
           3051.1042068262745,
           3021.9713366113256,
           2992.838466396376,
           2963.7055961814267,
           2934.5727259664773,
           2905.4398557515283,
           2876.306985536579,
           2847.17411532163,
           2818.0412451066804,
           2788.908374891731,
           2759.7755046767816,
           2730.6426344618326,
           2701.509764246883,
           2672.376894031934,
           2643.2440238169847,
           2614.1111536020353,
           2584.978283387086,
           2555.845413172137,
           2526.7125429571875,
           2497.5796727422385,
           2468.446802527289,
           2439.3139323123396,
           2410.18106209739,
           2381.0481918824407,
           2351.9153216674918,
           2322.782451452543,
           2293.6495812375933,
           2264.516711022644,
           2235.3838408076945,
           2206.250970592745,
           2177.118100377796,
           2147.985230162847
          ],
          [
           3594.3690536500685,
           3565.236183435119,
           3536.1033132201696,
           3506.9704430052207,
           3477.837572790271,
           3448.704702575322,
           3419.571832360373,
           3390.4389621454234,
           3361.306091930474,
           3332.173221715525,
           3303.0403515005755,
           3273.907481285626,
           3244.774611070677,
           3215.6417408557277,
           3186.5088706407782,
           3157.3760004258293,
           3128.24313021088,
           3099.1102599959304,
           3069.9773897809814,
           3040.844519566032,
           3011.7116493510825,
           2982.5787791361336,
           2953.445908921184,
           2924.3130387062347,
           2895.1801684912857,
           2866.0472982763363,
           2836.914428061387,
           2807.781557846438,
           2778.6486876314884,
           2749.515817416539,
           2720.38294720159,
           2691.2500769866406,
           2662.117206771691,
           2632.984336556742,
           2603.8514663417927,
           2574.7185961268433,
           2545.5857259118943,
           2516.452855696945,
           2487.3199854819954,
           2458.1871152670465,
           2429.054245052097,
           2399.9213748371476,
           2370.7885046221986,
           2341.655634407249,
           2312.5227641922997,
           2283.3898939773508,
           2254.2570237624013,
           2225.124153547452,
           2195.991283332503,
           2166.8584131175535
          ],
          [
           3613.242236604775,
           3584.1093663898255,
           3554.9764961748765,
           3525.843625959927,
           3496.710755744978,
           3467.5778855300287,
           3438.445015315079,
           3409.31214510013,
           3380.179274885181,
           3351.0464046702314,
           3321.9135344552824,
           3292.780664240333,
           3263.6477940253835,
           3234.514923810434,
           3205.382053595485,
           3176.2491833805357,
           3147.1163131655867,
           3117.9834429506373,
           3088.850572735688,
           3059.717702520739,
           3030.5848323057894,
           3001.45196209084,
           2972.319091875891,
           2943.1862216609416,
           2914.053351445992,
           2884.9204812310427,
           2855.7876110160937,
           2826.6547408011443,
           2797.521870586195,
           2768.389000371246,
           2739.2561301562964,
           2710.123259941347,
           2680.990389726398,
           2651.8575195114486,
           2622.724649296499,
           2593.59177908155,
           2564.4589088666007,
           2535.3260386516513,
           2506.1931684367023,
           2477.060298221753,
           2447.9274280068034,
           2418.7945577918545,
           2389.661687576905,
           2360.5288173619556,
           2331.3959471470066,
           2302.263076932057,
           2273.1302067171077,
           2243.9973365021588,
           2214.8644662872093,
           2185.73159607226
          ],
          [
           3632.115419559482,
           3602.9825493445323,
           3573.8496791295834,
           3544.716808914634,
           3515.5839386996845,
           3486.4510684847355,
           3457.318198269786,
           3428.1853280548366,
           3399.0524578398877,
           3369.9195876249382,
           3340.786717409989,
           3311.65384719504,
           3282.5209769800904,
           3253.388106765141,
           3224.255236550192,
           3195.1223663352425,
           3165.989496120293,
           3136.856625905344,
           3107.7237556903947,
           3078.5908854754452,
           3049.4580152604963,
           3020.325145045547,
           2991.1922748305974,
           2962.0594046156484,
           2932.926534400699,
           2903.7936641857495,
           2874.6607939708,
           2845.527923755851,
           2816.3950535409017,
           2787.2621833259527,
           2758.1293131110033,
           2728.996442896054,
           2699.8635726811044,
           2670.7307024661554,
           2641.597832251206,
           2612.4649620362566,
           2583.3320918213076,
           2554.199221606358,
           2525.0663513914087,
           2495.9334811764597,
           2466.8006109615103,
           2437.667740746561,
           2408.534870531612,
           2379.4020003166625,
           2350.269130101713,
           2321.136259886764,
           2292.0033896718146,
           2262.870519456865,
           2233.737649241916,
           2204.6047790269668
          ],
          [
           3650.9886025141886,
           3621.855732299239,
           3592.7228620842898,
           3563.589991869341,
           3534.4571216543914,
           3505.324251439442,
           3476.191381224493,
           3447.0585110095435,
           3417.925640794594,
           3388.792770579645,
           3359.6599003646957,
           3330.527030149746,
           3301.3941599347972,
           3272.261289719848,
           3243.1284195048984,
           3213.9955492899494,
           3184.862679075,
           3155.7298088600505,
           3126.5969386451015,
           3097.464068430152,
           3068.3311982152027,
           3039.1983280002537,
           3010.0654577853043,
           2980.932587570355,
           2951.799717355406,
           2922.6668471404564,
           2893.533976925507,
           2864.401106710558,
           2835.2682364956086,
           2806.135366280659,
           2777.00249606571,
           2747.8696258507607,
           2718.7367556358113,
           2689.603885420862,
           2660.471015205913,
           2631.3381449909634,
           2602.2052747760144,
           2573.072404561065,
           2543.9395343461156,
           2514.806664131166,
           2485.673793916217,
           2456.5409237012677,
           2427.4080534863187,
           2398.2751832713693,
           2369.14231305642,
           2340.0094428414704,
           2310.8765726265215,
           2281.743702411572,
           2252.610832196623,
           2223.4779619816736
          ],
          [
           3669.8617854688955,
           3640.728915253946,
           3611.5960450389966,
           3582.463174824047,
           3553.330304609098,
           3524.197434394149,
           3495.0645641792,
           3465.9316939642504,
           3436.798823749301,
           3407.6659535343515,
           3378.5330833194025,
           3349.400213104453,
           3320.267342889504,
           3291.1344726745547,
           3262.0016024596052,
           3232.868732244656,
           3203.735862029707,
           3174.6029918147574,
           3145.470121599808,
           3116.337251384859,
           3087.2043811699095,
           3058.07151095496,
           3028.938640740011,
           2999.8057705250617,
           2970.6729003101123,
           2941.5400300951633,
           2912.407159880214,
           2883.2742896652644,
           2854.1414194503154,
           2825.008549235366,
           2795.875679020417,
           2766.7428088054676,
           2737.609938590518,
           2708.4770683755687,
           2679.3441981606197,
           2650.2113279456703,
           2621.0784577307213,
           2591.945587515772,
           2562.8127173008224,
           2533.679847085873,
           2504.5469768709236,
           2475.4141066559746,
           2446.2812364410256,
           2417.148366226076,
           2388.0154960111267,
           2358.8826257961773,
           2329.749755581228,
           2300.616885366279,
           2271.48401515133,
           2242.3511449363805
          ],
          [
           3688.734968423602,
           3659.602098208653,
           3630.4692279937035,
           3601.336357778754,
           3572.2034875638046,
           3543.0706173488556,
           3513.937747133906,
           3484.8048769189572,
           3455.672006704008,
           3426.5391364890584,
           3397.406266274109,
           3368.27339605916,
           3339.1405258442105,
           3310.0076556292615,
           3280.874785414312,
           3251.7419151993627,
           3222.6090449844132,
           3193.4761747694643,
           3164.343304554515,
           3135.210434339566,
           3106.0775641246164,
           3076.944693909667,
           3047.811823694718,
           3018.6789534797686,
           2989.546083264819,
           2960.41321304987,
           2931.2803428349207,
           2902.1474726199713,
           2873.014602405022,
           2843.881732190073,
           2814.7488619751234,
           2785.6159917601744,
           2756.483121545225,
           2727.3502513302756,
           2698.217381115326,
           2669.084510900377,
           2639.9516406854277,
           2610.8187704704787,
           2581.6859002555293,
           2552.55303004058,
           2523.4201598256304,
           2494.287289610681,
           2465.154419395732,
           2436.021549180783,
           2406.8886789658336,
           2377.755808750884,
           2348.6229385359347,
           2319.4900683209853,
           2290.3571981060363,
           2261.2243278910873
          ],
          [
           3707.608151378309,
           3678.4752811633593,
           3649.3424109484104,
           3620.209540733461,
           3591.0766705185115,
           3561.9438003035625,
           3532.810930088613,
           3503.6780598736636,
           3474.5451896587147,
           3445.412319443765,
           3416.279449228816,
           3387.146579013867,
           3358.0137087989174,
           3328.880838583968,
           3299.747968369019,
           3270.6150981540695,
           3241.48222793912,
           3212.349357724171,
           3183.2164875092217,
           3154.0836172942722,
           3124.9507470793233,
           3095.817876864374,
           3066.6850066494244,
           3037.5521364344754,
           3008.419266219526,
           2979.2863960045765,
           2950.1535257896276,
           2921.020655574678,
           2891.8877853597287,
           2862.7549151447797,
           2833.6220449298303,
           2804.489174714881,
           2775.356304499932,
           2746.2234342849824,
           2717.090564070033,
           2687.9576938550836,
           2658.8248236401346,
           2629.691953425185,
           2600.559083210236,
           2571.4262129952867,
           2542.2933427803373,
           2513.160472565388,
           2484.027602350439,
           2454.8947321354894,
           2425.7618619205405,
           2396.628991705591,
           2367.4961214906416,
           2338.363251275692,
           2309.230381060743,
           2280.0975108457937
          ],
          [
           3726.481334333015,
           3697.348464118066,
           3668.2155939031168,
           3639.082723688168,
           3609.9498534732184,
           3580.816983258269,
           3551.6841130433195,
           3522.5512428283705,
           3493.418372613421,
           3464.285502398472,
           3435.1526321835227,
           3406.019761968573,
           3376.886891753624,
           3347.754021538675,
           3318.6211513237254,
           3289.4882811087764,
           3260.355410893827,
           3231.2225406788775,
           3202.089670463928,
           3172.956800248979,
           3143.8239300340297,
           3114.6910598190802,
           3085.5581896041313,
           3056.425319389182,
           3027.2924491742324,
           2998.1595789592834,
           2969.026708744334,
           2939.8938385293845,
           2910.7609683144356,
           2881.628098099486,
           2852.4952278845367,
           2823.3623576695877,
           2794.2294874546383,
           2765.096617239689,
           2735.96374702474,
           2706.8308768097904,
           2677.698006594841,
           2648.565136379892,
           2619.4322661649426,
           2590.299395949993,
           2561.166525735044,
           2532.0336555200947,
           2502.9007853051453,
           2473.7679150901963,
           2444.635044875247,
           2415.5021746602974,
           2386.3693044453485,
           2357.236434230399,
           2328.1035640154496,
           2298.9706938005006
          ],
          [
           3745.354517287722,
           3716.2216470727726,
           3687.0887768578236,
           3657.955906642874,
           3628.823036427925,
           3599.690166212976,
           3570.5572959980263,
           3541.424425783077,
           3512.291555568128,
           3483.1586853531785,
           3454.0258151382295,
           3424.89294492328,
           3395.7600747083306,
           3366.627204493381,
           3337.4943342784322,
           3308.361464063483,
           3279.228593848534,
           3250.0957236335844,
           3220.962853418635,
           3191.8299832036855,
           3162.6971129887365,
           3133.564242773787,
           3104.431372558838,
           3075.2985023438887,
           3046.1656321289393,
           3017.03276191399,
           2987.899891699041,
           2958.7670214840914,
           2929.634151269142,
           2900.501281054193,
           2871.3684108392436,
           2842.235540624294,
           2813.102670409345,
           2783.9698001943957,
           2754.8369299794463,
           2725.7040597644973,
           2696.571189549548,
           2667.4383193345984,
           2638.3054491196494,
           2609.1725789047,
           2580.0397086897506,
           2550.9068384748016,
           2521.773968259852,
           2492.6410980449027,
           2463.5082278299537,
           2434.3753576150043,
           2405.242487400055,
           2376.109617185106,
           2346.9767469701565,
           2317.843876755207
          ],
          [
           3764.227700242429,
           3735.0948300274795,
           3705.96195981253,
           3676.829089597581,
           3647.6962193826316,
           3618.5633491676826,
           3589.430478952733,
           3560.297608737784,
           3531.1647385228343,
           3502.0318683078854,
           3472.898998092936,
           3443.7661278779865,
           3414.6332576630375,
           3385.500387448088,
           3356.3675172331386,
           3327.2346470181897,
           3298.10177680324,
           3268.968906588291,
           3239.836036373342,
           3210.7031661583924,
           3181.570295943443,
           3152.437425728494,
           3123.3045555135445,
           3094.171685298595,
           3065.038815083646,
           3035.9059448686967,
           3006.7730746537472,
           2977.6402044387983,
           2948.507334223849,
           2919.3744640088994,
           2890.2415937939504,
           2861.108723579001,
           2831.9758533640515,
           2802.8429831491026,
           2773.710112934153,
           2744.5772427192037,
           2715.4443725042547,
           2686.3115022893053,
           2657.178632074356,
           2628.0457618594064,
           2598.9128916444574,
           2569.780021429508,
           2540.647151214559,
           2511.5142809996096,
           2482.38141078466,
           2453.2485405697107,
           2424.1156703547617,
           2394.9828001398123,
           2365.8499299248633,
           2336.717059709914
          ],
          [
           3783.1008831971358,
           3753.9680129821863,
           3724.835142767237,
           3695.7022725522875,
           3666.5694023373385,
           3637.436532122389,
           3608.30366190744,
           3579.1707916924906,
           3550.037921477541,
           3520.9050512625918,
           3491.772181047643,
           3462.6393108326934,
           3433.5064406177444,
           3404.373570402795,
           3375.2407001878455,
           3346.107829972896,
           3316.974959757947,
           3287.8420895429977,
           3258.7092193280487,
           3229.5763491130992,
           3200.44347889815,
           3171.3106086832004,
           3142.1777384682514,
           3113.044868253302,
           3083.9119980383525,
           3054.7791278234035,
           3025.646257608454,
           2996.5133873935047,
           2967.3805171785557,
           2938.2476469636063,
           2909.1147767486573,
           2879.981906533708,
           2850.8490363187584,
           2821.716166103809,
           2792.58329588886,
           2763.4504256739106,
           2734.3175554589616,
           2705.184685244012,
           2676.0518150290627,
           2646.9189448141133,
           2617.786074599164,
           2588.653204384215,
           2559.520334169266,
           2530.3874639543164,
           2501.254593739367,
           2472.1217235244176,
           2442.988853309468,
           2413.855983094519,
           2384.72311287957,
           2355.5902426646207
          ],
          [
           3801.974066151842,
           3772.841195936893,
           3743.7083257219438,
           3714.5754555069943,
           3685.442585292045,
           3656.309715077096,
           3627.1768448621465,
           3598.0439746471975,
           3568.911104432248,
           3539.7782342172986,
           3510.645364002349,
           3481.5124937874,
           3452.379623572451,
           3423.246753357502,
           3394.1138831425524,
           3364.981012927603,
           3335.8481427126535,
           3306.7152724977045,
           3277.582402282755,
           3248.449532067806,
           3219.3166618528567,
           3190.1837916379072,
           3161.050921422958,
           3131.918051208009,
           3102.7851809930594,
           3073.6523107781104,
           3044.519440563161,
           3015.3865703482115,
           2986.253700133262,
           2957.120829918313,
           2927.9879597033637,
           2898.8550894884147,
           2869.7222192734653,
           2840.589349058516,
           2811.4564788435664,
           2782.3236086286174,
           2753.190738413668,
           2724.057868198719,
           2694.9249979837696,
           2665.79212776882,
           2636.6592575538707,
           2607.5263873389217,
           2578.3935171239723,
           2549.2606469090233,
           2520.127776694074,
           2490.9949064791244,
           2461.862036264175,
           2432.7291660492256,
           2403.5962958342766,
           2374.4634256193276
          ],
          [
           3820.847249106549,
           3791.7143788915996,
           3762.5815086766506,
           3733.448638461701,
           3704.3157682467518,
           3675.182898031803,
           3646.0500278168533,
           3616.917157601904,
           3587.784287386955,
           3558.6514171720055,
           3529.518546957056,
           3500.385676742107,
           3471.2528065271576,
           3442.119936312208,
           3412.9870660972592,
           3383.85419588231,
           3354.7213256673604,
           3325.588455452411,
           3296.455585237462,
           3267.3227150225125,
           3238.1898448075635,
           3209.056974592614,
           3179.9241043776647,
           3150.7912341627157,
           3121.6583639477662,
           3092.525493732817,
           3063.392623517868,
           3034.2597533029184,
           3005.126883087969,
           2975.99401287302,
           2946.8611426580705,
           2917.728272443121,
           2888.595402228172,
           2859.4625320132227,
           2830.3296617982733,
           2801.196791583324,
           2772.063921368375,
           2742.9310511534254,
           2713.7981809384764,
           2684.665310723527,
           2655.5324405085776,
           2626.399570293628,
           2597.266700078679,
           2568.1338298637297,
           2539.0009596487807,
           2509.8680894338313,
           2480.735219218882,
           2451.6023490039324,
           2422.4694787889835,
           2393.336608574034
          ],
          [
           3839.7204320612555,
           3810.5875618463065,
           3781.454691631357,
           3752.321821416408,
           3723.1889512014586,
           3694.056080986509,
           3664.9232107715598,
           3635.7903405566108,
           3606.6574703416613,
           3577.5246001267124,
           3548.391729911763,
           3519.2588596968135,
           3490.125989481864,
           3460.993119266915,
           3431.8602490519656,
           3402.7273788370167,
           3373.594508622067,
           3344.461638407118,
           3315.3287681921684,
           3286.1958979772194,
           3257.06302776227,
           3227.930157547321,
           3198.7972873323715,
           3169.664417117422,
           3140.5315469024727,
           3111.3986766875237,
           3082.2658064725742,
           3053.132936257625,
           3024.000066042676,
           2994.8671958277264,
           2965.734325612777,
           2936.601455397828,
           2907.4685851828785,
           2878.335714967929,
           2849.20284475298,
           2820.0699745380307,
           2790.9371043230813,
           2761.8042341081323,
           2732.671363893183,
           2703.5384936782334,
           2674.4056234632844,
           2645.272753248335,
           2616.1398830333856,
           2587.0070128184366,
           2557.874142603487,
           2528.7412723885377,
           2499.6084021735887,
           2470.4755319586393,
           2441.34266174369,
           2412.209791528741
          ],
          [
           3858.5936150159623,
           3829.460744801013,
           3800.327874586064,
           3771.1950043711145,
           3742.0621341561655,
           3712.929263941216,
           3683.7963937262666,
           3654.663523511317,
           3625.530653296368,
           3596.3977830814188,
           3567.26491286647,
           3538.1320426515204,
           3508.999172436571,
           3479.8663022216215,
           3450.7334320066725,
           3421.600561791723,
           3392.467691576774,
           3363.3348213618247,
           3334.201951146875,
           3305.069080931926,
           3275.936210716977,
           3246.8033405020274,
           3217.6704702870784,
           3188.537600072129,
           3159.4047298571795,
           3130.27185964223,
           3101.138989427281,
           3072.0061192123317,
           3042.8732489973822,
           3013.7403787824333,
           2984.607508567484,
           2955.4746383525344,
           2926.3417681375854,
           2897.208897922636,
           2868.0760277076865,
           2838.9431574927376,
           2809.810287277788,
           2780.6774170628387,
           2751.5445468478897,
           2722.4116766329403,
           2693.278806417991,
           2664.145936203042,
           2635.0130659880924,
           2605.880195773143,
           2576.747325558194,
           2547.6144553432446,
           2518.481585128295,
           2489.348714913346,
           2460.2158446983967,
           2431.0829744834473
          ],
          [
           3877.466797970669,
           3848.3339277557197,
           3819.2010575407708,
           3790.0681873258213,
           3760.935317110872,
           3731.802446895923,
           3702.6695766809735,
           3673.536706466024,
           3644.403836251075,
           3615.2709660361256,
           3586.138095821176,
           3557.005225606227,
           3527.872355391278,
           3498.7394851763283,
           3469.606614961379,
           3440.47374474643,
           3411.3408745314805,
           3382.2080043165315,
           3353.075134101582,
           3323.9422638866326,
           3294.809393671683,
           3265.6765234567342,
           3236.543653241785,
           3207.410783026836,
           3178.2779128118864,
           3149.145042596937,
           3120.012172381988,
           3090.8793021670385,
           3061.746431952089,
           3032.61356173714,
           3003.4806915221907,
           2974.3478213072412,
           2945.2149510922923,
           2916.082080877343,
           2886.9492106623934,
           2857.816340447444,
           2828.683470232495,
           2799.5506000175455,
           2770.417729802596,
           2741.284859587647,
           2712.1519893726977,
           2683.0191191577483,
           2653.8862489427993,
           2624.75337872785,
           2595.6205085129004,
           2566.4876382979514,
           2537.354768083002,
           2508.2218978680526,
           2479.0890276531036,
           2449.956157438154
          ],
          [
           3896.339980925376,
           3867.2071107104266,
           3838.074240495477,
           3808.941370280528,
           3779.8085000655788,
           3750.67562985063,
           3721.5427596356803,
           3692.409889420731,
           3663.2770192057815,
           3634.1441489908325,
           3605.011278775883,
           3575.878408560934,
           3546.7455383459846,
           3517.612668131035,
           3488.4797979160858,
           3459.346927701137,
           3430.2140574861874,
           3401.081187271238,
           3371.948317056289,
           3342.8154468413395,
           3313.68257662639,
           3284.549706411441,
           3255.4168361964917,
           3226.283965981542,
           3197.1510957665932,
           3168.018225551644,
           3138.8853553366944,
           3109.7524851217454,
           3080.619614906796,
           3051.4867446918465,
           3022.3538744768975,
           2993.221004261948,
           2964.0881340469987,
           2934.9552638320497,
           2905.8223936171003,
           2876.689523402151,
           2847.556653187202,
           2818.4237829722524,
           2789.290912757303,
           2760.1580425423535,
           2731.0251723274046,
           2701.892302112455,
           2672.759431897506,
           2643.6265616825567,
           2614.4936914676073,
           2585.360821252658,
           2556.227951037709,
           2527.0950808227594,
           2497.9622106078104,
           2468.829340392861
          ],
          [
           3915.2131638800824,
           3886.0802936651335,
           3856.947423450184,
           3827.8145532352346,
           3798.681683020285,
           3769.548812805336,
           3740.4159425903867,
           3711.2830723754378,
           3682.1502021604883,
           3653.017331945539,
           3623.8844617305895,
           3594.7515915156405,
           3565.618721300691,
           3536.485851085742,
           3507.3529808707926,
           3478.220110655843,
           3449.0872404408938,
           3419.954370225945,
           3390.8215000109954,
           3361.6886297960464,
           3332.555759581097,
           3303.4228893661475,
           3274.290019151198,
           3245.157148936249,
           3216.0242787212997,
           3186.8914085063507,
           3157.7585382914012,
           3128.625668076452,
           3099.4927978615024,
           3070.3599276465534,
           3041.227057431604,
           3012.094187216655,
           2982.9613170017055,
           2953.828446786756,
           2924.6955765718067,
           2895.5627063568577,
           2866.4298361419083,
           2837.2969659269593,
           2808.16409571201,
           2779.0312254970604,
           2749.898355282111,
           2720.765485067162,
           2691.6326148522126,
           2662.4997446372636,
           2633.366874422314,
           2604.2340042073647,
           2575.1011339924153,
           2545.9682637774663,
           2516.835393562517,
           2487.702523347568
          ],
          [
           3934.0863468347893,
           3904.95347661984,
           3875.820606404891,
           3846.6877361899415,
           3817.554865974992,
           3788.421995760043,
           3759.2891255450936,
           3730.156255330144,
           3701.023385115195,
           3671.8905149002458,
           3642.7576446852963,
           3613.6247744703473,
           3584.491904255398,
           3555.3590340404485,
           3526.2261638254995,
           3497.09329361055,
           3467.9604233956006,
           3438.827553180651,
           3409.694682965702,
           3380.561812750753,
           3351.428942535804,
           3322.2960723208544,
           3293.163202105905,
           3264.0303318909555,
           3234.8974616760065,
           3205.764591461057,
           3176.631721246108,
           3147.4988510311587,
           3118.3659808162092,
           3089.2331106012603,
           3060.100240386311,
           3030.9673701713614,
           3001.8344999564124,
           2972.701629741463,
           2943.5687595265135,
           2914.435889311564,
           2885.303019096615,
           2856.1701488816657,
           2827.0372786667167,
           2797.9044084517673,
           2768.771538236818,
           2739.6386680218684,
           2710.5057978069194,
           2681.37292759197,
           2652.240057377021,
           2623.1071871620716,
           2593.974316947122,
           2564.8414467321727,
           2535.7085765172237,
           2506.5757063022743
          ],
          [
           3952.9595297894957,
           3923.8266595745467,
           3894.6937893595973,
           3865.5609191446483,
           3836.428048929699,
           3807.2951787147495,
           3778.1623084998,
           3749.029438284851,
           3719.8965680699016,
           3690.7636978549526,
           3661.630827640003,
           3632.4979574250538,
           3603.3650872101043,
           3574.2322169951553,
           3545.099346780206,
           3515.966476565257,
           3486.8336063503075,
           3457.700736135358,
           3428.5678659204086,
           3399.4349957054596,
           3370.30212549051,
           3341.169255275561,
           3312.036385060612,
           3282.9035148456624,
           3253.770644630713,
           3224.637774415764,
           3195.5049042008145,
           3166.372033985865,
           3137.239163770916,
           3108.1062935559667,
           3078.973423341017,
           3049.8405531260682,
           3020.707682911119,
           2991.5748126961694,
           2962.4419424812204,
           2933.309072266271,
           2904.1762020513215,
           2875.0433318363725,
           2845.910461621423,
           2816.7775914064737,
           2787.6447211915247,
           2758.5118509765753,
           2729.378980761626,
           2700.246110546677,
           2671.1132403317274,
           2641.980370116778,
           2612.847499901829,
           2583.7146296868796,
           2554.58175947193,
           2525.448889256981
          ],
          [
           3971.8327127442026,
           3942.699842529253,
           3913.566972314304,
           3884.4341020993547,
           3855.3012318844058,
           3826.1683616694563,
           3797.035491454507,
           3767.9026212395574,
           3738.7697510246085,
           3709.636880809659,
           3680.50401059471,
           3651.3711403797606,
           3622.238270164811,
           3593.1053999498617,
           3563.9725297349128,
           3534.8396595199633,
           3505.7067893050144,
           3476.573919090065,
           3447.4410488751155,
           3418.308178660166,
           3389.175308445217,
           3360.0424382302676,
           3330.9095680153187,
           3301.776697800369,
           3272.64382758542,
           3243.5109573704704,
           3214.3780871555214,
           3185.245216940572,
           3156.1123467256225,
           3126.9794765106735,
           3097.846606295724,
           3068.7137360807747,
           3039.5808658658257,
           3010.4479956508762,
           2981.315125435927,
           2952.182255220978,
           2923.0493850060284,
           2893.916514791079,
           2864.78364457613,
           2835.6507743611805,
           2806.517904146231,
           2777.385033931282,
           2748.2521637163327,
           2719.1192935013833,
           2689.9864232864343,
           2660.853553071485,
           2631.7206828565354,
           2602.5878126415864,
           2573.454942426637,
           2544.3220722116876
          ]
         ],
         "type": "surface"
        }
       ],
       "layout": {
        "template": {
         "data": {
          "histogram2dcontour": [
           {
            "type": "histogram2dcontour",
            "colorbar": {
             "outlinewidth": 0,
             "ticks": ""
            },
            "colorscale": [
             [
              0.0,
              "#0d0887"
             ],
             [
              0.1111111111111111,
              "#46039f"
             ],
             [
              0.2222222222222222,
              "#7201a8"
             ],
             [
              0.3333333333333333,
              "#9c179e"
             ],
             [
              0.4444444444444444,
              "#bd3786"
             ],
             [
              0.5555555555555556,
              "#d8576b"
             ],
             [
              0.6666666666666666,
              "#ed7953"
             ],
             [
              0.7777777777777778,
              "#fb9f3a"
             ],
             [
              0.8888888888888888,
              "#fdca26"
             ],
             [
              1.0,
              "#f0f921"
             ]
            ]
           }
          ],
          "choropleth": [
           {
            "type": "choropleth",
            "colorbar": {
             "outlinewidth": 0,
             "ticks": ""
            }
           }
          ],
          "histogram2d": [
           {
            "type": "histogram2d",
            "colorbar": {
             "outlinewidth": 0,
             "ticks": ""
            },
            "colorscale": [
             [
              0.0,
              "#0d0887"
             ],
             [
              0.1111111111111111,
              "#46039f"
             ],
             [
              0.2222222222222222,
              "#7201a8"
             ],
             [
              0.3333333333333333,
              "#9c179e"
             ],
             [
              0.4444444444444444,
              "#bd3786"
             ],
             [
              0.5555555555555556,
              "#d8576b"
             ],
             [
              0.6666666666666666,
              "#ed7953"
             ],
             [
              0.7777777777777778,
              "#fb9f3a"
             ],
             [
              0.8888888888888888,
              "#fdca26"
             ],
             [
              1.0,
              "#f0f921"
             ]
            ]
           }
          ],
          "heatmap": [
           {
            "type": "heatmap",
            "colorbar": {
             "outlinewidth": 0,
             "ticks": ""
            },
            "colorscale": [
             [
              0.0,
              "#0d0887"
             ],
             [
              0.1111111111111111,
              "#46039f"
             ],
             [
              0.2222222222222222,
              "#7201a8"
             ],
             [
              0.3333333333333333,
              "#9c179e"
             ],
             [
              0.4444444444444444,
              "#bd3786"
             ],
             [
              0.5555555555555556,
              "#d8576b"
             ],
             [
              0.6666666666666666,
              "#ed7953"
             ],
             [
              0.7777777777777778,
              "#fb9f3a"
             ],
             [
              0.8888888888888888,
              "#fdca26"
             ],
             [
              1.0,
              "#f0f921"
             ]
            ]
           }
          ],
          "heatmapgl": [
           {
            "type": "heatmapgl",
            "colorbar": {
             "outlinewidth": 0,
             "ticks": ""
            },
            "colorscale": [
             [
              0.0,
              "#0d0887"
             ],
             [
              0.1111111111111111,
              "#46039f"
             ],
             [
              0.2222222222222222,
              "#7201a8"
             ],
             [
              0.3333333333333333,
              "#9c179e"
             ],
             [
              0.4444444444444444,
              "#bd3786"
             ],
             [
              0.5555555555555556,
              "#d8576b"
             ],
             [
              0.6666666666666666,
              "#ed7953"
             ],
             [
              0.7777777777777778,
              "#fb9f3a"
             ],
             [
              0.8888888888888888,
              "#fdca26"
             ],
             [
              1.0,
              "#f0f921"
             ]
            ]
           }
          ],
          "contourcarpet": [
           {
            "type": "contourcarpet",
            "colorbar": {
             "outlinewidth": 0,
             "ticks": ""
            }
           }
          ],
          "contour": [
           {
            "type": "contour",
            "colorbar": {
             "outlinewidth": 0,
             "ticks": ""
            },
            "colorscale": [
             [
              0.0,
              "#0d0887"
             ],
             [
              0.1111111111111111,
              "#46039f"
             ],
             [
              0.2222222222222222,
              "#7201a8"
             ],
             [
              0.3333333333333333,
              "#9c179e"
             ],
             [
              0.4444444444444444,
              "#bd3786"
             ],
             [
              0.5555555555555556,
              "#d8576b"
             ],
             [
              0.6666666666666666,
              "#ed7953"
             ],
             [
              0.7777777777777778,
              "#fb9f3a"
             ],
             [
              0.8888888888888888,
              "#fdca26"
             ],
             [
              1.0,
              "#f0f921"
             ]
            ]
           }
          ],
          "surface": [
           {
            "type": "surface",
            "colorbar": {
             "outlinewidth": 0,
             "ticks": ""
            },
            "colorscale": [
             [
              0.0,
              "#0d0887"
             ],
             [
              0.1111111111111111,
              "#46039f"
             ],
             [
              0.2222222222222222,
              "#7201a8"
             ],
             [
              0.3333333333333333,
              "#9c179e"
             ],
             [
              0.4444444444444444,
              "#bd3786"
             ],
             [
              0.5555555555555556,
              "#d8576b"
             ],
             [
              0.6666666666666666,
              "#ed7953"
             ],
             [
              0.7777777777777778,
              "#fb9f3a"
             ],
             [
              0.8888888888888888,
              "#fdca26"
             ],
             [
              1.0,
              "#f0f921"
             ]
            ]
           }
          ],
          "mesh3d": [
           {
            "type": "mesh3d",
            "colorbar": {
             "outlinewidth": 0,
             "ticks": ""
            }
           }
          ],
          "scatter": [
           {
            "marker": {
             "line": {
              "color": "#283442"
             }
            },
            "type": "scatter"
           }
          ],
          "parcoords": [
           {
            "type": "parcoords",
            "line": {
             "colorbar": {
              "outlinewidth": 0,
              "ticks": ""
             }
            }
           }
          ],
          "scatterpolargl": [
           {
            "type": "scatterpolargl",
            "marker": {
             "colorbar": {
              "outlinewidth": 0,
              "ticks": ""
             }
            }
           }
          ],
          "bar": [
           {
            "error_x": {
             "color": "#f2f5fa"
            },
            "error_y": {
             "color": "#f2f5fa"
            },
            "marker": {
             "line": {
              "color": "rgb(17,17,17)",
              "width": 0.5
             },
             "pattern": {
              "fillmode": "overlay",
              "size": 10,
              "solidity": 0.2
             }
            },
            "type": "bar"
           }
          ],
          "scattergeo": [
           {
            "type": "scattergeo",
            "marker": {
             "colorbar": {
              "outlinewidth": 0,
              "ticks": ""
             }
            }
           }
          ],
          "scatterpolar": [
           {
            "type": "scatterpolar",
            "marker": {
             "colorbar": {
              "outlinewidth": 0,
              "ticks": ""
             }
            }
           }
          ],
          "histogram": [
           {
            "marker": {
             "pattern": {
              "fillmode": "overlay",
              "size": 10,
              "solidity": 0.2
             }
            },
            "type": "histogram"
           }
          ],
          "scattergl": [
           {
            "marker": {
             "line": {
              "color": "#283442"
             }
            },
            "type": "scattergl"
           }
          ],
          "scatter3d": [
           {
            "type": "scatter3d",
            "line": {
             "colorbar": {
              "outlinewidth": 0,
              "ticks": ""
             }
            },
            "marker": {
             "colorbar": {
              "outlinewidth": 0,
              "ticks": ""
             }
            }
           }
          ],
          "scattermapbox": [
           {
            "type": "scattermapbox",
            "marker": {
             "colorbar": {
              "outlinewidth": 0,
              "ticks": ""
             }
            }
           }
          ],
          "scatterternary": [
           {
            "type": "scatterternary",
            "marker": {
             "colorbar": {
              "outlinewidth": 0,
              "ticks": ""
             }
            }
           }
          ],
          "scattercarpet": [
           {
            "type": "scattercarpet",
            "marker": {
             "colorbar": {
              "outlinewidth": 0,
              "ticks": ""
             }
            }
           }
          ],
          "carpet": [
           {
            "aaxis": {
             "endlinecolor": "#A2B1C6",
             "gridcolor": "#506784",
             "linecolor": "#506784",
             "minorgridcolor": "#506784",
             "startlinecolor": "#A2B1C6"
            },
            "baxis": {
             "endlinecolor": "#A2B1C6",
             "gridcolor": "#506784",
             "linecolor": "#506784",
             "minorgridcolor": "#506784",
             "startlinecolor": "#A2B1C6"
            },
            "type": "carpet"
           }
          ],
          "table": [
           {
            "cells": {
             "fill": {
              "color": "#506784"
             },
             "line": {
              "color": "rgb(17,17,17)"
             }
            },
            "header": {
             "fill": {
              "color": "#2a3f5f"
             },
             "line": {
              "color": "rgb(17,17,17)"
             }
            },
            "type": "table"
           }
          ],
          "barpolar": [
           {
            "marker": {
             "line": {
              "color": "rgb(17,17,17)",
              "width": 0.5
             },
             "pattern": {
              "fillmode": "overlay",
              "size": 10,
              "solidity": 0.2
             }
            },
            "type": "barpolar"
           }
          ],
          "pie": [
           {
            "automargin": true,
            "type": "pie"
           }
          ]
         },
         "layout": {
          "autotypenumbers": "strict",
          "colorway": [
           "#636efa",
           "#EF553B",
           "#00cc96",
           "#ab63fa",
           "#FFA15A",
           "#19d3f3",
           "#FF6692",
           "#B6E880",
           "#FF97FF",
           "#FECB52"
          ],
          "font": {
           "color": "#f2f5fa"
          },
          "hovermode": "closest",
          "hoverlabel": {
           "align": "left"
          },
          "paper_bgcolor": "rgb(17,17,17)",
          "plot_bgcolor": "rgb(17,17,17)",
          "polar": {
           "bgcolor": "rgb(17,17,17)",
           "angularaxis": {
            "gridcolor": "#506784",
            "linecolor": "#506784",
            "ticks": ""
           },
           "radialaxis": {
            "gridcolor": "#506784",
            "linecolor": "#506784",
            "ticks": ""
           }
          },
          "ternary": {
           "bgcolor": "rgb(17,17,17)",
           "aaxis": {
            "gridcolor": "#506784",
            "linecolor": "#506784",
            "ticks": ""
           },
           "baxis": {
            "gridcolor": "#506784",
            "linecolor": "#506784",
            "ticks": ""
           },
           "caxis": {
            "gridcolor": "#506784",
            "linecolor": "#506784",
            "ticks": ""
           }
          },
          "coloraxis": {
           "colorbar": {
            "outlinewidth": 0,
            "ticks": ""
           }
          },
          "colorscale": {
           "sequential": [
            [
             0.0,
             "#0d0887"
            ],
            [
             0.1111111111111111,
             "#46039f"
            ],
            [
             0.2222222222222222,
             "#7201a8"
            ],
            [
             0.3333333333333333,
             "#9c179e"
            ],
            [
             0.4444444444444444,
             "#bd3786"
            ],
            [
             0.5555555555555556,
             "#d8576b"
            ],
            [
             0.6666666666666666,
             "#ed7953"
            ],
            [
             0.7777777777777778,
             "#fb9f3a"
            ],
            [
             0.8888888888888888,
             "#fdca26"
            ],
            [
             1.0,
             "#f0f921"
            ]
           ],
           "sequentialminus": [
            [
             0.0,
             "#0d0887"
            ],
            [
             0.1111111111111111,
             "#46039f"
            ],
            [
             0.2222222222222222,
             "#7201a8"
            ],
            [
             0.3333333333333333,
             "#9c179e"
            ],
            [
             0.4444444444444444,
             "#bd3786"
            ],
            [
             0.5555555555555556,
             "#d8576b"
            ],
            [
             0.6666666666666666,
             "#ed7953"
            ],
            [
             0.7777777777777778,
             "#fb9f3a"
            ],
            [
             0.8888888888888888,
             "#fdca26"
            ],
            [
             1.0,
             "#f0f921"
            ]
           ],
           "diverging": [
            [
             0,
             "#8e0152"
            ],
            [
             0.1,
             "#c51b7d"
            ],
            [
             0.2,
             "#de77ae"
            ],
            [
             0.3,
             "#f1b6da"
            ],
            [
             0.4,
             "#fde0ef"
            ],
            [
             0.5,
             "#f7f7f7"
            ],
            [
             0.6,
             "#e6f5d0"
            ],
            [
             0.7,
             "#b8e186"
            ],
            [
             0.8,
             "#7fbc41"
            ],
            [
             0.9,
             "#4d9221"
            ],
            [
             1,
             "#276419"
            ]
           ]
          },
          "xaxis": {
           "gridcolor": "#283442",
           "linecolor": "#506784",
           "ticks": "",
           "title": {
            "standoff": 15
           },
           "zerolinecolor": "#283442",
           "automargin": true,
           "zerolinewidth": 2
          },
          "yaxis": {
           "gridcolor": "#283442",
           "linecolor": "#506784",
           "ticks": "",
           "title": {
            "standoff": 15
           },
           "zerolinecolor": "#283442",
           "automargin": true,
           "zerolinewidth": 2
          },
          "scene": {
           "xaxis": {
            "backgroundcolor": "rgb(17,17,17)",
            "gridcolor": "#506784",
            "linecolor": "#506784",
            "showbackground": true,
            "ticks": "",
            "zerolinecolor": "#C8D4E3",
            "gridwidth": 2
           },
           "yaxis": {
            "backgroundcolor": "rgb(17,17,17)",
            "gridcolor": "#506784",
            "linecolor": "#506784",
            "showbackground": true,
            "ticks": "",
            "zerolinecolor": "#C8D4E3",
            "gridwidth": 2
           },
           "zaxis": {
            "backgroundcolor": "rgb(17,17,17)",
            "gridcolor": "#506784",
            "linecolor": "#506784",
            "showbackground": true,
            "ticks": "",
            "zerolinecolor": "#C8D4E3",
            "gridwidth": 2
           }
          },
          "shapedefaults": {
           "line": {
            "color": "#f2f5fa"
           }
          },
          "annotationdefaults": {
           "arrowcolor": "#f2f5fa",
           "arrowhead": 0,
           "arrowwidth": 1
          },
          "geo": {
           "bgcolor": "rgb(17,17,17)",
           "landcolor": "rgb(17,17,17)",
           "subunitcolor": "#506784",
           "showland": true,
           "showlakes": true,
           "lakecolor": "rgb(17,17,17)"
          },
          "title": {
           "x": 0.05
          },
          "updatemenudefaults": {
           "bgcolor": "#506784",
           "borderwidth": 0
          },
          "sliderdefaults": {
           "bgcolor": "#C8D4E3",
           "borderwidth": 1,
           "bordercolor": "rgb(17,17,17)",
           "tickwidth": 0
          },
          "mapbox": {
           "style": "dark"
          }
         }
        },
        "scene": {
         "camera": {
          "eye": {
           "z": 1,
           "y": 2
          }
         }
        },
        "width": 1000,
        "height": 1000
       },
       "config": {
        "plotlyServerURL": "https://plot.ly"
       }
      },
      "text/html": [
       "<div>                            <div id=\"b521aa89-5fb3-4aa8-b389-6276b08d2697\" class=\"plotly-graph-div\" style=\"height:1000px; width:1000px;\"></div>            <script type=\"text/javascript\">                require([\"plotly\"], function(Plotly) {                    window.PLOTLYENV=window.PLOTLYENV || {};                                    if (document.getElementById(\"b521aa89-5fb3-4aa8-b389-6276b08d2697\")) {                    Plotly.newPlot(                        \"b521aa89-5fb3-4aa8-b389-6276b08d2697\",                        [{\"mode\":\"markers\",\"x\":[0.0,0.014462415088110553,0.048754868948410274,0.048754868948410274,0.09921175323558473,0.142061943334867,0.15200273484109597,0.15200273484109597,0.20712243067192584,0.20712243067192584,0.20712243067192584,0.2486691586432239,0.2486691586432239,0.2486691586432239,0.2486691586432239,0.26444804145617906,0.2706433074228397,0.287364693436684,0.287364693436684,0.287364693436684,0.32383956752821885,0.3309076755019078,0.35851530306772517,0.35851530306772517,0.35851530306772517,0.35851530306772517,0.35851530306772517,0.35851530306772517,0.35851530306772517,0.3741004192458597,0.3785852088535798,0.3895104386041933,0.410971391909977,0.410971391909977,0.4235890702719304,0.4235890702719304,0.4235890702719304,0.4235890702719304,0.4235890702719304,0.4235890702719304,0.43602995149934365,0.46216084750514264,0.463385591535439,0.46641672528742384,0.4744161632629783,0.4841969859323624,0.4841969859323624,0.4841969859323624,0.4841969859323624,0.5413266755148816,0.5413266755148816,0.5413266755148816,0.5413266755148816,0.5413266755148816,0.5413266755148816,0.5413266755148816,0.5413266755148816,0.5413266755148816,0.5413266755148816,0.5413266755148816,0.5413266755148816,0.5413266755148816,0.5578918427894118,0.5903195437011428,0.5956383794928384,0.5956383794928384,0.5956383794928384,0.5956383794928384,0.5956383794928384,0.5998765839487468,0.6062062522015733,0.6062062522015733,0.6373781986057344,0.6412416405228594,0.6476007869256523,0.6476007869256523,0.6476007869256523,0.6476007869256523,0.6975616523739158,0.6975616523739158,0.6975616523739158,0.7457879221595202,0.7457879221595202,0.7457879221595202,0.7457879221595202,0.7457879221595202,0.7924901147835742,0.7924901147835742,0.7924901147835742,0.7924901147835742,0.7924901147835742,0.7924901147835742,0.7924901147835742,0.7924901147835742,0.8032995515934787,0.8062298173454568,0.8819706856008416,0.8819706856008416,0.9794650789441687,0.9999999999999999],\"y\":[0.3450900598680071,0.7630395323306253,0.8381852441632668,0.35505681489639607,0.4115445555321515,0.3650843049048086,0.6441947486753999,0.3649852122753089,0.5012506760136434,0.5542004248309788,0.5097321702137775,0.5536438675463241,0.5266238962842641,0.45272210985485084,0.3649852122753089,0.8849521409057975,0.30482477997837243,0.688118860396216,0.4131022255887723,0.7332576576885982,0.41407531979332624,0.29567389962915747,0.3450900598680071,0.5545714080318348,0.6747320709109393,0.29567389962915747,0.5545714080318348,0.7455501310568214,0.6621908645081226,0.6441947486753999,0.4431102210322557,0.5539221585652293,0.8321931747609607,0.9837663970706599,0.5298306035438921,0.34608848167366935,0.48952538094464526,0.9835187136506555,0.34558931956446437,0.023483689694509424,0.5097321702137775,0.5298306035438921,0.533033956044343,0.34548947543505837,0.37487594448955786,0.34608848167366935,0.7323780305673536,0.5536438675463241,0.843314008394784,0.5298306035438921,0.433465489752876,0.34608848167366935,0.41378342779721977,0.023483689694509424,0.6441947486753999,0.41407531979332624,0.5536438675463241,0.5266238962842641,0.5542004248309788,0.533033956044343,0.139665468677038,0.34548947543505837,0.7014546221366288,0.6747320709109393,0.5517879607316315,0.5542004248309788,0.5539221585652293,0.4237873750489375,0.5078494669300674,0.34548947543505837,0.433465489752876,0.6747320709109393,0.8859664382618552,0.661921623131778,0.5536438675463241,0.5266238962842641,0.0,0.41407531979332624,0.6441947486753999,0.49085153073235255,0.41378342779721977,0.6478016061768123,0.46134516410992055,0.6568020078462994,0.12869742412460095,0.5266238962842641,0.5536438675463241,0.5298306035438921,1.0,0.6024336766801922,0.7754070205077518,0.41378342779721977,0.5298306035438921,0.5542004248309788,0.30482477997837243,0.39846399578423486,0.34548947543505837,0.6441947486753999,0.5359678714016912,0.29567389962915747],\"z\":[2504.340094885712,4325.490627749099,3005.060875343073,1371.4553946275435,2858.099106944524,3040.9549548340606,3561.675137578029,2968.8364806439035,2913.8650100519185,783.6407270395327,3778.725317933154,2036.3050578127259,3778.725317933154,3433.0476551739293,1509.6540776362924,3465.54200122119,3748.301263307771,2084.2535313392573,4044.6811367505693,2312.553741681085,1987.483816525951,2433.231352587007,923.4930827892188,1008.4131493374831,4849.525115055794,2420.5195760156867,966.6566852288162,2858.099106944524,3671.4116823736763,2724.6608484945746,2740.158501989414,2724.6608484945746,1808.9526770663006,3481.703171694347,1987.483816525951,1728.245819198764,1305.050989143008,3655.887586118113,2312.553741681085,3300.6729582782837,4460.8399944556295,3266.9496328449904,2724.6608484945746,3023.0499335774452,1782.3572667786045,2312.553741681085,3058.7878442885713,2441.6780868662067,4044.6811367505693,3023.0499335774452,3400.3193912217594,2895.366529433846,3868.908774948755,2858.099106944524,2782.440039792855,2820.4611227359283,3181.466776034581,2705.194675682849,2913.8650100519185,4242.722256073363,3164.161604688757,1755.4589083510662,4130.434777187448,5096.041336150017,3748.301263307771,4141.767076792064,2524.965669208165,3655.887586118113,2724.6608484945746,3748.301263307771,3655.887586118113,3596.4359719703743,2724.6608484945746,3517.059968938457,1755.4589083510662,3094.213227945625,1305.050989143008,2483.5854717634497,1962.7383375962488,2420.5195760156867,2177.7394029782295,3593.286395440848,2420.5195760156867,2858.099106944524,1008.4131493374831,2858.099106944524,2084.2535313392573,2084.2535313392573,4067.6821546784095,2524.965669208165,2084.2535313392573,2356.187966815977,3898.618767183138,1861.2730167767122,2685.6221682594064,1410.1562928179237,2858.099106944524,2312.553741681085,3164.161604688757,2763.277876606988],\"type\":\"scatter3d\"},{\"colorscale\":[[0,\"#aa9ce2\"],[1,\"#aa9ce2\"]],\"showscale\":false,\"x\":[0.0,0.02,0.04,0.06,0.08,0.1,0.12,0.14,0.16,0.18,0.2,0.22,0.24,0.26,0.28,0.3,0.32,0.34,0.36,0.38,0.4,0.42,0.44,0.46,0.48,0.5,0.52,0.54,0.56,0.58,0.6,0.62,0.64,0.66,0.68,0.7000000000000001,0.72,0.74,0.76,0.78,0.8,0.8200000000000001,0.84,0.86,0.88,0.9,0.92,0.9400000000000001,0.96,0.98],\"y\":[0.0,0.02,0.04,0.06,0.08,0.1,0.12,0.14,0.16,0.18,0.2,0.22,0.24,0.26,0.28,0.3,0.32,0.34,0.36,0.38,0.4,0.42,0.44,0.46,0.48,0.5,0.52,0.54,0.56,0.58,0.6,0.62,0.64,0.66,0.68,0.7000000000000001,0.72,0.74,0.76,0.78,0.8,0.8200000000000001,0.84,0.86,0.88,0.9,0.92,0.9400000000000001,0.96,0.98],\"z\":[[3047.0467479635736,3017.913877748624,2988.781007533675,2959.6481373187257,2930.5152671037763,2901.3823968888273,2872.249526673878,2843.1166564589284,2813.9837862439795,2784.85091602903,2755.7180458140806,2726.5851755991316,2697.452305384182,2668.3194351692327,2639.1865649542833,2610.0536947393343,2580.920824524385,2551.787954309436,2522.6550840944865,2493.522213879537,2464.3893436645876,2435.2564734496386,2406.123603234689,2376.99073301974,2347.857862804791,2318.7249925898413,2289.592122374892,2260.459252159943,2231.3263819449935,2202.1935117300445,2173.060641515095,2143.9277713001457,2114.794901085196,2085.6620308702472,2056.529160655298,2027.3962904403484,1998.2634202253994,1969.13055001045,1939.9976797955007,1910.8648095805515,1881.731939365602,1852.599069150653,1823.4661989357037,1794.3333287207543,1765.200458505805,1736.0675882908558,1706.9347180759064,1677.8018478609572,1648.668977646008,1619.5361074310586],[3065.9199309182804,3036.787060703331,3007.6541904883816,2978.5213202734326,2949.388450058483,2920.2555798435337,2891.1227096285847,2861.9898394136353,2832.856969198686,2803.724098983737,2774.5912287687875,2745.458358553838,2716.325488338889,2687.1926181239396,2658.05974790899,2628.926877694041,2599.7940074790918,2570.6611372641423,2541.5282670491933,2512.395396834244,2483.2625266192945,2454.1296564043455,2424.996786189396,2395.8639159744466,2366.7310457594976,2337.598175544548,2308.465305329599,2279.3324351146493,2250.1995648997004,2221.0666946847514,2191.933824469802,2162.8009542548525,2133.668084039903,2104.5352138249536,2075.4023436100047,2046.2694733950552,2017.136603180106,1988.0037329651568,1958.8708627502074,1929.7379925352582,1900.6051223203087,1871.4722521053595,1842.3393818904103,1813.2065116754611,1784.0736414605117,1754.9407712455625,1725.807901030613,1696.6750308156638,1667.5421606007146,1638.4092903857654],[3084.793113872987,3055.660243658038,3026.5273734430884,2997.394503228139,2968.26163301319,2939.1287627982406,2909.995892583291,2880.863022368342,2851.7301521533927,2822.5972819384433,2793.4644117234943,2764.331541508545,2735.1986712935955,2706.0658010786465,2676.932930863697,2647.8000606487476,2618.6671904337986,2589.534320218849,2560.4014500038998,2531.268579788951,2502.1357095740013,2473.002839359052,2443.8699691441025,2414.7370989291535,2385.604228714204,2356.471358499255,2327.3384882843056,2298.205618069356,2269.0727478544068,2239.939877639458,2210.8070074245084,2181.6741372095594,2152.54126699461,2123.4083967796605,2094.275526564711,2065.142656349762,2036.0097861348127,2006.8769159198634,1977.7440457049142,1948.6111754899648,1919.4783052750156,1890.3454350600662,1861.2125648451172,1832.0796946301678,1802.9468244152185,1773.813954200269,1744.68108398532,1715.5482137703705,1686.4153435554215,1657.282473340472],[3103.6662968276937,3074.5334266127443,3045.4005563977953,3016.267686182846,2987.1348159678964,2958.0019457529474,2928.869075537998,2899.7362053230486,2870.6033351080996,2841.47046489315,2812.3375946782007,2783.2047244632518,2754.0718542483023,2724.938984033353,2695.806113818404,2666.6732436034545,2637.540373388505,2608.407503173556,2579.2746329586066,2550.141762743657,2521.008892528708,2491.8760223137588,2462.7431520988093,2433.61028188386,2404.477411668911,2375.3445414539615,2346.2116712390125,2317.078801024063,2287.9459308091136,2258.8130605941647,2229.680190379215,2200.547320164266,2171.414449949317,2142.2815797343674,2113.148709519418,2084.0158393044685,2054.8829690895195,2025.75009887457,1996.6172286596209,1967.4843584446717,1938.3514882297222,1909.218618014773,1880.0857477998238,1850.9528775848746,1821.8200073699252,1792.687137154976,1763.5542669400265,1734.4213967250773,1705.2885265101281,1676.155656295179],[3122.5394797824006,3093.406609567451,3064.2737393525017,3035.1408691375527,3006.0079989226033,2976.875128707654,2947.742258492705,2918.6093882777554,2889.476518062806,2860.343647847857,2831.2107776329076,2802.077907417958,2772.945037203009,2743.8121669880597,2714.6792967731103,2685.5464265581613,2656.413556343212,2627.2806861282625,2598.1478159133135,2569.014945698364,2539.8820754834146,2510.7492052684656,2481.616335053516,2452.4834648385668,2423.350594623618,2394.2177244086683,2365.084854193719,2335.95198397877,2306.8191137638205,2277.686243548871,2248.553373333922,2219.4205031189726,2190.287632904023,2161.1547626890742,2132.021892474125,2102.8890222591754,2073.7561520442264,2044.623281829277,2015.4904116143275,1986.3575413993783,1957.224671184429,1928.0918009694797,1898.9589307545305,1869.8260605395812,1840.6931903246318,1811.5603201096826,1782.4274498947334,1753.294579679784,1724.1617094648348,1695.0288392498856],[3141.412662737107,3112.279792522158,3083.1469223072086,3054.014052092259,3024.88118187731,2995.7483116623607,2966.6154414474113,2937.4825712324623,2908.349701017513,2879.2168308025634,2850.0839605876145,2820.951090372665,2791.8182201577156,2762.6853499427666,2733.552479727817,2704.4196095128677,2675.2867392979188,2646.1538690829693,2617.02099886802,2587.888128653071,2558.7552584381215,2529.6223882231725,2500.489518008223,2471.3566477932736,2442.223777578324,2413.090907363375,2383.958037148426,2354.8251669334763,2325.6922967185274,2296.559426503578,2267.4265562886285,2238.2936860736795,2209.16081585873,2180.0279456437806,2150.8950754288317,2121.762205213882,2092.629334998933,2063.496464783984,2034.3635945690344,2005.230724354085,1976.0978541391357,1946.9649839241863,1917.8321137092373,1888.6992434942879,1859.5663732793387,1830.4335030643892,1801.30063284944,1772.1677626344906,1743.0348924195416,1713.9020222045922],[3160.285845691814,3131.1529754768644,3102.0201052619154,3072.887235046966,3043.7543648320166,3014.6214946170676,2985.488624402118,2956.3557541871687,2927.2228839722197,2898.0900137572703,2868.957143542321,2839.824273327372,2810.6914031124224,2781.558532897473,2752.425662682524,2723.2927924675746,2694.159922252625,2665.027052037676,2635.8941818227268,2606.7613116077773,2577.6284413928283,2548.495571177879,2519.3627009629295,2490.2298307479805,2461.096960533031,2431.9640903180816,2402.831220103132,2373.698349888183,2344.5654796732338,2315.432609458285,2286.2997392433354,2257.166869028386,2228.0339988134365,2198.9011285984875,2169.768258383538,2140.635388168589,2111.5025179536397,2082.36964773869,2053.236777523741,2024.1039073087918,1994.9710370938424,1965.8381668788932,1936.705296663944,1907.5724264489947,1878.4395562340453,1849.306686019096,1820.1738158041467,1791.0409455891975,1761.9080753742483,1732.775205159299],[3179.1590286465207,3150.0261584315713,3120.893288216622,3091.760418001673,3062.6275477867234,3033.494677571774,3004.361807356825,2975.2289371418756,2946.096066926926,2916.963196711977,2887.8303264970277,2858.6974562820783,2829.5645860671293,2800.43171585218,2771.2988456372304,2742.1659754222815,2713.033105207332,2683.9002349923826,2654.7673647774336,2625.634494562484,2596.5016243475347,2567.3687541325858,2538.2358839176363,2509.103013702687,2479.970143487738,2450.8372732727885,2421.704403057839,2392.5715328428896,2363.4386626279406,2334.3057924129917,2305.172922198042,2276.040051983093,2246.9071817681433,2217.774311553194,2188.641441338245,2159.5085711232955,2130.3757009083465,2101.242830693397,2072.1099604784476,2042.9770902634984,2013.8442200485492,1984.7113498335998,1955.5784796186508,1926.4456094037014,1897.3127391887522,1868.1798689738027,1839.0469987588535,1809.914128543904,1780.7812583289551,1751.6483881140057],[3198.032211601227,3168.899341386278,3139.7664711713287,3110.6336009563793,3081.5007307414303,3052.367860526481,3023.2349903115314,2994.1021200965824,2964.969249881633,2935.8363796666836,2906.7035094517346,2877.570639236785,2848.4377690218357,2819.3048988068867,2790.1720285919373,2761.039158376988,2731.906288162039,2702.7734179470895,2673.64054773214,2644.507677517191,2615.3748073022416,2586.241937087292,2557.109066872343,2527.9761966573938,2498.843326442445,2469.7104562274953,2440.577586012546,2411.4447157975965,2382.311845582647,2353.178975367698,2324.046105152749,2294.9132349377996,2265.78036472285,2236.647494507901,2207.5146242929513,2178.3817540780024,2149.2488838630534,2120.116013648104,2090.9831434331545,2061.850273218205,2032.7174030032559,2003.5845327883067,1974.4516625733575,1945.318792358408,1916.1859221434588,1887.0530519285094,1857.9201817135602,1828.787311498611,1799.6544412836618,1770.5215710687123],[3216.905394555934,3187.7725243409845,3158.6396541260356,3129.506783911086,3100.3739136961367,3071.2410434811877,3042.1081732662383,3012.975303051289,2983.84243283634,2954.7095626213904,2925.576692406441,2896.443822191492,2867.3109519765426,2838.178081761593,2809.045211546644,2779.9123413316947,2750.7794711167453,2721.6466009017963,2692.513730686847,2663.3808604718974,2634.2479902569485,2605.115120041999,2575.9822498270496,2546.8493796121006,2517.716509397151,2488.583639182202,2459.4507689672528,2430.3178987523033,2401.185028537354,2372.052158322405,2342.9192881074555,2313.786417892506,2284.653547677557,2255.5206774626076,2226.387807247658,2197.2549370327088,2168.12206681776,2138.9891966028104,2109.8563263878614,2080.723456172912,2051.5905859579625,2022.4577157430133,1993.324845528064,1964.1919753131149,1935.0591050981654,1905.9262348832162,1876.7933646682668,1847.6604944533176,1818.5276242383684,1789.3947540234192],[3235.778577510641,3206.6457072956914,3177.5128370807424,3148.379966865793,3119.2470966508436,3090.114226435894,3060.981356220945,3031.8484860059957,3002.7156157910463,2973.5827455760973,2944.449875361148,2915.3170051461984,2886.1841349312494,2857.0512647163,2827.9183945013506,2798.7855242864016,2769.652654071452,2740.5197838565027,2711.3869136415537,2682.2540434266043,2653.121173211655,2623.988302996706,2594.8554327817565,2565.722562566807,2536.589692351858,2507.4568221369086,2478.323951921959,2449.19108170701,2420.0582114920608,2390.9253412771113,2361.7924710621623,2332.659600847213,2303.5267306322635,2274.3938604173145,2245.260990202365,2216.1281199874156,2186.9952497724667,2157.862379557517,2128.729509342568,2099.596639127619,2070.4637689126694,2041.33089869772,2012.198028482771,1983.0651582678215,1953.9322880528723,1924.7994178379229,1895.6665476229737,1866.5336774080242,1837.4008071930753,1808.2679369781258],[3254.6517604653473,3225.5188902503983,3196.386020035449,3167.2531498205,3138.1202796055504,3108.987409390601,3079.8545391756516,3050.7216689607026,3021.588798745753,2992.4559285308037,2963.3230583158547,2934.1901881009053,2905.057317885956,2875.924447671007,2846.7915774560574,2817.6587072411085,2788.525837026159,2759.3929668112096,2730.26009659626,2701.127226381311,2671.9943561663617,2642.8614859514128,2613.7286157364633,2584.595745521514,2555.4628753065645,2526.3300050916155,2497.197134876666,2468.0642646617166,2438.9313944467676,2409.798524231818,2380.6656540168688,2351.53278380192,2322.3999135869703,2293.267043372021,2264.134173157072,2235.0013029421225,2205.868432727173,2176.735562512224,2147.6026922972746,2118.469822082325,2089.3369518673762,2060.204081652427,2031.0712114374776,2001.9383412225282,1972.805471007579,1943.6726007926297,1914.5397305776803,1885.406860362731,1856.273990147782,1827.1411199328325],[3273.524943420054,3244.3920732051047,3215.2592029901557,3186.1263327752063,3156.993462560257,3127.860592345308,3098.7277221303584,3069.594851915409,3040.46198170046,3011.3291114855106,2982.196241270561,2953.063371055612,2923.9305008406627,2894.7976306257133,2865.6647604107643,2836.531890195815,2807.3990199808654,2778.2661497659165,2749.133279550967,2720.0004093360176,2690.8675391210686,2661.734668906119,2632.6017986911697,2603.4689284762208,2574.3360582612713,2545.203188046322,2516.070317831373,2486.9374476164235,2457.804577401474,2428.671707186525,2399.5388369715756,2370.405966756626,2341.273096541677,2312.1402263267278,2283.0073561117783,2253.8744858968294,2224.74161568188,2195.6087454669305,2166.4758752519815,2137.343005037032,2108.2101348220826,2079.0772646071337,2049.944394392184,2020.811524177235,1991.6786539622856,1962.5457837473364,1933.412913532387,1904.2800433174377,1875.1471731024885,1846.0143028875393],[3292.398126374761,3263.2652561598115,3234.1323859448626,3204.999515729913,3175.8666455149637,3146.7337753000147,3117.6009050850653,3088.468034870116,3059.335164655167,3030.2022944402174,3001.069424225268,2971.936554010319,2942.8036837953696,2913.67081358042,2884.5379433654707,2855.4050731505217,2826.2722029355723,2797.139332720623,2768.006462505674,2738.8735922907244,2709.740722075775,2680.607851860826,2651.4749816458766,2622.342111430927,2593.209241215978,2564.0763710010287,2534.9435007860793,2505.8106305711303,2476.677760356181,2447.544890141232,2418.4120199262825,2389.279149711333,2360.1462794963836,2331.0134092814346,2301.880539066485,2272.7476688515358,2243.614798636587,2214.4819284216373,2185.349058206688,2156.216187991739,2127.0833177767895,2097.95044756184,2068.817577346891,2039.6847071319417,2010.5518369169924,1981.418966702043,1952.2860964870938,1923.1532262721444,1894.0203560571954,1864.887485842246],[3311.271309329468,3282.1384391145184,3253.005568899569,3223.87269868462,3194.7398284696706,3165.606958254721,3136.474088039772,3107.3412178248227,3078.2083476098733,3049.0754773949243,3019.942607179975,2990.8097369650254,2961.6768667500764,2932.543996535127,2903.4111263201776,2874.2782561052286,2845.145385890279,2816.0125156753297,2786.8796454603807,2757.7467752454313,2728.613905030482,2699.481034815533,2670.3481646005835,2641.215294385634,2612.082424170685,2582.9495539557356,2553.816683740786,2524.6838135258367,2495.5509433108878,2466.4180730959383,2437.2852028809893,2408.15233266604,2379.0194624510905,2349.886592236141,2320.753722021192,2291.6208518062426,2262.4879815912936,2233.355111376344,2204.222241161395,2175.0893709464453,2145.9565007314964,2116.823630516547,2087.690760301598,2058.5578900866485,2029.425019871699,2000.2921496567499,1971.1592794418004,1942.0264092268512,1912.893539011902,1883.7606687969528],[3330.1444922841742,3301.011622069225,3271.878751854276,3242.7458816393264,3213.613011424377,3184.480141209428,3155.3472709944785,3126.214400779529,3097.08153056458,3067.9486603496307,3038.8157901346813,3009.6829199197323,2980.550049704783,2951.4171794898334,2922.2843092748844,2893.151439059935,2864.0185688449856,2834.8856986300366,2805.752828415087,2776.6199582001377,2747.4870879851887,2718.3542177702393,2689.22134755529,2660.088477340341,2630.9556071253915,2601.822736910442,2572.689866695493,2543.5569964805436,2514.424126265594,2485.291256050645,2456.1583858356958,2427.0255156207463,2397.8926454057973,2368.759775190848,2339.6269049758985,2310.494034760949,2281.361164546,2252.2282943310506,2223.0954241161016,2193.962553901152,2164.8296836862028,2135.6968134712533,2106.5639432563044,2077.431073041355,2048.298202826406,2019.1653326114565,1990.032462396507,1960.8995921815579,1931.7667219666087,1902.6338517516594],[3349.017675238881,3319.8848050239317,3290.7519348089827,3261.6190645940333,3232.486194379084,3203.3533241641344,3174.2204539491854,3145.087583734236,3115.954713519287,3086.8218433043376,3057.688973089388,3028.5561028744387,2999.4232326594897,2970.2903624445403,2941.157492229591,2912.024622014642,2882.8917517996924,2853.758881584743,2824.626011369794,2795.4931411548446,2766.360270939895,2737.227400724946,2708.0945305099967,2678.9616602950473,2649.8287900800983,2620.695919865149,2591.5630496501994,2562.4301794352505,2533.297309220301,2504.1644390053516,2475.0315687904026,2445.898698575453,2416.765828360504,2387.6329581455548,2358.5000879306053,2329.367217715656,2300.234347500707,2271.1014772857575,2241.9686070708085,2212.835736855859,2183.7028666409096,2154.56999642596,2125.437126211011,2096.304255996062,2067.171385781113,2038.0385155661634,2008.905645351214,1979.7727751362645,1950.6399049213155,1921.507034706366],[3367.890858193588,3338.7579879786385,3309.625117763689,3280.49224754874,3251.3593773337907,3222.2265071188413,3193.0936369038923,3163.960766688943,3134.8278964739934,3105.6950262590444,3076.562156044095,3047.4292858291456,3018.2964156141966,2989.163545399247,2960.0306751842977,2930.8978049693487,2901.7649347543993,2872.63206453945,2843.499194324501,2814.3663241095514,2785.233453894602,2756.100583679653,2726.9677134647036,2697.834843249754,2668.701973034805,2639.5691028198557,2610.4362326049063,2581.303362389957,2552.170492175008,2523.0376219600585,2493.904751745109,2464.77188153016,2435.6390113152106,2406.5061411002616,2377.373270885312,2348.2404006703628,2319.1075304554133,2289.9746602404643,2260.841790025515,2231.708919810566,2202.5760495956165,2173.443179380667,2144.3103091657176,2115.1774389507686,2086.044568735819,2056.9116985208702,2027.7788283059208,1998.6459580909714,1969.5130878760222,1940.380217661073],[3386.7640411482944,3357.6311709333454,3328.498300718396,3299.3654305034465,3270.2325602884976,3241.099690073548,3211.9668198585987,3182.8339496436492,3153.7010794287003,3124.568209213751,3095.435338998802,3066.3024687838524,3037.169598568903,3008.036728353954,2978.9038581390046,2949.770987924055,2920.638117709106,2891.5052474941567,2862.3723772792073,2833.239507064258,2804.106636849309,2774.9737666343594,2745.8408964194105,2716.708026204461,2687.5751559895116,2658.442285774562,2629.309415559613,2600.1765453446637,2571.0436751297143,2541.9108049147653,2512.777934699816,2483.6450644848665,2454.5121942699175,2425.379324054968,2396.2464538400186,2367.1135836250696,2337.98071341012,2308.8478431951708,2279.714972980222,2250.5821027652723,2221.449232550323,2192.316362335374,2163.1834921204245,2134.050621905475,2104.917751690526,2075.7848814755766,2046.6520112606272,2017.519141045678,1988.3862708307288,1959.2534006157796],[3405.6372241030012,3376.504353888052,3347.3714836731024,3318.2386134581534,3289.105743243204,3259.972873028255,3230.8400028133055,3201.707132598356,3172.5742623834067,3143.4413921684577,3114.3085219535083,3085.1756517385593,3056.04278152361,3026.9099113086604,2997.777041093711,2968.644170878762,2939.5113006638126,2910.378430448863,2881.245560233914,2852.1126900189647,2822.9798198040153,2793.8469495890663,2764.714079374117,2735.5812091591674,2706.4483389442184,2677.315468729269,2648.1825985143196,2619.0497282993706,2589.916858084421,2560.783987869472,2531.6511176545227,2502.5182474395733,2473.385377224624,2444.252507009675,2415.1196367947255,2385.986766579776,2356.853896364827,2327.7210261498776,2298.588155934928,2269.455285719979,2240.3224155050298,2211.1895452900803,2182.0566750751314,2152.923804860182,2123.7909346452325,2094.6580644302835,2065.525194215334,2036.3923240003846,2007.2594537854357,1978.1265835704862],[3424.510407057708,3395.3775368427587,3366.2446666278092,3337.1117964128603,3307.978926197911,3278.8460559829614,3249.7131857680124,3220.580315553063,3191.4474453381135,3162.3145751231646,3133.181704908215,3104.0488346932657,3074.9159644783167,3045.7830942633673,3016.650224048418,2987.517353833469,2958.3844836185194,2929.25161340357,2900.118743188621,2870.9858729736716,2841.853002758722,2812.720132543773,2783.5872623288237,2754.4543921138743,2725.3215218989253,2696.188651683976,2667.0557814690264,2637.922911254077,2608.790041039128,2579.6571708241786,2550.5243006092296,2521.39143039428,2492.2585601793307,2463.1256899643813,2433.9928197494323,2404.859949534483,2375.727079319534,2346.5942091045845,2317.461338889635,2288.3284686746856,2259.1955984597366,2230.062728244787,2200.929858029838,2171.796987814889,2142.6641175999393,2113.53124738499,2084.398377170041,2055.2655069550915,2026.1326367401423,1996.999766525193],[3443.3835900124145,3414.2507197974655,3385.117849582516,3355.9849793675667,3326.8521091526177,3297.7192389376683,3268.586368722719,3239.45349850777,3210.3206282928204,3181.187758077871,3152.0548878629215,3122.9220176479726,3093.789147433023,3064.656277218074,3035.5234070031247,3006.3905367881753,2977.257666573226,2948.124796358277,2918.9919261433274,2889.8590559283784,2860.726185713429,2831.5933154984796,2802.46044528353,2773.327575068581,2744.1947048536317,2715.0618346386827,2685.9289644237333,2656.796094208784,2627.6632239938344,2598.5303537788855,2569.397483563936,2540.264613348987,2511.1317431340376,2481.998872919088,2452.8660027041387,2423.7331324891893,2394.6002622742403,2365.4673920592913,2336.334521844342,2307.2016516293925,2278.068781414443,2248.9359111994936,2219.8030409845446,2190.6701707695956,2161.537300554646,2132.404430339697,2103.2715601247473,2074.138689909798,2045.005819694849,2015.8729494798997],[3462.2567729671214,3433.123902752172,3403.991032537223,3374.8581623222735,3345.725292107324,3316.592421892375,3287.4595516774257,3258.3266814624762,3229.1938112475273,3200.060941032578,3170.9280708176284,3141.7952006026794,3112.66233038773,3083.5294601727805,3054.3965899578316,3025.263719742882,2996.1308495279327,2966.9979793129837,2937.8651090980343,2908.732238883085,2879.599368668136,2850.4664984531864,2821.333628238237,2792.2007580232876,2763.0678878083386,2733.935017593389,2704.80214737844,2675.6692771634907,2646.5364069485413,2617.4035367335923,2588.270666518643,2559.1377963036934,2530.0049260887445,2500.872055873795,2471.7391856588456,2442.606315443896,2413.473445228947,2384.3405750139977,2355.2077047990488,2326.0748345840993,2296.94196436915,2267.8090941542005,2238.6762239392515,2209.543353724302,2180.410483509353,2151.2776132944036,2122.144743079454,2093.0118728645048,2063.879002649556,2034.7461324346064],[3481.1299559218282,3451.997085706879,3422.8642154919294,3393.7313452769804,3364.598475062031,3335.4656048470815,3306.3327346321325,3277.199864417183,3248.0669942022337,3218.9341239872847,3189.8012537723353,3160.668383557386,3131.535513342437,3102.4026431274874,3073.269772912538,3044.136902697589,3015.0040324826396,2985.87116226769,2956.738292052741,2927.6054218377917,2898.4725516228423,2869.3396814078933,2840.206811192944,2811.0739409779944,2781.9410707630454,2752.808200548096,2723.6753303331466,2694.542460118197,2665.409589903248,2636.2767196882987,2607.1438494733497,2578.0109792584003,2548.878109043451,2519.745238828502,2490.6123686135525,2461.479498398603,2432.3466281836536,2403.2137579687046,2374.080887753755,2344.948017538806,2315.8151473238568,2286.6822771089073,2257.549406893958,2228.416536679009,2199.2836664640595,2170.1507962491105,2141.017926034161,2111.8850558192116,2082.752185604262,2053.619315389313],[3500.0031388765346,3470.8702686615857,3441.7373984466362,3412.604528231687,3383.471658016738,3354.3387878017884,3325.205917586839,3296.0730473718895,3266.9401771569405,3237.807306941991,3208.674436727042,3179.5415665120927,3150.4086962971433,3121.275826082194,3092.142955867245,3063.0100856522954,3033.8772154373464,3004.744345222397,2975.6114750074476,2946.478604792498,2917.345734577549,2888.2128643625997,2859.0799941476507,2829.9471239327013,2800.814253717752,2771.6813835028024,2742.5485132878534,2713.415643072904,2684.2827728579546,2655.1499026430056,2626.017032428056,2596.8841622131067,2567.7512919981577,2538.6184217832083,2509.485551568259,2480.35268135331,2451.2198111383605,2422.086940923411,2392.954070708462,2363.8212004935126,2334.688330278563,2305.555460063614,2276.4225898486648,2247.2897196337153,2218.1568494187663,2189.023979203817,2159.8911089888675,2130.7582387739185,2101.625368558969,2072.4924983440196],[3518.8763218312415,3489.743451616292,3460.610581401343,3431.4777111863937,3402.3448409714442,3373.2119707564952,3344.079100541546,3314.9462303265964,3285.8133601116474,3256.680489896698,3227.5476196817485,3198.4147494667995,3169.28187925185,3140.1490090369007,3111.0161388219517,3081.8832686070023,3052.750398392053,3023.617528177104,2994.4846579621544,2965.351787747205,2936.218917532256,2907.0860473173066,2877.953177102357,2848.820306887408,2819.6874366724587,2790.5545664575093,2761.42169624256,2732.288826027611,2703.1559558126614,2674.0230855977125,2644.890215382763,2615.7573451678136,2586.624474952864,2557.491604737915,2528.3587345229657,2499.2258643080163,2470.0929940930673,2440.960123878118,2411.8272536631684,2382.6943834482195,2353.56151323327,2324.4286430183206,2295.2957728033716,2266.162902588422,2237.0300323734727,2207.8971621585238,2178.7642919435743,2149.631421728625,2120.498551513676,2091.3656812987265],[3537.7495047859484,3508.616634570999,3479.4837643560495,3450.3508941411005,3421.218023926151,3392.0851537112017,3362.9522834962527,3333.8194132813032,3304.686543066354,3275.553672851405,3246.4208026364554,3217.287932421506,3188.155062206557,3159.0221919916075,3129.889321776658,3100.756451561709,3071.6235813467597,3042.4907111318103,3013.3578409168613,2984.224970701912,2955.0921004869624,2925.9592302720134,2896.826360057064,2867.6934898421146,2838.5606196271656,2809.427749412216,2780.2948791972667,2751.1620089823173,2722.0291387673683,2692.8962685524193,2663.76339833747,2634.6305281225204,2605.497657907571,2576.3647876926216,2547.2319174776726,2518.099047262723,2488.966177047774,2459.8333068328247,2430.7004366178753,2401.567566402926,2372.434696187977,2343.3018259730275,2314.1689557580785,2285.036085543129,2255.9032153281796,2226.77034511323,2197.637474898281,2168.5046046833318,2139.371734468383,2110.2388642534333],[3556.622687740655,3527.489817525706,3498.3569473107564,3469.224077095807,3440.091206880858,3410.9583366659085,3381.825466450959,3352.69259623601,3323.5597260210607,3294.4268558061112,3265.2939855911623,3236.161115376213,3207.0282451612634,3177.8953749463144,3148.762504731365,3119.6296345164155,3090.4967643014666,3061.363894086517,3032.2310238715677,3003.0981536566187,2973.9652834416693,2944.83241322672,2915.699543011771,2886.5666727968214,2857.433802581872,2828.300932366923,2799.1680621519736,2770.035191937024,2740.9023217220747,2711.7694515071257,2682.6365812921763,2653.5037110772273,2624.370840862278,2595.2379706473284,2566.105100432379,2536.97223021743,2507.8393600024806,2478.7064897875316,2449.573619572582,2420.4407493576327,2391.3078791426833,2362.1750089277343,2333.042138712785,2303.909268497836,2274.7763982828865,2245.643528067937,2216.5106578529876,2187.3777876380386,2158.244917423089,2129.11204720814],[3575.4958706953616,3546.3630004804127,3517.2301302654632,3488.097260050514,3458.964389835565,3429.8315196206154,3400.698649405666,3371.565779190717,3342.4329089757675,3313.300038760818,3284.1671685458687,3255.0342983309197,3225.9014281159702,3196.7685579010213,3167.635687686072,3138.5028174711224,3109.3699472561734,3080.237077041224,3051.1042068262745,3021.9713366113256,2992.838466396376,2963.7055961814267,2934.5727259664773,2905.4398557515283,2876.306985536579,2847.17411532163,2818.0412451066804,2788.908374891731,2759.7755046767816,2730.6426344618326,2701.509764246883,2672.376894031934,2643.2440238169847,2614.1111536020353,2584.978283387086,2555.845413172137,2526.7125429571875,2497.5796727422385,2468.446802527289,2439.3139323123396,2410.18106209739,2381.0481918824407,2351.9153216674918,2322.782451452543,2293.6495812375933,2264.516711022644,2235.3838408076945,2206.250970592745,2177.118100377796,2147.985230162847],[3594.3690536500685,3565.236183435119,3536.1033132201696,3506.9704430052207,3477.837572790271,3448.704702575322,3419.571832360373,3390.4389621454234,3361.306091930474,3332.173221715525,3303.0403515005755,3273.907481285626,3244.774611070677,3215.6417408557277,3186.5088706407782,3157.3760004258293,3128.24313021088,3099.1102599959304,3069.9773897809814,3040.844519566032,3011.7116493510825,2982.5787791361336,2953.445908921184,2924.3130387062347,2895.1801684912857,2866.0472982763363,2836.914428061387,2807.781557846438,2778.6486876314884,2749.515817416539,2720.38294720159,2691.2500769866406,2662.117206771691,2632.984336556742,2603.8514663417927,2574.7185961268433,2545.5857259118943,2516.452855696945,2487.3199854819954,2458.1871152670465,2429.054245052097,2399.9213748371476,2370.7885046221986,2341.655634407249,2312.5227641922997,2283.3898939773508,2254.2570237624013,2225.124153547452,2195.991283332503,2166.8584131175535],[3613.242236604775,3584.1093663898255,3554.9764961748765,3525.843625959927,3496.710755744978,3467.5778855300287,3438.445015315079,3409.31214510013,3380.179274885181,3351.0464046702314,3321.9135344552824,3292.780664240333,3263.6477940253835,3234.514923810434,3205.382053595485,3176.2491833805357,3147.1163131655867,3117.9834429506373,3088.850572735688,3059.717702520739,3030.5848323057894,3001.45196209084,2972.319091875891,2943.1862216609416,2914.053351445992,2884.9204812310427,2855.7876110160937,2826.6547408011443,2797.521870586195,2768.389000371246,2739.2561301562964,2710.123259941347,2680.990389726398,2651.8575195114486,2622.724649296499,2593.59177908155,2564.4589088666007,2535.3260386516513,2506.1931684367023,2477.060298221753,2447.9274280068034,2418.7945577918545,2389.661687576905,2360.5288173619556,2331.3959471470066,2302.263076932057,2273.1302067171077,2243.9973365021588,2214.8644662872093,2185.73159607226],[3632.115419559482,3602.9825493445323,3573.8496791295834,3544.716808914634,3515.5839386996845,3486.4510684847355,3457.318198269786,3428.1853280548366,3399.0524578398877,3369.9195876249382,3340.786717409989,3311.65384719504,3282.5209769800904,3253.388106765141,3224.255236550192,3195.1223663352425,3165.989496120293,3136.856625905344,3107.7237556903947,3078.5908854754452,3049.4580152604963,3020.325145045547,2991.1922748305974,2962.0594046156484,2932.926534400699,2903.7936641857495,2874.6607939708,2845.527923755851,2816.3950535409017,2787.2621833259527,2758.1293131110033,2728.996442896054,2699.8635726811044,2670.7307024661554,2641.597832251206,2612.4649620362566,2583.3320918213076,2554.199221606358,2525.0663513914087,2495.9334811764597,2466.8006109615103,2437.667740746561,2408.534870531612,2379.4020003166625,2350.269130101713,2321.136259886764,2292.0033896718146,2262.870519456865,2233.737649241916,2204.6047790269668],[3650.9886025141886,3621.855732299239,3592.7228620842898,3563.589991869341,3534.4571216543914,3505.324251439442,3476.191381224493,3447.0585110095435,3417.925640794594,3388.792770579645,3359.6599003646957,3330.527030149746,3301.3941599347972,3272.261289719848,3243.1284195048984,3213.9955492899494,3184.862679075,3155.7298088600505,3126.5969386451015,3097.464068430152,3068.3311982152027,3039.1983280002537,3010.0654577853043,2980.932587570355,2951.799717355406,2922.6668471404564,2893.533976925507,2864.401106710558,2835.2682364956086,2806.135366280659,2777.00249606571,2747.8696258507607,2718.7367556358113,2689.603885420862,2660.471015205913,2631.3381449909634,2602.2052747760144,2573.072404561065,2543.9395343461156,2514.806664131166,2485.673793916217,2456.5409237012677,2427.4080534863187,2398.2751832713693,2369.14231305642,2340.0094428414704,2310.8765726265215,2281.743702411572,2252.610832196623,2223.4779619816736],[3669.8617854688955,3640.728915253946,3611.5960450389966,3582.463174824047,3553.330304609098,3524.197434394149,3495.0645641792,3465.9316939642504,3436.798823749301,3407.6659535343515,3378.5330833194025,3349.400213104453,3320.267342889504,3291.1344726745547,3262.0016024596052,3232.868732244656,3203.735862029707,3174.6029918147574,3145.470121599808,3116.337251384859,3087.2043811699095,3058.07151095496,3028.938640740011,2999.8057705250617,2970.6729003101123,2941.5400300951633,2912.407159880214,2883.2742896652644,2854.1414194503154,2825.008549235366,2795.875679020417,2766.7428088054676,2737.609938590518,2708.4770683755687,2679.3441981606197,2650.2113279456703,2621.0784577307213,2591.945587515772,2562.8127173008224,2533.679847085873,2504.5469768709236,2475.4141066559746,2446.2812364410256,2417.148366226076,2388.0154960111267,2358.8826257961773,2329.749755581228,2300.616885366279,2271.48401515133,2242.3511449363805],[3688.734968423602,3659.602098208653,3630.4692279937035,3601.336357778754,3572.2034875638046,3543.0706173488556,3513.937747133906,3484.8048769189572,3455.672006704008,3426.5391364890584,3397.406266274109,3368.27339605916,3339.1405258442105,3310.0076556292615,3280.874785414312,3251.7419151993627,3222.6090449844132,3193.4761747694643,3164.343304554515,3135.210434339566,3106.0775641246164,3076.944693909667,3047.811823694718,3018.6789534797686,2989.546083264819,2960.41321304987,2931.2803428349207,2902.1474726199713,2873.014602405022,2843.881732190073,2814.7488619751234,2785.6159917601744,2756.483121545225,2727.3502513302756,2698.217381115326,2669.084510900377,2639.9516406854277,2610.8187704704787,2581.6859002555293,2552.55303004058,2523.4201598256304,2494.287289610681,2465.154419395732,2436.021549180783,2406.8886789658336,2377.755808750884,2348.6229385359347,2319.4900683209853,2290.3571981060363,2261.2243278910873],[3707.608151378309,3678.4752811633593,3649.3424109484104,3620.209540733461,3591.0766705185115,3561.9438003035625,3532.810930088613,3503.6780598736636,3474.5451896587147,3445.412319443765,3416.279449228816,3387.146579013867,3358.0137087989174,3328.880838583968,3299.747968369019,3270.6150981540695,3241.48222793912,3212.349357724171,3183.2164875092217,3154.0836172942722,3124.9507470793233,3095.817876864374,3066.6850066494244,3037.5521364344754,3008.419266219526,2979.2863960045765,2950.1535257896276,2921.020655574678,2891.8877853597287,2862.7549151447797,2833.6220449298303,2804.489174714881,2775.356304499932,2746.2234342849824,2717.090564070033,2687.9576938550836,2658.8248236401346,2629.691953425185,2600.559083210236,2571.4262129952867,2542.2933427803373,2513.160472565388,2484.027602350439,2454.8947321354894,2425.7618619205405,2396.628991705591,2367.4961214906416,2338.363251275692,2309.230381060743,2280.0975108457937],[3726.481334333015,3697.348464118066,3668.2155939031168,3639.082723688168,3609.9498534732184,3580.816983258269,3551.6841130433195,3522.5512428283705,3493.418372613421,3464.285502398472,3435.1526321835227,3406.019761968573,3376.886891753624,3347.754021538675,3318.6211513237254,3289.4882811087764,3260.355410893827,3231.2225406788775,3202.089670463928,3172.956800248979,3143.8239300340297,3114.6910598190802,3085.5581896041313,3056.425319389182,3027.2924491742324,2998.1595789592834,2969.026708744334,2939.8938385293845,2910.7609683144356,2881.628098099486,2852.4952278845367,2823.3623576695877,2794.2294874546383,2765.096617239689,2735.96374702474,2706.8308768097904,2677.698006594841,2648.565136379892,2619.4322661649426,2590.299395949993,2561.166525735044,2532.0336555200947,2502.9007853051453,2473.7679150901963,2444.635044875247,2415.5021746602974,2386.3693044453485,2357.236434230399,2328.1035640154496,2298.9706938005006],[3745.354517287722,3716.2216470727726,3687.0887768578236,3657.955906642874,3628.823036427925,3599.690166212976,3570.5572959980263,3541.424425783077,3512.291555568128,3483.1586853531785,3454.0258151382295,3424.89294492328,3395.7600747083306,3366.627204493381,3337.4943342784322,3308.361464063483,3279.228593848534,3250.0957236335844,3220.962853418635,3191.8299832036855,3162.6971129887365,3133.564242773787,3104.431372558838,3075.2985023438887,3046.1656321289393,3017.03276191399,2987.899891699041,2958.7670214840914,2929.634151269142,2900.501281054193,2871.3684108392436,2842.235540624294,2813.102670409345,2783.9698001943957,2754.8369299794463,2725.7040597644973,2696.571189549548,2667.4383193345984,2638.3054491196494,2609.1725789047,2580.0397086897506,2550.9068384748016,2521.773968259852,2492.6410980449027,2463.5082278299537,2434.3753576150043,2405.242487400055,2376.109617185106,2346.9767469701565,2317.843876755207],[3764.227700242429,3735.0948300274795,3705.96195981253,3676.829089597581,3647.6962193826316,3618.5633491676826,3589.430478952733,3560.297608737784,3531.1647385228343,3502.0318683078854,3472.898998092936,3443.7661278779865,3414.6332576630375,3385.500387448088,3356.3675172331386,3327.2346470181897,3298.10177680324,3268.968906588291,3239.836036373342,3210.7031661583924,3181.570295943443,3152.437425728494,3123.3045555135445,3094.171685298595,3065.038815083646,3035.9059448686967,3006.7730746537472,2977.6402044387983,2948.507334223849,2919.3744640088994,2890.2415937939504,2861.108723579001,2831.9758533640515,2802.8429831491026,2773.710112934153,2744.5772427192037,2715.4443725042547,2686.3115022893053,2657.178632074356,2628.0457618594064,2598.9128916444574,2569.780021429508,2540.647151214559,2511.5142809996096,2482.38141078466,2453.2485405697107,2424.1156703547617,2394.9828001398123,2365.8499299248633,2336.717059709914],[3783.1008831971358,3753.9680129821863,3724.835142767237,3695.7022725522875,3666.5694023373385,3637.436532122389,3608.30366190744,3579.1707916924906,3550.037921477541,3520.9050512625918,3491.772181047643,3462.6393108326934,3433.5064406177444,3404.373570402795,3375.2407001878455,3346.107829972896,3316.974959757947,3287.8420895429977,3258.7092193280487,3229.5763491130992,3200.44347889815,3171.3106086832004,3142.1777384682514,3113.044868253302,3083.9119980383525,3054.7791278234035,3025.646257608454,2996.5133873935047,2967.3805171785557,2938.2476469636063,2909.1147767486573,2879.981906533708,2850.8490363187584,2821.716166103809,2792.58329588886,2763.4504256739106,2734.3175554589616,2705.184685244012,2676.0518150290627,2646.9189448141133,2617.786074599164,2588.653204384215,2559.520334169266,2530.3874639543164,2501.254593739367,2472.1217235244176,2442.988853309468,2413.855983094519,2384.72311287957,2355.5902426646207],[3801.974066151842,3772.841195936893,3743.7083257219438,3714.5754555069943,3685.442585292045,3656.309715077096,3627.1768448621465,3598.0439746471975,3568.911104432248,3539.7782342172986,3510.645364002349,3481.5124937874,3452.379623572451,3423.246753357502,3394.1138831425524,3364.981012927603,3335.8481427126535,3306.7152724977045,3277.582402282755,3248.449532067806,3219.3166618528567,3190.1837916379072,3161.050921422958,3131.918051208009,3102.7851809930594,3073.6523107781104,3044.519440563161,3015.3865703482115,2986.253700133262,2957.120829918313,2927.9879597033637,2898.8550894884147,2869.7222192734653,2840.589349058516,2811.4564788435664,2782.3236086286174,2753.190738413668,2724.057868198719,2694.9249979837696,2665.79212776882,2636.6592575538707,2607.5263873389217,2578.3935171239723,2549.2606469090233,2520.127776694074,2490.9949064791244,2461.862036264175,2432.7291660492256,2403.5962958342766,2374.4634256193276],[3820.847249106549,3791.7143788915996,3762.5815086766506,3733.448638461701,3704.3157682467518,3675.182898031803,3646.0500278168533,3616.917157601904,3587.784287386955,3558.6514171720055,3529.518546957056,3500.385676742107,3471.2528065271576,3442.119936312208,3412.9870660972592,3383.85419588231,3354.7213256673604,3325.588455452411,3296.455585237462,3267.3227150225125,3238.1898448075635,3209.056974592614,3179.9241043776647,3150.7912341627157,3121.6583639477662,3092.525493732817,3063.392623517868,3034.2597533029184,3005.126883087969,2975.99401287302,2946.8611426580705,2917.728272443121,2888.595402228172,2859.4625320132227,2830.3296617982733,2801.196791583324,2772.063921368375,2742.9310511534254,2713.7981809384764,2684.665310723527,2655.5324405085776,2626.399570293628,2597.266700078679,2568.1338298637297,2539.0009596487807,2509.8680894338313,2480.735219218882,2451.6023490039324,2422.4694787889835,2393.336608574034],[3839.7204320612555,3810.5875618463065,3781.454691631357,3752.321821416408,3723.1889512014586,3694.056080986509,3664.9232107715598,3635.7903405566108,3606.6574703416613,3577.5246001267124,3548.391729911763,3519.2588596968135,3490.125989481864,3460.993119266915,3431.8602490519656,3402.7273788370167,3373.594508622067,3344.461638407118,3315.3287681921684,3286.1958979772194,3257.06302776227,3227.930157547321,3198.7972873323715,3169.664417117422,3140.5315469024727,3111.3986766875237,3082.2658064725742,3053.132936257625,3024.000066042676,2994.8671958277264,2965.734325612777,2936.601455397828,2907.4685851828785,2878.335714967929,2849.20284475298,2820.0699745380307,2790.9371043230813,2761.8042341081323,2732.671363893183,2703.5384936782334,2674.4056234632844,2645.272753248335,2616.1398830333856,2587.0070128184366,2557.874142603487,2528.7412723885377,2499.6084021735887,2470.4755319586393,2441.34266174369,2412.209791528741],[3858.5936150159623,3829.460744801013,3800.327874586064,3771.1950043711145,3742.0621341561655,3712.929263941216,3683.7963937262666,3654.663523511317,3625.530653296368,3596.3977830814188,3567.26491286647,3538.1320426515204,3508.999172436571,3479.8663022216215,3450.7334320066725,3421.600561791723,3392.467691576774,3363.3348213618247,3334.201951146875,3305.069080931926,3275.936210716977,3246.8033405020274,3217.6704702870784,3188.537600072129,3159.4047298571795,3130.27185964223,3101.138989427281,3072.0061192123317,3042.8732489973822,3013.7403787824333,2984.607508567484,2955.4746383525344,2926.3417681375854,2897.208897922636,2868.0760277076865,2838.9431574927376,2809.810287277788,2780.6774170628387,2751.5445468478897,2722.4116766329403,2693.278806417991,2664.145936203042,2635.0130659880924,2605.880195773143,2576.747325558194,2547.6144553432446,2518.481585128295,2489.348714913346,2460.2158446983967,2431.0829744834473],[3877.466797970669,3848.3339277557197,3819.2010575407708,3790.0681873258213,3760.935317110872,3731.802446895923,3702.6695766809735,3673.536706466024,3644.403836251075,3615.2709660361256,3586.138095821176,3557.005225606227,3527.872355391278,3498.7394851763283,3469.606614961379,3440.47374474643,3411.3408745314805,3382.2080043165315,3353.075134101582,3323.9422638866326,3294.809393671683,3265.6765234567342,3236.543653241785,3207.410783026836,3178.2779128118864,3149.145042596937,3120.012172381988,3090.8793021670385,3061.746431952089,3032.61356173714,3003.4806915221907,2974.3478213072412,2945.2149510922923,2916.082080877343,2886.9492106623934,2857.816340447444,2828.683470232495,2799.5506000175455,2770.417729802596,2741.284859587647,2712.1519893726977,2683.0191191577483,2653.8862489427993,2624.75337872785,2595.6205085129004,2566.4876382979514,2537.354768083002,2508.2218978680526,2479.0890276531036,2449.956157438154],[3896.339980925376,3867.2071107104266,3838.074240495477,3808.941370280528,3779.8085000655788,3750.67562985063,3721.5427596356803,3692.409889420731,3663.2770192057815,3634.1441489908325,3605.011278775883,3575.878408560934,3546.7455383459846,3517.612668131035,3488.4797979160858,3459.346927701137,3430.2140574861874,3401.081187271238,3371.948317056289,3342.8154468413395,3313.68257662639,3284.549706411441,3255.4168361964917,3226.283965981542,3197.1510957665932,3168.018225551644,3138.8853553366944,3109.7524851217454,3080.619614906796,3051.4867446918465,3022.3538744768975,2993.221004261948,2964.0881340469987,2934.9552638320497,2905.8223936171003,2876.689523402151,2847.556653187202,2818.4237829722524,2789.290912757303,2760.1580425423535,2731.0251723274046,2701.892302112455,2672.759431897506,2643.6265616825567,2614.4936914676073,2585.360821252658,2556.227951037709,2527.0950808227594,2497.9622106078104,2468.829340392861],[3915.2131638800824,3886.0802936651335,3856.947423450184,3827.8145532352346,3798.681683020285,3769.548812805336,3740.4159425903867,3711.2830723754378,3682.1502021604883,3653.017331945539,3623.8844617305895,3594.7515915156405,3565.618721300691,3536.485851085742,3507.3529808707926,3478.220110655843,3449.0872404408938,3419.954370225945,3390.8215000109954,3361.6886297960464,3332.555759581097,3303.4228893661475,3274.290019151198,3245.157148936249,3216.0242787212997,3186.8914085063507,3157.7585382914012,3128.625668076452,3099.4927978615024,3070.3599276465534,3041.227057431604,3012.094187216655,2982.9613170017055,2953.828446786756,2924.6955765718067,2895.5627063568577,2866.4298361419083,2837.2969659269593,2808.16409571201,2779.0312254970604,2749.898355282111,2720.765485067162,2691.6326148522126,2662.4997446372636,2633.366874422314,2604.2340042073647,2575.1011339924153,2545.9682637774663,2516.835393562517,2487.702523347568],[3934.0863468347893,3904.95347661984,3875.820606404891,3846.6877361899415,3817.554865974992,3788.421995760043,3759.2891255450936,3730.156255330144,3701.023385115195,3671.8905149002458,3642.7576446852963,3613.6247744703473,3584.491904255398,3555.3590340404485,3526.2261638254995,3497.09329361055,3467.9604233956006,3438.827553180651,3409.694682965702,3380.561812750753,3351.428942535804,3322.2960723208544,3293.163202105905,3264.0303318909555,3234.8974616760065,3205.764591461057,3176.631721246108,3147.4988510311587,3118.3659808162092,3089.2331106012603,3060.100240386311,3030.9673701713614,3001.8344999564124,2972.701629741463,2943.5687595265135,2914.435889311564,2885.303019096615,2856.1701488816657,2827.0372786667167,2797.9044084517673,2768.771538236818,2739.6386680218684,2710.5057978069194,2681.37292759197,2652.240057377021,2623.1071871620716,2593.974316947122,2564.8414467321727,2535.7085765172237,2506.5757063022743],[3952.9595297894957,3923.8266595745467,3894.6937893595973,3865.5609191446483,3836.428048929699,3807.2951787147495,3778.1623084998,3749.029438284851,3719.8965680699016,3690.7636978549526,3661.630827640003,3632.4979574250538,3603.3650872101043,3574.2322169951553,3545.099346780206,3515.966476565257,3486.8336063503075,3457.700736135358,3428.5678659204086,3399.4349957054596,3370.30212549051,3341.169255275561,3312.036385060612,3282.9035148456624,3253.770644630713,3224.637774415764,3195.5049042008145,3166.372033985865,3137.239163770916,3108.1062935559667,3078.973423341017,3049.8405531260682,3020.707682911119,2991.5748126961694,2962.4419424812204,2933.309072266271,2904.1762020513215,2875.0433318363725,2845.910461621423,2816.7775914064737,2787.6447211915247,2758.5118509765753,2729.378980761626,2700.246110546677,2671.1132403317274,2641.980370116778,2612.847499901829,2583.7146296868796,2554.58175947193,2525.448889256981],[3971.8327127442026,3942.699842529253,3913.566972314304,3884.4341020993547,3855.3012318844058,3826.1683616694563,3797.035491454507,3767.9026212395574,3738.7697510246085,3709.636880809659,3680.50401059471,3651.3711403797606,3622.238270164811,3593.1053999498617,3563.9725297349128,3534.8396595199633,3505.7067893050144,3476.573919090065,3447.4410488751155,3418.308178660166,3389.175308445217,3360.0424382302676,3330.9095680153187,3301.776697800369,3272.64382758542,3243.5109573704704,3214.3780871555214,3185.245216940572,3156.1123467256225,3126.9794765106735,3097.846606295724,3068.7137360807747,3039.5808658658257,3010.4479956508762,2981.315125435927,2952.182255220978,2923.0493850060284,2893.916514791079,2864.78364457613,2835.6507743611805,2806.517904146231,2777.385033931282,2748.2521637163327,2719.1192935013833,2689.9864232864343,2660.853553071485,2631.7206828565354,2602.5878126415864,2573.454942426637,2544.3220722116876]],\"type\":\"surface\"}],                        {\"template\":{\"data\":{\"histogram2dcontour\":[{\"type\":\"histogram2dcontour\",\"colorbar\":{\"outlinewidth\":0,\"ticks\":\"\"},\"colorscale\":[[0.0,\"#0d0887\"],[0.1111111111111111,\"#46039f\"],[0.2222222222222222,\"#7201a8\"],[0.3333333333333333,\"#9c179e\"],[0.4444444444444444,\"#bd3786\"],[0.5555555555555556,\"#d8576b\"],[0.6666666666666666,\"#ed7953\"],[0.7777777777777778,\"#fb9f3a\"],[0.8888888888888888,\"#fdca26\"],[1.0,\"#f0f921\"]]}],\"choropleth\":[{\"type\":\"choropleth\",\"colorbar\":{\"outlinewidth\":0,\"ticks\":\"\"}}],\"histogram2d\":[{\"type\":\"histogram2d\",\"colorbar\":{\"outlinewidth\":0,\"ticks\":\"\"},\"colorscale\":[[0.0,\"#0d0887\"],[0.1111111111111111,\"#46039f\"],[0.2222222222222222,\"#7201a8\"],[0.3333333333333333,\"#9c179e\"],[0.4444444444444444,\"#bd3786\"],[0.5555555555555556,\"#d8576b\"],[0.6666666666666666,\"#ed7953\"],[0.7777777777777778,\"#fb9f3a\"],[0.8888888888888888,\"#fdca26\"],[1.0,\"#f0f921\"]]}],\"heatmap\":[{\"type\":\"heatmap\",\"colorbar\":{\"outlinewidth\":0,\"ticks\":\"\"},\"colorscale\":[[0.0,\"#0d0887\"],[0.1111111111111111,\"#46039f\"],[0.2222222222222222,\"#7201a8\"],[0.3333333333333333,\"#9c179e\"],[0.4444444444444444,\"#bd3786\"],[0.5555555555555556,\"#d8576b\"],[0.6666666666666666,\"#ed7953\"],[0.7777777777777778,\"#fb9f3a\"],[0.8888888888888888,\"#fdca26\"],[1.0,\"#f0f921\"]]}],\"heatmapgl\":[{\"type\":\"heatmapgl\",\"colorbar\":{\"outlinewidth\":0,\"ticks\":\"\"},\"colorscale\":[[0.0,\"#0d0887\"],[0.1111111111111111,\"#46039f\"],[0.2222222222222222,\"#7201a8\"],[0.3333333333333333,\"#9c179e\"],[0.4444444444444444,\"#bd3786\"],[0.5555555555555556,\"#d8576b\"],[0.6666666666666666,\"#ed7953\"],[0.7777777777777778,\"#fb9f3a\"],[0.8888888888888888,\"#fdca26\"],[1.0,\"#f0f921\"]]}],\"contourcarpet\":[{\"type\":\"contourcarpet\",\"colorbar\":{\"outlinewidth\":0,\"ticks\":\"\"}}],\"contour\":[{\"type\":\"contour\",\"colorbar\":{\"outlinewidth\":0,\"ticks\":\"\"},\"colorscale\":[[0.0,\"#0d0887\"],[0.1111111111111111,\"#46039f\"],[0.2222222222222222,\"#7201a8\"],[0.3333333333333333,\"#9c179e\"],[0.4444444444444444,\"#bd3786\"],[0.5555555555555556,\"#d8576b\"],[0.6666666666666666,\"#ed7953\"],[0.7777777777777778,\"#fb9f3a\"],[0.8888888888888888,\"#fdca26\"],[1.0,\"#f0f921\"]]}],\"surface\":[{\"type\":\"surface\",\"colorbar\":{\"outlinewidth\":0,\"ticks\":\"\"},\"colorscale\":[[0.0,\"#0d0887\"],[0.1111111111111111,\"#46039f\"],[0.2222222222222222,\"#7201a8\"],[0.3333333333333333,\"#9c179e\"],[0.4444444444444444,\"#bd3786\"],[0.5555555555555556,\"#d8576b\"],[0.6666666666666666,\"#ed7953\"],[0.7777777777777778,\"#fb9f3a\"],[0.8888888888888888,\"#fdca26\"],[1.0,\"#f0f921\"]]}],\"mesh3d\":[{\"type\":\"mesh3d\",\"colorbar\":{\"outlinewidth\":0,\"ticks\":\"\"}}],\"scatter\":[{\"marker\":{\"line\":{\"color\":\"#283442\"}},\"type\":\"scatter\"}],\"parcoords\":[{\"type\":\"parcoords\",\"line\":{\"colorbar\":{\"outlinewidth\":0,\"ticks\":\"\"}}}],\"scatterpolargl\":[{\"type\":\"scatterpolargl\",\"marker\":{\"colorbar\":{\"outlinewidth\":0,\"ticks\":\"\"}}}],\"bar\":[{\"error_x\":{\"color\":\"#f2f5fa\"},\"error_y\":{\"color\":\"#f2f5fa\"},\"marker\":{\"line\":{\"color\":\"rgb(17,17,17)\",\"width\":0.5},\"pattern\":{\"fillmode\":\"overlay\",\"size\":10,\"solidity\":0.2}},\"type\":\"bar\"}],\"scattergeo\":[{\"type\":\"scattergeo\",\"marker\":{\"colorbar\":{\"outlinewidth\":0,\"ticks\":\"\"}}}],\"scatterpolar\":[{\"type\":\"scatterpolar\",\"marker\":{\"colorbar\":{\"outlinewidth\":0,\"ticks\":\"\"}}}],\"histogram\":[{\"marker\":{\"pattern\":{\"fillmode\":\"overlay\",\"size\":10,\"solidity\":0.2}},\"type\":\"histogram\"}],\"scattergl\":[{\"marker\":{\"line\":{\"color\":\"#283442\"}},\"type\":\"scattergl\"}],\"scatter3d\":[{\"type\":\"scatter3d\",\"line\":{\"colorbar\":{\"outlinewidth\":0,\"ticks\":\"\"}},\"marker\":{\"colorbar\":{\"outlinewidth\":0,\"ticks\":\"\"}}}],\"scattermapbox\":[{\"type\":\"scattermapbox\",\"marker\":{\"colorbar\":{\"outlinewidth\":0,\"ticks\":\"\"}}}],\"scatterternary\":[{\"type\":\"scatterternary\",\"marker\":{\"colorbar\":{\"outlinewidth\":0,\"ticks\":\"\"}}}],\"scattercarpet\":[{\"type\":\"scattercarpet\",\"marker\":{\"colorbar\":{\"outlinewidth\":0,\"ticks\":\"\"}}}],\"carpet\":[{\"aaxis\":{\"endlinecolor\":\"#A2B1C6\",\"gridcolor\":\"#506784\",\"linecolor\":\"#506784\",\"minorgridcolor\":\"#506784\",\"startlinecolor\":\"#A2B1C6\"},\"baxis\":{\"endlinecolor\":\"#A2B1C6\",\"gridcolor\":\"#506784\",\"linecolor\":\"#506784\",\"minorgridcolor\":\"#506784\",\"startlinecolor\":\"#A2B1C6\"},\"type\":\"carpet\"}],\"table\":[{\"cells\":{\"fill\":{\"color\":\"#506784\"},\"line\":{\"color\":\"rgb(17,17,17)\"}},\"header\":{\"fill\":{\"color\":\"#2a3f5f\"},\"line\":{\"color\":\"rgb(17,17,17)\"}},\"type\":\"table\"}],\"barpolar\":[{\"marker\":{\"line\":{\"color\":\"rgb(17,17,17)\",\"width\":0.5},\"pattern\":{\"fillmode\":\"overlay\",\"size\":10,\"solidity\":0.2}},\"type\":\"barpolar\"}],\"pie\":[{\"automargin\":true,\"type\":\"pie\"}]},\"layout\":{\"autotypenumbers\":\"strict\",\"colorway\":[\"#636efa\",\"#EF553B\",\"#00cc96\",\"#ab63fa\",\"#FFA15A\",\"#19d3f3\",\"#FF6692\",\"#B6E880\",\"#FF97FF\",\"#FECB52\"],\"font\":{\"color\":\"#f2f5fa\"},\"hovermode\":\"closest\",\"hoverlabel\":{\"align\":\"left\"},\"paper_bgcolor\":\"rgb(17,17,17)\",\"plot_bgcolor\":\"rgb(17,17,17)\",\"polar\":{\"bgcolor\":\"rgb(17,17,17)\",\"angularaxis\":{\"gridcolor\":\"#506784\",\"linecolor\":\"#506784\",\"ticks\":\"\"},\"radialaxis\":{\"gridcolor\":\"#506784\",\"linecolor\":\"#506784\",\"ticks\":\"\"}},\"ternary\":{\"bgcolor\":\"rgb(17,17,17)\",\"aaxis\":{\"gridcolor\":\"#506784\",\"linecolor\":\"#506784\",\"ticks\":\"\"},\"baxis\":{\"gridcolor\":\"#506784\",\"linecolor\":\"#506784\",\"ticks\":\"\"},\"caxis\":{\"gridcolor\":\"#506784\",\"linecolor\":\"#506784\",\"ticks\":\"\"}},\"coloraxis\":{\"colorbar\":{\"outlinewidth\":0,\"ticks\":\"\"}},\"colorscale\":{\"sequential\":[[0.0,\"#0d0887\"],[0.1111111111111111,\"#46039f\"],[0.2222222222222222,\"#7201a8\"],[0.3333333333333333,\"#9c179e\"],[0.4444444444444444,\"#bd3786\"],[0.5555555555555556,\"#d8576b\"],[0.6666666666666666,\"#ed7953\"],[0.7777777777777778,\"#fb9f3a\"],[0.8888888888888888,\"#fdca26\"],[1.0,\"#f0f921\"]],\"sequentialminus\":[[0.0,\"#0d0887\"],[0.1111111111111111,\"#46039f\"],[0.2222222222222222,\"#7201a8\"],[0.3333333333333333,\"#9c179e\"],[0.4444444444444444,\"#bd3786\"],[0.5555555555555556,\"#d8576b\"],[0.6666666666666666,\"#ed7953\"],[0.7777777777777778,\"#fb9f3a\"],[0.8888888888888888,\"#fdca26\"],[1.0,\"#f0f921\"]],\"diverging\":[[0,\"#8e0152\"],[0.1,\"#c51b7d\"],[0.2,\"#de77ae\"],[0.3,\"#f1b6da\"],[0.4,\"#fde0ef\"],[0.5,\"#f7f7f7\"],[0.6,\"#e6f5d0\"],[0.7,\"#b8e186\"],[0.8,\"#7fbc41\"],[0.9,\"#4d9221\"],[1,\"#276419\"]]},\"xaxis\":{\"gridcolor\":\"#283442\",\"linecolor\":\"#506784\",\"ticks\":\"\",\"title\":{\"standoff\":15},\"zerolinecolor\":\"#283442\",\"automargin\":true,\"zerolinewidth\":2},\"yaxis\":{\"gridcolor\":\"#283442\",\"linecolor\":\"#506784\",\"ticks\":\"\",\"title\":{\"standoff\":15},\"zerolinecolor\":\"#283442\",\"automargin\":true,\"zerolinewidth\":2},\"scene\":{\"xaxis\":{\"backgroundcolor\":\"rgb(17,17,17)\",\"gridcolor\":\"#506784\",\"linecolor\":\"#506784\",\"showbackground\":true,\"ticks\":\"\",\"zerolinecolor\":\"#C8D4E3\",\"gridwidth\":2},\"yaxis\":{\"backgroundcolor\":\"rgb(17,17,17)\",\"gridcolor\":\"#506784\",\"linecolor\":\"#506784\",\"showbackground\":true,\"ticks\":\"\",\"zerolinecolor\":\"#C8D4E3\",\"gridwidth\":2},\"zaxis\":{\"backgroundcolor\":\"rgb(17,17,17)\",\"gridcolor\":\"#506784\",\"linecolor\":\"#506784\",\"showbackground\":true,\"ticks\":\"\",\"zerolinecolor\":\"#C8D4E3\",\"gridwidth\":2}},\"shapedefaults\":{\"line\":{\"color\":\"#f2f5fa\"}},\"annotationdefaults\":{\"arrowcolor\":\"#f2f5fa\",\"arrowhead\":0,\"arrowwidth\":1},\"geo\":{\"bgcolor\":\"rgb(17,17,17)\",\"landcolor\":\"rgb(17,17,17)\",\"subunitcolor\":\"#506784\",\"showland\":true,\"showlakes\":true,\"lakecolor\":\"rgb(17,17,17)\"},\"title\":{\"x\":0.05},\"updatemenudefaults\":{\"bgcolor\":\"#506784\",\"borderwidth\":0},\"sliderdefaults\":{\"bgcolor\":\"#C8D4E3\",\"borderwidth\":1,\"bordercolor\":\"rgb(17,17,17)\",\"tickwidth\":0},\"mapbox\":{\"style\":\"dark\"}}},\"scene\":{\"camera\":{\"eye\":{\"z\":1,\"y\":2}}},\"width\":1000,\"height\":1000},                        {\"responsive\": true}                    ).then(function(){\n",
       "                            \n",
       "var gd = document.getElementById('b521aa89-5fb3-4aa8-b389-6276b08d2697');\n",
       "var x = new MutationObserver(function (mutations, observer) {{\n",
       "        var display = window.getComputedStyle(gd).display;\n",
       "        if (!display || display === 'none') {{\n",
       "            console.log([gd, 'removed!']);\n",
       "            Plotly.purge(gd);\n",
       "            observer.disconnect();\n",
       "        }}\n",
       "}});\n",
       "\n",
       "// Listen for the removal of the full notebook cells\n",
       "var notebookContainer = gd.closest('#notebook-container');\n",
       "if (notebookContainer) {{\n",
       "    x.observe(notebookContainer, {childList: true});\n",
       "}}\n",
       "\n",
       "// Listen for the clearing of the current output cell\n",
       "var outputEl = gd.closest('.output');\n",
       "if (outputEl) {{\n",
       "    x.observe(outputEl, {childList: true});\n",
       "}}\n",
       "\n",
       "                        })                };                });            </script>        </div>"
      ]
     },
     "metadata": {},
     "output_type": "display_data"
    }
   ],
   "execution_count": 124
  },
  {
   "cell_type": "markdown",
   "metadata": {},
   "source": [
    "POSSUM DATASET"
   ]
  },
  {
   "cell_type": "markdown",
   "metadata": {},
   "source": [
    "The possum data frame consists of nine morphometric measurements on each of 104 mountain brushtail possums, trapped at seven sites from Southern Victoria to central Queensland.\n",
    "\n",
    "case:observation number\n",
    "\n",
    "site:The site number where the possum was trapped.\n",
    "\n",
    "Pop:Population, either Vic (Victoria) or other (New South Wales or Queensland).\n",
    "\n",
    "sex:Gender, either m (male) or f (female).\n",
    "\n",
    "age:Age.\n",
    "\n",
    "hdlngth:Head length, in mm.\n",
    "\n",
    "skullw:Skull width, in mm.\n",
    "\n",
    "totlngth:Total length, in cm.\n",
    "\n",
    "taill:Tail length, in cm.\n",
    "\n",
    "footlgth:foot length\n",
    "\n",
    "earconch:ear conch length\n",
    "\n",
    "eye:distance from medial canthus to lateral canthus of right eye \n",
    "\n",
    "chest:chest girth (in cm) \n",
    "\n",
    "belly:belly girth (in cm)\n"
   ]
  },
  {
   "cell_type": "code",
   "metadata": {
    "ExecuteTime": {
     "end_time": "2024-07-23T16:30:33.141537Z",
     "start_time": "2024-07-23T16:30:33.132002Z"
    }
   },
   "source": [
    "data=pd.read_csv(\"/home/batuhan-saylam/Desktop/cbddotasks/cbddotask3/possum.xls\")\n",
    "data.head()"
   ],
   "outputs": [
    {
     "data": {
      "text/plain": [
       "   case  site  Pop sex  age  hdlngth  skullw  totlngth  taill  footlgth  \\\n",
       "0     1     1  Vic   m  8.0     94.1    60.4      89.0   36.0      74.5   \n",
       "1     2     1  Vic   f  6.0     92.5    57.6      91.5   36.5      72.5   \n",
       "2     3     1  Vic   f  6.0     94.0    60.0      95.5   39.0      75.4   \n",
       "3     4     1  Vic   f  6.0     93.2    57.1      92.0   38.0      76.1   \n",
       "4     5     1  Vic   f  2.0     91.5    56.3      85.5   36.0      71.0   \n",
       "\n",
       "   earconch   eye  chest  belly  \n",
       "0      54.5  15.2   28.0   36.0  \n",
       "1      51.2  16.0   28.5   33.0  \n",
       "2      51.9  15.5   30.0   34.0  \n",
       "3      52.2  15.2   28.0   34.0  \n",
       "4      53.2  15.1   28.5   33.0  "
      ],
      "text/html": [
       "<div>\n",
       "<style scoped>\n",
       "    .dataframe tbody tr th:only-of-type {\n",
       "        vertical-align: middle;\n",
       "    }\n",
       "\n",
       "    .dataframe tbody tr th {\n",
       "        vertical-align: top;\n",
       "    }\n",
       "\n",
       "    .dataframe thead th {\n",
       "        text-align: right;\n",
       "    }\n",
       "</style>\n",
       "<table border=\"1\" class=\"dataframe\">\n",
       "  <thead>\n",
       "    <tr style=\"text-align: right;\">\n",
       "      <th></th>\n",
       "      <th>case</th>\n",
       "      <th>site</th>\n",
       "      <th>Pop</th>\n",
       "      <th>sex</th>\n",
       "      <th>age</th>\n",
       "      <th>hdlngth</th>\n",
       "      <th>skullw</th>\n",
       "      <th>totlngth</th>\n",
       "      <th>taill</th>\n",
       "      <th>footlgth</th>\n",
       "      <th>earconch</th>\n",
       "      <th>eye</th>\n",
       "      <th>chest</th>\n",
       "      <th>belly</th>\n",
       "    </tr>\n",
       "  </thead>\n",
       "  <tbody>\n",
       "    <tr>\n",
       "      <th>0</th>\n",
       "      <td>1</td>\n",
       "      <td>1</td>\n",
       "      <td>Vic</td>\n",
       "      <td>m</td>\n",
       "      <td>8.0</td>\n",
       "      <td>94.1</td>\n",
       "      <td>60.4</td>\n",
       "      <td>89.0</td>\n",
       "      <td>36.0</td>\n",
       "      <td>74.5</td>\n",
       "      <td>54.5</td>\n",
       "      <td>15.2</td>\n",
       "      <td>28.0</td>\n",
       "      <td>36.0</td>\n",
       "    </tr>\n",
       "    <tr>\n",
       "      <th>1</th>\n",
       "      <td>2</td>\n",
       "      <td>1</td>\n",
       "      <td>Vic</td>\n",
       "      <td>f</td>\n",
       "      <td>6.0</td>\n",
       "      <td>92.5</td>\n",
       "      <td>57.6</td>\n",
       "      <td>91.5</td>\n",
       "      <td>36.5</td>\n",
       "      <td>72.5</td>\n",
       "      <td>51.2</td>\n",
       "      <td>16.0</td>\n",
       "      <td>28.5</td>\n",
       "      <td>33.0</td>\n",
       "    </tr>\n",
       "    <tr>\n",
       "      <th>2</th>\n",
       "      <td>3</td>\n",
       "      <td>1</td>\n",
       "      <td>Vic</td>\n",
       "      <td>f</td>\n",
       "      <td>6.0</td>\n",
       "      <td>94.0</td>\n",
       "      <td>60.0</td>\n",
       "      <td>95.5</td>\n",
       "      <td>39.0</td>\n",
       "      <td>75.4</td>\n",
       "      <td>51.9</td>\n",
       "      <td>15.5</td>\n",
       "      <td>30.0</td>\n",
       "      <td>34.0</td>\n",
       "    </tr>\n",
       "    <tr>\n",
       "      <th>3</th>\n",
       "      <td>4</td>\n",
       "      <td>1</td>\n",
       "      <td>Vic</td>\n",
       "      <td>f</td>\n",
       "      <td>6.0</td>\n",
       "      <td>93.2</td>\n",
       "      <td>57.1</td>\n",
       "      <td>92.0</td>\n",
       "      <td>38.0</td>\n",
       "      <td>76.1</td>\n",
       "      <td>52.2</td>\n",
       "      <td>15.2</td>\n",
       "      <td>28.0</td>\n",
       "      <td>34.0</td>\n",
       "    </tr>\n",
       "    <tr>\n",
       "      <th>4</th>\n",
       "      <td>5</td>\n",
       "      <td>1</td>\n",
       "      <td>Vic</td>\n",
       "      <td>f</td>\n",
       "      <td>2.0</td>\n",
       "      <td>91.5</td>\n",
       "      <td>56.3</td>\n",
       "      <td>85.5</td>\n",
       "      <td>36.0</td>\n",
       "      <td>71.0</td>\n",
       "      <td>53.2</td>\n",
       "      <td>15.1</td>\n",
       "      <td>28.5</td>\n",
       "      <td>33.0</td>\n",
       "    </tr>\n",
       "  </tbody>\n",
       "</table>\n",
       "</div>"
      ]
     },
     "execution_count": 125,
     "metadata": {},
     "output_type": "execute_result"
    }
   ],
   "execution_count": 125
  },
  {
   "cell_type": "code",
   "metadata": {
    "ExecuteTime": {
     "end_time": "2024-07-23T16:30:33.147290Z",
     "start_time": "2024-07-23T16:30:33.142317Z"
    }
   },
   "source": [
    "data.info()"
   ],
   "outputs": [
    {
     "name": "stdout",
     "output_type": "stream",
     "text": [
      "<class 'pandas.core.frame.DataFrame'>\n",
      "RangeIndex: 104 entries, 0 to 103\n",
      "Data columns (total 14 columns):\n",
      " #   Column    Non-Null Count  Dtype  \n",
      "---  ------    --------------  -----  \n",
      " 0   case      104 non-null    int64  \n",
      " 1   site      104 non-null    int64  \n",
      " 2   Pop       104 non-null    object \n",
      " 3   sex       104 non-null    object \n",
      " 4   age       102 non-null    float64\n",
      " 5   hdlngth   104 non-null    float64\n",
      " 6   skullw    104 non-null    float64\n",
      " 7   totlngth  104 non-null    float64\n",
      " 8   taill     104 non-null    float64\n",
      " 9   footlgth  103 non-null    float64\n",
      " 10  earconch  104 non-null    float64\n",
      " 11  eye       104 non-null    float64\n",
      " 12  chest     104 non-null    float64\n",
      " 13  belly     104 non-null    float64\n",
      "dtypes: float64(10), int64(2), object(2)\n",
      "memory usage: 11.5+ KB\n"
     ]
    }
   ],
   "execution_count": 126
  },
  {
   "cell_type": "code",
   "metadata": {
    "ExecuteTime": {
     "end_time": "2024-07-23T16:30:34.204419Z",
     "start_time": "2024-07-23T16:30:33.148126Z"
    }
   },
   "source": [
    "data4=data[(data[\"Pop\"]==\"other\")].reset_index(drop=True)\n",
    "sns.heatmap(data4.select_dtypes(include=np.number).corr(method=\"pearson\"),annot=True)\n",
    "data4.hist()"
   ],
   "outputs": [
    {
     "data": {
      "text/plain": [
       "array([[<Axes: title={'center': 'case'}>,\n",
       "        <Axes: title={'center': 'site'}>,\n",
       "        <Axes: title={'center': 'age'}>],\n",
       "       [<Axes: title={'center': 'hdlngth'}>,\n",
       "        <Axes: title={'center': 'skullw'}>,\n",
       "        <Axes: title={'center': 'totlngth'}>],\n",
       "       [<Axes: title={'center': 'taill'}>,\n",
       "        <Axes: title={'center': 'footlgth'}>,\n",
       "        <Axes: title={'center': 'earconch'}>],\n",
       "       [<Axes: title={'center': 'eye'}>,\n",
       "        <Axes: title={'center': 'chest'}>,\n",
       "        <Axes: title={'center': 'belly'}>]], dtype=object)"
      ]
     },
     "execution_count": 127,
     "metadata": {},
     "output_type": "execute_result"
    },
    {
     "data": {
      "text/plain": [
       "<Figure size 640x480 with 2 Axes>"
      ],
      "image/png": "[encoded data removed]"
     },
     "metadata": {},
     "output_type": "display_data"
    },
    {
     "data": {
      "text/plain": [
       "<Figure size 640x480 with 12 Axes>"
      ],
      "image/png": "[encoded data removed]"
     },
     "metadata": {},
     "output_type": "display_data"
    }
   ],
   "execution_count": 127
  },
  {
   "cell_type": "code",
   "metadata": {
    "ExecuteTime": {
     "end_time": "2024-07-23T16:30:34.215018Z",
     "start_time": "2024-07-23T16:30:34.207360Z"
    }
   },
   "source": [
    "sum(data4.duplicated())"
   ],
   "outputs": [
    {
     "data": {
      "text/plain": [
       "0"
      ]
     },
     "execution_count": 128,
     "metadata": {},
     "output_type": "execute_result"
    }
   ],
   "execution_count": 128
  },
  {
   "cell_type": "code",
   "metadata": {
    "ExecuteTime": {
     "end_time": "2024-07-23T16:30:34.225044Z",
     "start_time": "2024-07-23T16:30:34.216315Z"
    }
   },
   "source": [
    "sum(data4.duplicated())"
   ],
   "outputs": [
    {
     "data": {
      "text/plain": [
       "0"
      ]
     },
     "execution_count": 129,
     "metadata": {},
     "output_type": "execute_result"
    }
   ],
   "execution_count": 129
  },
  {
   "cell_type": "code",
   "metadata": {
    "ExecuteTime": {
     "end_time": "2024-07-23T16:30:34.288640Z",
     "start_time": "2024-07-23T16:30:34.226105Z"
    }
   },
   "source": [
    "data4[[\"hdlngth\",\"skullw\"]].boxplot()"
   ],
   "outputs": [
    {
     "data": {
      "text/plain": [
       "<Axes: >"
      ]
     },
     "execution_count": 130,
     "metadata": {},
     "output_type": "execute_result"
    },
    {
     "data": {
      "text/plain": [
       "<Figure size 640x480 with 1 Axes>"
      ],
      "image/png": "[encoded data removed]"
     },
     "metadata": {},
     "output_type": "display_data"
    }
   ],
   "execution_count": 130
  },
  {
   "cell_type": "code",
   "metadata": {
    "ExecuteTime": {
     "end_time": "2024-07-23T16:30:34.295168Z",
     "start_time": "2024-07-23T16:30:34.289466Z"
    }
   },
   "source": [
    "for i in [\"hdlngth\",\"skullw\"]:\n",
    "    Q1 = data4[i].quantile(0.25)\n",
    "    Q3 = data4[i].quantile(0.75)\n",
    "    IQR = Q3 - Q1\n",
    "    threshold = 1.5\n",
    "    outliers = data4[(data4[i] < Q1 - threshold * IQR) | (data4[i] > Q3 + threshold * IQR)].index\n",
    "    data4.loc[outliers,i] = data4[i].median()"
   ],
   "outputs": [],
   "execution_count": 131
  },
  {
   "cell_type": "code",
   "metadata": {
    "ExecuteTime": {
     "end_time": "2024-07-23T16:30:34.379295Z",
     "start_time": "2024-07-23T16:30:34.296042Z"
    }
   },
   "source": [
    "data4[[\"hdlngth\",\"skullw\"]].boxplot()"
   ],
   "outputs": [
    {
     "data": {
      "text/plain": [
       "<Axes: >"
      ]
     },
     "execution_count": 132,
     "metadata": {},
     "output_type": "execute_result"
    },
    {
     "data": {
      "text/plain": [
       "<Figure size 640x480 with 1 Axes>"
      ],
      "image/png": "[encoded data removed]"
     },
     "metadata": {},
     "output_type": "display_data"
    }
   ],
   "execution_count": 132
  },
  {
   "cell_type": "code",
   "metadata": {
    "ExecuteTime": {
     "end_time": "2024-07-23T16:30:34.383595Z",
     "start_time": "2024-07-23T16:30:34.380443Z"
    }
   },
   "source": [
    "data4=data4[[\"hdlngth\",\"skullw\"]]"
   ],
   "outputs": [],
   "execution_count": 133
  },
  {
   "cell_type": "code",
   "metadata": {
    "ExecuteTime": {
     "end_time": "2024-07-23T16:30:34.391500Z",
     "start_time": "2024-07-23T16:30:34.384709Z"
    }
   },
   "source": [
    "transf2 = PolynomialFeatures(2)\n",
    "transformedData4 = transf2.fit_transform(data4[[\"hdlngth\"]],data4[[\"skullw\"]])\n",
    "transf = MinMaxScaler((0,1))\n",
    "transformedData4 = transf.fit_transform(transformedData4)"
   ],
   "outputs": [],
   "execution_count": 134
  },
  {
   "cell_type": "code",
   "metadata": {
    "ExecuteTime": {
     "end_time": "2024-07-23T16:30:34.566612Z",
     "start_time": "2024-07-23T16:30:34.393342Z"
    }
   },
   "source": [
    "X=transformedData4\n",
    "y=data4[\"skullw\"]\n",
    "model = LinearRegression().fit(X, y)\n",
    "pred = model.predict(X)\n",
    "temp = []\n",
    "for x in range(len(data4[\"hdlngth\"])):\n",
    "    temp.append([data4[\"hdlngth\"][x],pred[x]])\n",
    "temp.sort(key=lambda x: x[0])\n",
    "x = []\n",
    "y_pred = []\n",
    "for a in temp:\n",
    "    x.append(a[0])\n",
    "    y_pred.append(a[1])\n",
    "plt.scatter(x = data4[\"hdlngth\"], \n",
    "                y = data4[\"skullw\"])\n",
    "plt.plot(x, \n",
    "             y_pred, \n",
    "             color='purple')"
   ],
   "outputs": [
    {
     "data": {
      "text/plain": [
       "[<matplotlib.lines.Line2D at 0x7f07d98c6390>]"
      ]
     },
     "execution_count": 135,
     "metadata": {},
     "output_type": "execute_result"
    },
    {
     "data": {
      "text/plain": [
       "<Figure size 640x480 with 1 Axes>"
      ],
      "image/png": "[encoded data removed]"
     },
     "metadata": {},
     "output_type": "display_data"
    }
   ],
   "execution_count": 135
  }
 ],
 "metadata": {
  "kernelspec": {
   "display_name": "tf",
   "language": "python",
   "name": "python3"
  },
  "language_info": {
   "codemirror_mode": {
    "name": "ipython",
    "version": 3
   },
   "file_extension": ".py",
   "mimetype": "text/x-python",
   "name": "python",
   "nbconvert_exporter": "python",
   "pygments_lexer": "ipython3",
   "version": "3.9.17"
  }
 },
 "nbformat": 4,
 "nbformat_minor": 2
}

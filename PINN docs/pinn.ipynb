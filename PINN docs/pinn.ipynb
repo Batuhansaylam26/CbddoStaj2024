{
 "cells": [
  {
   "metadata": {
    "ExecuteTime": {
     "end_time": "2024-08-05T15:20:24.675318Z",
     "start_time": "2024-08-05T15:20:24.354977Z"
    }
   },
   "cell_type": "code",
   "source": [
    "from displacement import Displacement\n",
    "from calculationResonance import CalculationResonance\n",
    "import numpy as np"
   ],
   "id": "6576647e0c2a07f8",
   "outputs": [],
   "execution_count": 1
  },
  {
   "metadata": {},
   "cell_type": "markdown",
   "source": [
    "boundary: 3.10\n",
    "loss function: 3.1\n",
    "m=constant - page 14  bölüm 2.5\n",
    "\n",
    "\n",
    "Deep makalesinde 4.1i anla - 8. formüle  bak\n",
    "\n"
   ],
   "id": "dd9b56c4d003eef5"
  },
  {
   "metadata": {
    "ExecuteTime": {
     "end_time": "2024-08-05T15:20:24.678320Z",
     "start_time": "2024-08-05T15:20:24.676231Z"
    }
   },
   "cell_type": "code",
   "source": "disp=Displacement(nu=0.25,s=0.9194016867619661)",
   "id": "2e13d1421d73ab47",
   "outputs": [],
   "execution_count": 2
  },
  {
   "metadata": {
    "ExecuteTime": {
     "end_time": "2024-08-05T15:20:24.681091Z",
     "start_time": "2024-08-05T15:20:24.679012Z"
    }
   },
   "cell_type": "code",
   "source": [
    "omega=np.array([0.1,0.2,0.3,0.4,0.5,1,1.5,2,2.5,3,4,5,6,8,10,11,12])\n",
    "#omega=np.linspace(0.001,12,25)"
   ],
   "id": "8778972ae530410f",
   "outputs": [],
   "execution_count": 3
  },
  {
   "metadata": {
    "ExecuteTime": {
     "end_time": "2024-08-05T15:20:24.685225Z",
     "start_time": "2024-08-05T15:20:24.681643Z"
    }
   },
   "cell_type": "code",
   "source": "omega",
   "id": "1209122ca2e80b3b",
   "outputs": [
    {
     "data": {
      "text/plain": [
       "array([ 0.1,  0.2,  0.3,  0.4,  0.5,  1. ,  1.5,  2. ,  2.5,  3. ,  4. ,\n",
       "        5. ,  6. ,  8. , 10. , 11. , 12. ])"
      ]
     },
     "execution_count": 4,
     "metadata": {},
     "output_type": "execute_result"
    }
   ],
   "execution_count": 4
  },
  {
   "metadata": {
    "ExecuteTime": {
     "end_time": "2024-08-05T15:20:24.688539Z",
     "start_time": "2024-08-05T15:20:24.686230Z"
    }
   },
   "cell_type": "code",
   "source": "disp.A(omega)\n",
   "id": "abf821272a92495c",
   "outputs": [
    {
     "data": {
      "text/plain": [
       "array([ 0.10659106,  0.21318212,  0.31977318,  0.42636424,  0.5329553 ,\n",
       "        1.0659106 ,  1.59886589,  2.13182119,  2.66477649,  3.19773179,\n",
       "        4.26364238,  5.32955298,  6.39546358,  8.52728477, 10.65910596,\n",
       "       11.72501656, 12.79092715])"
      ]
     },
     "execution_count": 5,
     "metadata": {},
     "output_type": "execute_result"
    }
   ],
   "execution_count": 5
  },
  {
   "metadata": {
    "ExecuteTime": {
     "end_time": "2024-08-05T15:20:24.691372Z",
     "start_time": "2024-08-05T15:20:24.689131Z"
    }
   },
   "cell_type": "code",
   "source": "disp.V3RefinedPlate()\n",
   "id": "132ded6cb807246c",
   "outputs": [
    {
     "data": {
      "text/plain": [
       "array([-5.02571097e+01, -1.27541275e+01, -5.80486371e+00, -3.36786016e+00,\n",
       "       -2.23504421e+00, -6.85338172e-01, -3.59260167e-01, -2.25405257e-01,\n",
       "       -1.54723284e-01, -1.12482210e-01, -6.66908605e-02, -4.38616187e-02,\n",
       "       -3.09411291e-02, -1.76898681e-02, -1.14098172e-02, -9.45253056e-03,\n",
       "       -7.95751768e-03])"
      ]
     },
     "execution_count": 6,
     "metadata": {},
     "output_type": "execute_result"
    }
   ],
   "execution_count": 6
  },
  {
   "metadata": {
    "ExecuteTime": {
     "end_time": "2024-08-05T15:20:24.694180Z",
     "start_time": "2024-08-05T15:20:24.691941Z"
    }
   },
   "cell_type": "code",
   "source": "disp.V3SimpleComposite()",
   "id": "8f5b429de6b30a5e",
   "outputs": [
    {
     "data": {
      "text/plain": [
       "array([-49.99609782, -12.51581814,  -5.59100478,  -3.17993641,\n",
       "        -2.07422642,  -0.66601055,  -0.46861813,  -0.43728606,\n",
       "        -0.44285083,  -0.45456158,  -0.46746492,  -0.46160991,\n",
       "        -0.44354716,  -0.39423704,  -0.34551251,  -0.32370761,\n",
       "        -0.30381865])"
      ]
     },
     "execution_count": 7,
     "metadata": {},
     "output_type": "execute_result"
    }
   ],
   "execution_count": 7
  },
  {
   "metadata": {
    "ExecuteTime": {
     "end_time": "2024-08-05T15:20:24.696922Z",
     "start_time": "2024-08-05T15:20:24.694713Z"
    }
   },
   "cell_type": "code",
   "source": "disp.V3Rayleigh()",
   "id": "907844407cd294e9",
   "outputs": [
    {
     "data": {
      "text/plain": [
       "array([-41.748383  , -20.8741915 , -13.91612767, -10.43709575,\n",
       "        -8.3496766 ,  -4.1748383 ,  -2.78322553,  -2.08741915,\n",
       "        -1.66993532,  -1.39161277,  -1.04370958,  -0.83496766,\n",
       "        -0.69580638,  -0.52185479,  -0.41748383,  -0.37953075,\n",
       "        -0.34790319])"
      ]
     },
     "execution_count": 8,
     "metadata": {},
     "output_type": "execute_result"
    }
   ],
   "execution_count": 8
  },
  {
   "metadata": {
    "ExecuteTime": {
     "end_time": "2024-08-05T15:20:24.699761Z",
     "start_time": "2024-08-05T15:20:24.697578Z"
    }
   },
   "cell_type": "code",
   "source": "disp.V3Exact()",
   "id": "8f6f3c2aad927680",
   "outputs": [
    {
     "data": {
      "text/plain": [
       "array([-50.20269645, -12.70309463,  -5.75931407,  -3.3296885 ,\n",
       "        -2.20588509,  -0.71589001,  -0.45486801,  -0.38107889,\n",
       "        -0.36570516,  -0.37586489,  -0.42602596,  -0.47405309,\n",
       "        -0.49254688,  -0.45021257,  -0.37939225,  -0.34777971,\n",
       "        -0.3200754 ])"
      ]
     },
     "execution_count": 9,
     "metadata": {},
     "output_type": "execute_result"
    }
   ],
   "execution_count": 9
  },
  {
   "metadata": {
    "ExecuteTime": {
     "end_time": "2024-08-05T15:20:25.455803Z",
     "start_time": "2024-08-05T15:20:24.700307Z"
    }
   },
   "cell_type": "code",
   "source": [
    "import numpy as np\n",
    "import matplotlib.pyplot as plt\n",
    "from scipy.linalg import solve\n",
    "\n",
    "# Plate properties\n",
    "E = 210e9      # Young's modulus in Pascals\n",
    "nu = 0.3       # Poisson's ratio\n",
    "h = 0.01       # Plate thickness in meters\n",
    "q0 = 1000      # Uniform load in Pascals\n",
    "\n",
    "# Flexural rigidity\n",
    "D = E * h**3 / (12 * (1 - nu**2))\n",
    "\n",
    "# Discretization parameters\n",
    "Lx = Ly = 1.0  # Plate dimensions\n",
    "N = 50         # Number of grid points along one dimension\n",
    "dx = Lx / (N - 1)  # Grid spacing\n",
    "\n",
    "# Load distribution (uniform load)\n",
    "q = np.ones((N, N)) * q0\n",
    "\n",
    "# Create grid\n",
    "x = np.linspace(0, Lx, N)\n",
    "y = np.linspace(0, Ly, N)\n",
    "X, Y = np.meshgrid(x, y)\n",
    "\n",
    "# Initialize the displacement field\n",
    "w = np.zeros((N, N))\n",
    "\n",
    "# Finite difference coefficients\n",
    "coeff = D / dx**4\n",
    "A = np.zeros((N*N, N*N))\n",
    "b = np.zeros(N*N)\n",
    "\n",
    "def index(i, j):\n",
    "    return i * N + j\n",
    "\n",
    "# Fill the matrix A and vector b\n",
    "for i in range(1, N-1):\n",
    "    for j in range(1, N-1):\n",
    "        A[index(i, j), index(i, j)] = 4 * coeff\n",
    "        A[index(i, j), index(i+1, j)] = -coeff\n",
    "        A[index(i, j), index(i-1, j)] = -coeff\n",
    "        A[index(i, j), index(i, j+1)] = -coeff\n",
    "        A[index(i, j), index(i, j-1)] = -coeff\n",
    "        b[index(i, j)] = q[i, j]\n",
    "\n",
    "# Apply boundary conditions (simply supported)\n",
    "for i in range(N):\n",
    "    A[index(0, i), index(0, i)] = 1\n",
    "    A[index(N-1, i), index(N-1, i)] = 1\n",
    "    A[index(i, 0), index(i, 0)] = 1\n",
    "    A[index(i, N-1), index(i, N-1)] = 1\n",
    "\n",
    "# Solve the linear system\n",
    "w_flat = solve(A, b)\n",
    "w = w_flat.reshape((N, N))\n",
    "\n",
    "# Plot the results\n",
    "plt.figure(figsize=(8, 6))\n",
    "cp = plt.contourf(X, Y, w, cmap='viridis')\n",
    "plt.colorbar(cp)\n",
    "plt.title('Transverse Displacement of Kirchhoff Plate')\n",
    "plt.xlabel('x [m]')\n",
    "plt.ylabel('y [m]')\n",
    "plt.show()\n"
   ],
   "id": "85dadeb2b084ce73",
   "outputs": [
    {
     "data": {
      "text/plain": [
       "<Figure size 800x600 with 2 Axes>"
      ],
      "image/png": "[encoded data removed]"
     },
     "metadata": {},
     "output_type": "display_data"
    }
   ],
   "execution_count": 10
  },
  {
   "metadata": {
    "ExecuteTime": {
     "end_time": "2024-08-05T15:20:26.591716Z",
     "start_time": "2024-08-05T15:20:25.456862Z"
    }
   },
   "cell_type": "code",
   "source": [
    "import torch\n",
    "ti = 0                      # initial time\n",
    "tf = 1                      # final time\n",
    "nt = 300                    # number of time points\n",
    "t_train = torch.linspace(ti, tf, nt).reshape(-1, 1).requires_grad_(True)\n",
    "t_boundary = torch.tensor(0.).view(-1,1).requires_grad_(True)"
   ],
   "id": "33ebf317191c95b4",
   "outputs": [],
   "execution_count": 11
  },
  {
   "metadata": {
    "ExecuteTime": {
     "end_time": "2024-08-05T15:20:26.605753Z",
     "start_time": "2024-08-05T15:20:26.592542Z"
    }
   },
   "cell_type": "code",
   "source": "t_boundary.data",
   "id": "62ebc951894df93f",
   "outputs": [
    {
     "data": {
      "text/plain": [
       "tensor([[0.]])"
      ]
     },
     "execution_count": 12,
     "metadata": {},
     "output_type": "execute_result"
    }
   ],
   "execution_count": 12
  }
 ],
 "metadata": {
  "kernelspec": {
   "display_name": "Python 3",
   "language": "python",
   "name": "python3"
  },
  "language_info": {
   "codemirror_mode": {
    "name": "ipython",
    "version": 2
   },
   "file_extension": ".py",
   "mimetype": "text/x-python",
   "name": "python",
   "nbconvert_exporter": "python",
   "pygments_lexer": "ipython2",
   "version": "2.7.6"
  }
 },
 "nbformat": 4,
 "nbformat_minor": 5
}
